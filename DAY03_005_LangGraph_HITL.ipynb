{
 "cells": [
  {
   "cell_type": "markdown",
   "metadata": {},
   "source": [
    "#   LangGraph 활용 - 사용자 개입 (Human-in-the-Loop)\n",
    "\n",
    "---"
   ]
  },
  {
   "cell_type": "markdown",
   "metadata": {},
   "source": [
    "## 환경 설정 및 준비"
   ]
  },
  {
   "cell_type": "markdown",
   "metadata": {},
   "source": [
    "`(1) Env 환경변수`"
   ]
  },
  {
   "cell_type": "code",
   "execution_count": 2,
   "metadata": {},
   "outputs": [
    {
     "data": {
      "text/plain": [
       "True"
      ]
     },
     "execution_count": 2,
     "metadata": {},
     "output_type": "execute_result"
    }
   ],
   "source": [
    "from dotenv import load_dotenv\n",
    "load_dotenv()"
   ]
  },
  {
   "cell_type": "markdown",
   "metadata": {},
   "source": [
    "`(2) 기본 라이브러리`"
   ]
  },
  {
   "cell_type": "code",
   "execution_count": 1,
   "metadata": {},
   "outputs": [],
   "source": [
    "import os\n",
    "from glob import glob\n",
    "\n",
    "from pprint import pprint\n",
    "import json"
   ]
  },
  {
   "cell_type": "markdown",
   "metadata": {},
   "source": [
    "`(3) Langsmith tracing 설정`"
   ]
  },
  {
   "cell_type": "code",
   "execution_count": 3,
   "metadata": {},
   "outputs": [
    {
     "name": "stdout",
     "output_type": "stream",
     "text": [
      "true  # 모니터링 활성화할꺼냐\n"
     ]
    }
   ],
   "source": [
    "# Langsmith tracing 여부를 확인 (true: langsmith 추척 활성화, false: langsmith 추척 비활성화)\n",
    "import os\n",
    "print(os.getenv('LANGSMITH_TRACING'))"
   ]
  },
  {
   "cell_type": "markdown",
   "metadata": {},
   "source": [
    "---\n",
    "\n",
    "## **Human-in-the-Loop (사용자 개입)**\n",
    "\n",
    "- **HITL**는 AI 시스템에 인간의 판단과 전문성을 통합\n",
    "\n",
    "- **Breakpoints**로 특정 단계에서 실행 중지 가능\n",
    "    - **Breakpoint**는 LangGraph의 **체크포인트 기능** 기반으로 작동하는 시스템\n",
    "    - 각 노드 실행 후 그래프의 상태를 **스레드에 저장**하여 나중에도 접근 가능\n",
    "    - 그래프 실행을 특정 지점에서 **일시 중지**하고 사용자 승인 후 재개 가능\n",
    "\n",
    "- 사용자의 **입력**이나 **승인**을 기다리는 패턴으로 작동\n",
    "\n",
    "- 시스템 결정에 대한 **인간의 통제**와 **검증** 보장"
   ]
  },
  {
   "cell_type": "markdown",
   "metadata": {},
   "source": [
    "`(1) 문서 생성 및 검토 시스템`\n",
    "\n",
    "- **문서 생성** 단계에서 AI가 초안 작성\n",
    "- **검토 단계**에서 인간 전문가가 내용 검증\n",
    "- **수정 요청**시 AI가 피드백 반영하여 개선"
   ]
  },
  {
   "cell_type": "code",
   "execution_count": 4,
   "metadata": {},
   "outputs": [
    {
     "data": {
      "text/plain": [
       "<langgraph.graph.state.StateGraph at 0x1e6042d5af0>"
      ]
     },
     "execution_count": 4,
     "metadata": {},
     "output_type": "execute_result"
    }
   ],
   "source": [
    "from langgraph.graph import MessagesState, StateGraph, START, END\n",
    "from langchain_core.messages import HumanMessage, AIMessage\n",
    "from IPython.display import Image, display\n",
    "\n",
    "# 상태 정의\n",
    "class State(MessagesState):\n",
    "    draft: str     # 초안\n",
    "    is_approved: bool  # 승인 여부_(true or false)\n",
    "    feedback: str   # 피드백\n",
    "\n",
    "\n",
    "def generate_draft(state: State):\n",
    "    \"\"\"초안 생성\"\"\"\n",
    "    draft = \"이것은 AI가 생성한 문서 초안입니다.\"\n",
    "    return {\n",
    "        \"draft\": draft,\n",
    "        \"messages\": [AIMessage(content=f\"초안이 생성되었습니다:\\n\\n{draft}\")]\n",
    "    }\n",
    "\n",
    "def review_draft(state: State):\n",
    "    \"\"\"초안 검토\"\"\"\n",
    "    return {\n",
    "        \"messages\": [AIMessage(content=\"초안을 검토해주세요. 승인하시겠습니까?\")]\n",
    "    }\n",
    "\n",
    "def process_feedback(state: State):\n",
    "    \"\"\"피드백 처리\"\"\"\n",
    "    if state[\"is_approved\"]:\n",
    "        return {\n",
    "            \"messages\": [AIMessage(content=\"문서가 승인되었습니다.\")]\n",
    "        }\n",
    "    else:\n",
    "        return {\n",
    "            \"messages\": [AIMessage(content=f\"문서를 수정하였습니다. 피드백: {state['feedback']}\")]\n",
    "        }\n",
    "\n",
    "def should_continue(state: State):  # 조건부 엣지\n",
    "    \"\"\"계속 진행 여부 결정\"\"\"\n",
    "    if not state.get(\"is_approved\", False): #상태로 부터 승인  false면-> review 로 분기\n",
    "        return \"review\"                     # 아니면  end\n",
    "    return \"end\"\n",
    "\n",
    "\n",
    "# 그래프 설정\n",
    "builder = StateGraph(State)\n",
    "\n",
    "# 노드 추가\n",
    "builder.add_node(\"generate\", generate_draft)\n",
    "builder.add_node(\"review\", review_draft)\n",
    "builder.add_node(\"process\", process_feedback)\n",
    "\n",
    "# 엣지 추가\n",
    "builder.add_edge(START, \"generate\")\n",
    "builder.add_edge(\"generate\", \"review\")\n",
    "builder.add_edge(\"review\", \"process\")\n",
    "builder.add_conditional_edges(\n",
    "    \"process\",\n",
    "    should_continue,\n",
    "    {\n",
    "        \"review\": \"review\",\n",
    "        \"end\": END\n",
    "    }\n",
    ")\n"
   ]
  },
  {
   "cell_type": "markdown",
   "metadata": {},
   "source": [
    "`(2) 메모리 설정 및 컴파일`\n",
    "\n",
    "- **메모리 객체** 생성: `memory = MemorySaver()`\n",
    "- **워크플로우 컴파일**: `graph.compile()` 메서드 사용\n",
    "- **프로세스 중단점** 설정: `interrupt_before=[\"process\"]`\n"
   ]
  },
  {
   "cell_type": "code",
   "execution_count": 5,
   "metadata": {},
   "outputs": [
    {
     "data": {
      "image/png": "[encoded data removed]",
      "text/plain": [
       "<IPython.core.display.Image object>"
      ]
     },
     "metadata": {},
     "output_type": "display_data"
    }
   ],
   "source": [
    "from langgraph.checkpoint.memory import MemorySaver\n",
    "\n",
    "# 메모리 저장소 설정\n",
    "memory = MemorySaver()  # 체크포인트 필요\n",
    "\n",
    "# 그래프 컴파일\n",
    "\n",
    "# 프로세스 노드가 실행되기전 항상 먼전 브레이크포인트 생성. interrupt_before에 추가해둔 노드 \n",
    "graph = builder.compile(checkpointer=memory, interrupt_before=[\"process\"])  \n",
    "\n",
    "# 그래프 출력\n",
    "display(Image(graph.get_graph().draw_mermaid_png())) # 머메이드로 .."
   ]
  },
  {
   "cell_type": "markdown",
   "metadata": {},
   "source": [
    "`(3) 그래프 실행`"
   ]
  },
  {
   "cell_type": "code",
   "execution_count": 7,
   "metadata": {},
   "outputs": [
    {
     "name": "stdout",
     "output_type": "stream",
     "text": [
      "Event: {'generate': {'draft': '이것은 AI가 생성한 문서 초안입니다.', 'messages': [AIMessage(content='초안이 생성되었습니다:\\n\\n이것은 AI가 생성한 문서 초안입니다.', additional_kwargs={}, response_metadata={}, id='6c30eb6a-b5e4-4a39-8739-5eec42ef2d68')]}}\n",
      "Event: {'review': {'messages': [AIMessage(content='초안을 검토해주세요. 승인하시겠습니까?', additional_kwargs={}, response_metadata={}, id='6e0118a5-45bc-4242-813f-eb6d95889d47')]}}\n",
      "Event: {'__interrupt__': ()}\n"
     ]
    }
   ],
   "source": [
    "# 최초 메시지 및 스레드 설정 \n",
    "config = {\"configurable\": {\"thread_id\": \"1\"}}\n",
    "initial_input = {\n",
    "    \"messages\": [HumanMessage(content=\"간단한 이메일 초안을 작성해주세요.\")]\n",
    "}\n",
    "\n",
    "# 첫 번째 실행 - 중단점에서 실행을 멈춤 \n",
    "for event in graph.stream(initial_input, config):\n",
    "    print(f\"Event: {event}\")"
   ]
  },
  {
   "cell_type": "code",
   "execution_count": 8,
   "metadata": {},
   "outputs": [
    {
     "name": "stdout",
     "output_type": "stream",
     "text": [
      "승인 여부: None\n",
      "----------------------------------------------------------------------------------------------------\n",
      "초안: 이것은 AI가 생성한 문서 초안입니다.\n",
      "----------------------------------------------------------------------------------------------------\n",
      "피드백: None\n",
      "----------------------------------------------------------------------------------------------------\n",
      "메시지: \n",
      "human: 간단한 이메일 초안을 작성해주세요.\n",
      "****************************************************************************************************\n",
      "ai: 초안이 생성되었습니다:\n",
      "\n",
      "이것은 AI가 생성한 문서 초안입니다.\n",
      "****************************************************************************************************\n",
      "ai: 초안을 검토해주세요. 승인하시겠습니까?\n",
      "****************************************************************************************************\n",
      "human: 간단한 이메일 초안을 작성해주세요.\n",
      "****************************************************************************************************\n",
      "ai: 초안이 생성되었습니다:\n",
      "\n",
      "이것은 AI가 생성한 문서 초안입니다.\n",
      "****************************************************************************************************\n",
      "ai: 초안을 검토해주세요. 승인하시겠습니까?\n",
      "****************************************************************************************************\n"
     ]
    }
   ],
   "source": [
    "# 현재 상태 - 그래프 체크포인트 확인\n",
    "current_state = graph.get_state(config)\n",
    "\n",
    "print(f\"승인 여부: {current_state.values.get('is_approved')}\")\n",
    "print(\"-\"*100)\n",
    "print(f\"초안: {current_state.values.get('draft')}\")\n",
    "print(\"-\"*100)\n",
    "print(f\"피드백: {current_state.values.get('feedback')}\")\n",
    "print(\"-\"*100)\n",
    "print(\"메시지: \")\n",
    "for msg in current_state.values.get('messages', []):\n",
    "    print(f\"{msg.type}: {msg.content}\")\n",
    "    print(\"*\"*100)"
   ]
  },
  {
   "cell_type": "code",
   "execution_count": 9,
   "metadata": {},
   "outputs": [
    {
     "data": {
      "text/plain": [
       "('process',)"
      ]
     },
     "execution_count": 9,
     "metadata": {},
     "output_type": "execute_result"
    }
   ],
   "source": [
    "# 다음에 실행될 노드를 확인 \n",
    "current_state.next"
   ]
  },
  {
   "cell_type": "markdown",
   "metadata": {},
   "source": [
    "`(4) 사용자 개입 (HITL): 거부`\n",
    "\n",
    "- 사용자가 승인을 해주지 않는 경우, 피드백을 통해 다시 생성"
   ]
  },
  {
   "cell_type": "code",
   "execution_count": 10,
   "metadata": {},
   "outputs": [
    {
     "data": {
      "text/plain": [
       "{'configurable': {'thread_id': '1',\n",
       "  'checkpoint_ns': '',\n",
       "  'checkpoint_id': '1f03b93e-7a3a-6c51-8007-02f0baf67f16'}}"
      ]
     },
     "execution_count": 10,
     "metadata": {},
     "output_type": "execute_result"
    }
   ],
   "source": [
    "# 사용자 피드백 제공 (거부)\n",
    "human_feedback = {\n",
    "    \"is_approved\": False,\n",
    "    \"feedback\": \"문서 내용이 너무 간단합니다. 배경과 목적에 대한 내용을 추가해주세요.\"\n",
    "}\n",
    "graph.update_state(config, human_feedback)"
   ]
  },
  {
   "cell_type": "code",
   "execution_count": 11,
   "metadata": {},
   "outputs": [
    {
     "name": "stdout",
     "output_type": "stream",
     "text": [
      "승인 여부: False\n",
      "----------------------------------------------------------------------------------------------------\n",
      "피드백: 문서 내용이 너무 간단합니다. 배경과 목적에 대한 내용을 추가해주세요.\n"
     ]
    }
   ],
   "source": [
    "# 현재 상태 - 그래프 체크포인트 확인\n",
    "current_state = graph.get_state(config)\n",
    "\n",
    "print(f\"승인 여부: {current_state.values.get('is_approved')}\")\n",
    "print(\"-\"*100)\n",
    "print(f\"피드백: {current_state.values.get('feedback')}\")"
   ]
  },
  {
   "cell_type": "code",
   "execution_count": 12,
   "metadata": {},
   "outputs": [
    {
     "name": "stdout",
     "output_type": "stream",
     "text": [
      "Event: {'process': {'messages': [AIMessage(content='문서를 수정하였습니다. 피드백: 문서 내용이 너무 간단합니다. 배경과 목적에 대한 내용을 추가해주세요.', additional_kwargs={}, response_metadata={}, id='cf79c8d4-bf00-4db6-9c26-04b5fe9009e0')]}}\n",
      "Event: {'review': {'messages': [AIMessage(content='초안을 검토해주세요. 승인하시겠습니까?', additional_kwargs={}, response_metadata={}, id='20986e05-f5af-4b08-b530-0b5ffe1f828a')]}}\n",
      "Event: {'__interrupt__': ()}\n"
     ]
    }
   ],
   "source": [
    "# 실행 재개 (입력값을 None으로 지정하면 중단점부터 실행하는 의미)\n",
    "for event in graph.stream(None, config):  \n",
    "    print(f\"Event: {event}\")"
   ]
  },
  {
   "cell_type": "code",
   "execution_count": 13,
   "metadata": {},
   "outputs": [
    {
     "name": "stdout",
     "output_type": "stream",
     "text": [
      "승인 여부: False\n",
      "----------------------------------------------------------------------------------------------------\n",
      "초안: 이것은 AI가 생성한 문서 초안입니다.\n",
      "----------------------------------------------------------------------------------------------------\n",
      "피드백: 문서 내용이 너무 간단합니다. 배경과 목적에 대한 내용을 추가해주세요.\n",
      "----------------------------------------------------------------------------------------------------\n",
      "메시지: \n",
      "human: 간단한 이메일 초안을 작성해주세요.\n",
      "****************************************************************************************************\n",
      "ai: 초안이 생성되었습니다:\n",
      "\n",
      "이것은 AI가 생성한 문서 초안입니다.\n",
      "****************************************************************************************************\n",
      "ai: 초안을 검토해주세요. 승인하시겠습니까?\n",
      "****************************************************************************************************\n",
      "human: 간단한 이메일 초안을 작성해주세요.\n",
      "****************************************************************************************************\n",
      "ai: 초안이 생성되었습니다:\n",
      "\n",
      "이것은 AI가 생성한 문서 초안입니다.\n",
      "****************************************************************************************************\n",
      "ai: 초안을 검토해주세요. 승인하시겠습니까?\n",
      "****************************************************************************************************\n",
      "ai: 문서를 수정하였습니다. 피드백: 문서 내용이 너무 간단합니다. 배경과 목적에 대한 내용을 추가해주세요.\n",
      "****************************************************************************************************\n",
      "ai: 초안을 검토해주세요. 승인하시겠습니까?\n",
      "****************************************************************************************************\n"
     ]
    }
   ],
   "source": [
    "# 현재 상태 - 그래프 체크포인트 확인\n",
    "current_state = graph.get_state(config)\n",
    "\n",
    "print(f\"승인 여부: {current_state.values.get('is_approved')}\")\n",
    "print(\"-\"*100)\n",
    "print(f\"초안: {current_state.values.get('draft')}\")\n",
    "print(\"-\"*100)\n",
    "print(f\"피드백: {current_state.values.get('feedback')}\")\n",
    "print(\"-\"*100)\n",
    "print(\"메시지: \")\n",
    "for msg in current_state.values.get('messages', []):\n",
    "    print(f\"{msg.type}: {msg.content}\")\n",
    "    print(\"*\"*100)"
   ]
  },
  {
   "cell_type": "code",
   "execution_count": 14,
   "metadata": {},
   "outputs": [
    {
     "data": {
      "text/plain": [
       "('process',)"
      ]
     },
     "execution_count": 14,
     "metadata": {},
     "output_type": "execute_result"
    }
   ],
   "source": [
    "# 다음에 실행될 노드를 확인 \n",
    "current_state.next"
   ]
  },
  {
   "cell_type": "markdown",
   "metadata": {},
   "source": [
    "`(5) 사용자 개입 (HITL): 승인`\n",
    "\n",
    "- 사용자가 승인을 해서 최종 답변을 생성하고 종료"
   ]
  },
  {
   "cell_type": "code",
   "execution_count": 15,
   "metadata": {},
   "outputs": [
    {
     "data": {
      "text/plain": [
       "{'configurable': {'thread_id': '1',\n",
       "  'checkpoint_ns': '',\n",
       "  'checkpoint_id': '1f03b944-1990-6d7e-800a-e0d159291ade'}}"
      ]
     },
     "execution_count": 15,
     "metadata": {},
     "output_type": "execute_result"
    }
   ],
   "source": [
    "# 사용자 피드백 제공 (승인)\n",
    "human_feedback = {\n",
    "    \"is_approved\": True,\n",
    "    \"feedback\": \"내용에 만족합니다.\"\n",
    "}\n",
    "graph.update_state(config, human_feedback)"
   ]
  },
  {
   "cell_type": "code",
   "execution_count": 16,
   "metadata": {},
   "outputs": [
    {
     "name": "stdout",
     "output_type": "stream",
     "text": [
      "승인 여부: True\n",
      "----------------------------------------------------------------------------------------------------\n",
      "피드백: 내용에 만족합니다.\n"
     ]
    }
   ],
   "source": [
    "# 현재 상태 - 그래프 체크포인트 확인\n",
    "current_state = graph.get_state(config)\n",
    "\n",
    "print(f\"승인 여부: {current_state.values.get('is_approved')}\")\n",
    "print(\"-\"*100)\n",
    "print(f\"피드백: {current_state.values.get('feedback')}\")"
   ]
  },
  {
   "cell_type": "code",
   "execution_count": 17,
   "metadata": {},
   "outputs": [
    {
     "name": "stdout",
     "output_type": "stream",
     "text": [
      "Event: {'process': {'messages': [AIMessage(content='문서가 승인되었습니다.', additional_kwargs={}, response_metadata={}, id='20ea0629-9540-4c72-97de-b04b14cbccef')]}}\n"
     ]
    }
   ],
   "source": [
    "# 실행 재개 (입력값을 None으로 지정하면 중단점부터 실행하는 의미)\n",
    "for event in graph.stream(None, config):  # 중단점 부터 실행시, graph 실행하는 메소드에서 입력값 run\n",
    "    print(f\"Event: {event}\")"
   ]
  },
  {
   "cell_type": "code",
   "execution_count": 18,
   "metadata": {},
   "outputs": [
    {
     "name": "stdout",
     "output_type": "stream",
     "text": [
      "승인 여부: True\n",
      "----------------------------------------------------------------------------------------------------\n",
      "초안: 이것은 AI가 생성한 문서 초안입니다.\n",
      "----------------------------------------------------------------------------------------------------\n",
      "피드백: 내용에 만족합니다.\n",
      "----------------------------------------------------------------------------------------------------\n",
      "메시지: \n",
      "human: 간단한 이메일 초안을 작성해주세요.\n",
      "****************************************************************************************************\n",
      "ai: 초안이 생성되었습니다:\n",
      "\n",
      "이것은 AI가 생성한 문서 초안입니다.\n",
      "****************************************************************************************************\n",
      "ai: 초안을 검토해주세요. 승인하시겠습니까?\n",
      "****************************************************************************************************\n",
      "human: 간단한 이메일 초안을 작성해주세요.\n",
      "****************************************************************************************************\n",
      "ai: 초안이 생성되었습니다:\n",
      "\n",
      "이것은 AI가 생성한 문서 초안입니다.\n",
      "****************************************************************************************************\n",
      "ai: 초안을 검토해주세요. 승인하시겠습니까?\n",
      "****************************************************************************************************\n",
      "ai: 문서를 수정하였습니다. 피드백: 문서 내용이 너무 간단합니다. 배경과 목적에 대한 내용을 추가해주세요.\n",
      "****************************************************************************************************\n",
      "ai: 초안을 검토해주세요. 승인하시겠습니까?\n",
      "****************************************************************************************************\n",
      "ai: 문서가 승인되었습니다.\n",
      "****************************************************************************************************\n"
     ]
    }
   ],
   "source": [
    "# 현재 상태 - 그래프 체크포인트 확인\n",
    "current_state = graph.get_state(config)\n",
    "\n",
    "print(f\"승인 여부: {current_state.values.get('is_approved')}\")\n",
    "print(\"-\"*100)\n",
    "print(f\"초안: {current_state.values.get('draft')}\")\n",
    "print(\"-\"*100)\n",
    "print(f\"피드백: {current_state.values.get('feedback')}\")\n",
    "print(\"-\"*100)\n",
    "print(\"메시지: \")\n",
    "for msg in current_state.values.get('messages', []):\n",
    "    print(f\"{msg.type}: {msg.content}\")\n",
    "    print(\"*\"*100)"
   ]
  },
  {
   "cell_type": "code",
   "execution_count": 19,
   "metadata": {},
   "outputs": [
    {
     "data": {
      "text/plain": [
       "()"
      ]
     },
     "execution_count": 19,
     "metadata": {},
     "output_type": "execute_result"
    }
   ],
   "source": [
    "# 다음에 실행될 노드를 확인 \n",
    "current_state.next"
   ]
  }
 ],
 "metadata": {
  "kernelspec": {
   "display_name": ".venv",
   "language": "python",
   "name": "python3"
  },
  "language_info": {
   "codemirror_mode": {
    "name": "ipython",
    "version": 3
   },
   "file_extension": ".py",
   "mimetype": "text/x-python",
   "name": "python",
   "nbconvert_exporter": "python",
   "pygments_lexer": "ipython3",
   "version": "3.12.10"
  }
 },
 "nbformat": 4,
 "nbformat_minor": 2
}
