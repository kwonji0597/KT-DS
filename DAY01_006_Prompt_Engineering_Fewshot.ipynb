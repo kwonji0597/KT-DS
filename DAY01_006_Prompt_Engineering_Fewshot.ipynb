{
 "cells": [
  {
   "cell_type": "markdown",
   "metadata": {},
   "source": [
    "#  Few-shot 프롬프팅\n",
    "\n",
    "---"
   ]
  },
  {
   "cell_type": "markdown",
   "metadata": {},
   "source": [
    "# 환경 설정 및 준비"
   ]
  },
  {
   "cell_type": "markdown",
   "metadata": {},
   "source": [
    "`(1) Env 환경변수`"
   ]
  },
  {
   "cell_type": "code",
   "execution_count": 1,
   "metadata": {},
   "outputs": [
    {
     "data": {
      "text/plain": [
       "True"
      ]
     },
     "execution_count": 1,
     "metadata": {},
     "output_type": "execute_result"
    }
   ],
   "source": [
    "from dotenv import load_dotenv\n",
    "load_dotenv()"
   ]
  },
  {
   "cell_type": "markdown",
   "metadata": {},
   "source": [
    "`(2) 기본 라이브러리`"
   ]
  },
  {
   "cell_type": "code",
   "execution_count": 2,
   "metadata": {},
   "outputs": [],
   "source": [
    "import os\n",
    "from glob import glob\n",
    "\n",
    "from pprint import pprint\n",
    "import json"
   ]
  },
  {
   "cell_type": "markdown",
   "metadata": {},
   "source": [
    "`(3) LLM 설정`"
   ]
  },
  {
   "cell_type": "code",
   "execution_count": 3,
   "metadata": {},
   "outputs": [],
   "source": [
    "from langchain_openai import ChatOpenAI\n",
    "\n",
    "llm = ChatOpenAI(\n",
    "    model='gpt-4.1-mini',\n",
    "    temperature=0.3,\n",
    "    top_p=0.9\n",
    ")"
   ]
  },
  {
   "cell_type": "markdown",
   "metadata": {},
   "source": [
    "# **Zero-shot** 프롬프팅(예시없이 프롬프팅 해주는것)\n",
    "\n",
    "- **Zero-shot 프롬프팅**은 예시 없이 AI가 즉시 작업을 수행하는 기법입니다\n",
    "\n",
    "- 명확한 **지시사항**만으로 원하는 결과를 얻을 수 있어 **사용이 간단**합니다\n",
    "\n",
    "- 단순하고 직관적인 작업에 적합한 프롬프팅 방식이지만, 작업의 **복잡도에 따라 선택적 사용**이 필요합니다"
   ]
  },
  {
   "cell_type": "code",
   "execution_count": 4,
   "metadata": {},
   "outputs": [
    {
     "name": "stdout",
     "output_type": "stream",
     "text": [
      "인공지능 반도체 시장에서 삼성전자의 주요 경쟁업체는 다음과 같습니다:\n",
      "\n",
      "1. **엔비디아 (NVIDIA)**  \n",
      "   - 인공지능 및 딥러닝 연산에 최적화된 GPU(그래픽 처리 장치) 분야의 글로벌 선두주자입니다. 특히 데이터센터와 자율주행, AI 연구용 반도체 시장에서 강력한 입지를 가지고 있습니다.\n",
      "\n",
      "2. **인텔 (Intel)**  \n",
      "   - CPU뿐만 아니라 AI 가속기, FPGA, 그리고 AI 전용 칩 개발에 적극 투자하고 있습니다. 최근 AI 반도체 분야에서 경쟁력을 강화하기 위해 다양한 신제품과 인수합병을 진행 중입니다.\n",
      "\n",
      "3. **AMD (Advanced Micro Devices)**  \n",
      "   - 고성능 GPU와 CPU를 통해 AI 연산에 필요한 하드웨어를 공급하며, 엔비디아와 경쟁하고 있습니다. AI 및 머신러닝 워크로드에 적합한 제품을 개발 중입니다.\n",
      "\n",
      "4. **구글 (Google)**  \n",
      "   - 자체 개발한 TPU(Tensor Processing Unit)를 통해 클라우드 기반 AI 연산에 특화된 반도체를 공급하고 있습니다. AI 서비스와 연계된 반도체 시장에서 영향력이 큽니다.\n",
      "\n",
      "5. **화웨이 (Huawei)**  \n",
      "   - 자체 AI 칩셋인 Ascend 시리즈를 개발하여 중국 내수 시장과 글로벌 시장에서 경쟁력을 키우고 있습니다.\n",
      "\n",
      "6. **퀄컴 (Qualcomm)**  \n",
      "   - 모바일 AI 칩셋 분야에서 강점을 가지고 있으며, AI 연산을 지원하는 SoC(System on Chip)를 공급합니다.\n",
      "\n",
      "삼성전자는 메모리 반도체뿐 아니라 AI 연산에 특화된 비메모리 반도체 개발에도 집중하고 있으며, 위 경쟁사들과 기술력과 시장 점유율 확보를 위해 경쟁하고 있습니다.\n"
     ]
    }
   ],
   "source": [
    "from langchain_core.prompts import PromptTemplate\n",
    "from langchain_core.output_parsers import StrOutputParser\n",
    "\n",
    "# Zero-shot 프롬프트 템플릿 생성\n",
    "zero_shot_prompt = PromptTemplate(\n",
    "    input_variables=[\"topic\"],\n",
    "    template=\"다음 시장에서 삼성전자의 경쟁업체를 설명해주세요: {topic}\"\n",
    ")\n",
    "\n",
    "# 체인 생성\n",
    "chain = zero_shot_prompt | llm | StrOutputParser()\n",
    "\n",
    "# Zero-shot 실행\n",
    "topic = \"인공지능 반도체\"\n",
    "zero_shot_result = chain.invoke(input={\"topic\": topic}) \n",
    "\n",
    "print(zero_shot_result)"
   ]
  },
  {
   "cell_type": "code",
   "execution_count": 5,
   "metadata": {},
   "outputs": [
    {
     "name": "stdout",
     "output_type": "stream",
     "text": [
      "[답변]  \n",
      "인공지능 반도체 시장에서 삼성전자의 주요 경쟁업체는 현재 지배적인 위치를 차지하고 있는 엔비디아입니다. 뉴스에 따르면 삼성전자는 내년 초 자체 개발한 AI 가속기를 출시하여 엔비디아의 독점적 지위에 도전하려는 의지를 보이고 있으며, 이를 통해 AI 반도체 시장에서 경쟁력을 강화하고 세계 최고의 반도체 제조업체로서의 위상을 재확립하려 하고 있습니다. 따라서 엔비디아가 삼성전자의 가장 중요한 경쟁업체로 볼 수 있습니다.\n"
     ]
    }
   ],
   "source": [
    "# Zero-shot 프롬프팅 - 컨텍스트(Context) 제공 \n",
    "zero_shot_prompt = PromptTemplate(\n",
    "    input_variables=[\"context\", \"topic\"],\n",
    "    template=\"\"\"{topic} 시장에서 삼성전자의 경쟁업체를 설명해주세요. \n",
    "    반드시 다음 제시된 뉴스에 근거해서 답변하세요:\n",
    "\n",
    "    [뉴스]\n",
    "    {context}\n",
    "    \n",
    "    [답변]\n",
    "    \"\"\"\n",
    ")\n",
    "\n",
    "\n",
    "# 체인 생성\n",
    "chain = zero_shot_prompt | llm | StrOutputParser()\n",
    "\n",
    "# Zero-shot 실행\n",
    "context = \"\"\"삼성전자가 내년 초에 자체적으로 개발한 인공지능(AI) 가속기를 처음으로 출시할 예정이다. \n",
    "이는 AI 반도체 시장에서 지배적인 위치를 차지하고 있는 엔비디아의 독점을 도전하고, \n",
    "세계 최고의 반도체 제조업체로서의 지위를 다시 확립하려는 삼성전자의 노력으로 해석된다.\n",
    "\"\"\"\n",
    "\n",
    "topic = \"인공지능 반도체\"\n",
    "zero_shot_result = chain.invoke(input={\"context\": context, \"topic\": topic})\n",
    "\n",
    "print(zero_shot_result)"
   ]
  },
  {
   "cell_type": "markdown",
   "metadata": {},
   "source": [
    "# **One-shot** 프롬프팅\n",
    "\n",
    "- **One-shot 프롬프팅**은 하나의 예시를 통해 AI가 작업 패턴을 학습하는 기법입니다\n",
    "\n",
    "- **Zero-shot** 방식보다 더 나은 성능을 제공하며, **형식화된 작업**에 특히 효과적입니다\n",
    "\n",
    "- 단일 예시로 **품질 향상**이 가능하나, 해당 예시에 **과의존**할 수 있는 한계가 있습니다"
   ]
  },
  {
   "cell_type": "code",
   "execution_count": 6,
   "metadata": {},
   "outputs": [],
   "source": [
    "### One-shot 프롬프트 템플릿 생성\n",
    "# 1. Zero-shot 프롬프트 템플릿에 예시(example)를 포함하도록 수정\n",
    "# 2. input_variables에 example_topic과 example_response 추가\n",
    "\n",
    "from langchain_core.prompts import PromptTemplate\n",
    "from langchain_core.output_parsers import StrOutputParser\n",
    "\n",
    "one_shot_prompt = PromptTemplate(\n",
    "    input_variables=[\"example_topic\", \"example_response\", \"topic\"],\n",
    "    template=\"\"\"다음은 특정 시장에서 삼성전자의 경쟁업체를 설명하는 예시이다:\n",
    "\n",
    "시장: {example_topic}\n",
    "경쟁업체: {example_response}\n",
    "\n",
    "이제 다음 시장에서 삼성전자의 경쟁업체를 설명해주세요:\n",
    "시장: {topic}\"\"\"\n",
    ")\n",
    "\n",
    "# Example 데이터 설정\n",
    "example_topic = \"스마트폰\"\n",
    "example_response = \"\"\"애플: 프리미엄 시장에서 주요 경쟁사로, iPhone 시리즈로 경쟁\n",
    "샤오미: 중저가 시장에서 강세를 보이며 글로벌 시장 점유율 확대\n",
    "구글: Pixel 시리즈로 프리미엄 시장 진출, AI 기능 강조\"\"\""
   ]
  },
  {
   "cell_type": "markdown",
   "metadata": {},
   "source": [
    "`(1) PromptTemplate 그대로 사용`"
   ]
  },
  {
   "cell_type": "code",
   "execution_count": 7,
   "metadata": {},
   "outputs": [
    {
     "name": "stdout",
     "output_type": "stream",
     "text": [
      "one_shot_result:\n",
      "시장: 인공지능 반도체  \n",
      "경쟁업체:  \n",
      "- 엔비디아(NVIDIA): AI 연산에 최적화된 GPU 및 AI 가속기 분야의 글로벌 선두주자로, 데이터센터 및 자율주행 등 다양한 AI 응용처에서 강력한 입지를 보유  \n",
      "- AMD: 고성능 GPU와 AI 가속기 개발에 집중하며, AI 및 머신러닝 워크로드 지원을 확대  \n",
      "- 구글(Google): 자체 개발한 TPU(Tensor Processing Unit)를 통해 클라우드 기반 AI 연산에 특화된 반도체 제공  \n",
      "- 인텔(Intel): AI 전용 칩과 FPGA, 신경망 처리 장치(NPU) 개발에 투자하며 AI 반도체 시장에서 경쟁력 강화  \n",
      "- 화웨이(Huawei): AI 칩셋인 Ascend 시리즈를 통해 중국 및 글로벌 시장에서 AI 반도체 기술력 확대 중\n"
     ]
    }
   ],
   "source": [
    "# one_shot_prompt 적용한 체인 생성\n",
    "chain = one_shot_prompt | llm | StrOutputParser()\n",
    "\n",
    "# One-shot 실행\n",
    "topic = \"인공지능 반도체\"\n",
    "one_shot_result = chain.invoke(\n",
    "    input={\n",
    "        \"example_topic\": example_topic,\n",
    "        \"example_response\": example_response,\n",
    "        \"topic\": topic\n",
    "    }\n",
    ")\n",
    "\n",
    "print(f\"one_shot_result:\")\n",
    "print(one_shot_result)"
   ]
  },
  {
   "cell_type": "markdown",
   "metadata": {},
   "source": [
    "`(2) partial 메소드 사용`"
   ]
  },
  {
   "cell_type": "code",
   "execution_count": 8,
   "metadata": {},
   "outputs": [
    {
     "name": "stdout",
     "output_type": "stream",
     "text": [
      "partial_prompt:\n",
      "input_variables=['topic'] input_types={} partial_variables={'example_topic': '스마트폰', 'example_response': '애플: 프리미엄 시장에서 주요 경쟁사로, iPhone 시리즈로 경쟁\\n샤오미: 중저가 시장에서 강세를 보이며 글로벌 시장 점유율 확대\\n구글: Pixel 시리즈로 프리미엄 시장 진출, AI 기능 강조'} template='다음은 특정 시장에서 삼성전자의 경쟁업체를 설명하는 예시이다:\\n\\n시장: {example_topic}\\n경쟁업체: {example_response}\\n\\n이제 다음 시장에서 삼성전자의 경쟁업체를 설명해주세요:\\n시장: {topic}'\n",
      "one_shot_result:\n",
      "시장: 인공지능 반도체  \n",
      "경쟁업체:  \n",
      "- 엔비디아(NVIDIA): AI 반도체 시장의 선두주자로, GPU 기반의 고성능 AI 연산 칩을 제공하며 데이터센터와 자율주행 등 다양한 분야에서 강력한 입지 확보  \n",
      "- AMD: 고성능 GPU 및 AI 가속기 제품을 통해 AI 연산 시장에 진출, 엔비디아와 경쟁하며 서버 및 클라우드 시장 공략  \n",
      "- 구글(Google): 자체 개발한 TPU(Tensor Processing Unit)를 통해 AI 연산에 최적화된 반도체를 제공, 클라우드 AI 서비스와 연계하여 경쟁력 강화  \n",
      "- 인텔(Intel): AI 전용 칩과 FPGA, Movidius 비전 프로세서 등 다양한 AI 반도체 제품을 개발하며 데이터센터 및 엣지 컴퓨팅 시장에서 경쟁  \n",
      "- 화웨이(Huawei): 자체 개발한 AI 칩인 Ascend 시리즈를 통해 중국 내수 및 글로벌 시장에서 AI 반도체 사업 확장 중\n"
     ]
    }
   ],
   "source": [
    "# Example 데이터를 반영한 부분 프롬프트 출력 \n",
    "partial_prompt = one_shot_prompt.partial(\n",
    "    example_topic=example_topic,\n",
    "    example_response=example_response,\n",
    ")\n",
    "\n",
    "print(f\"partial_prompt:\")\n",
    "print(partial_prompt)\n",
    "\n",
    "# 체인 생성\n",
    "chain = partial_prompt | llm | StrOutputParser()\n",
    "\n",
    "# One-shot 실행\n",
    "topic = \"인공지능 반도체\"\n",
    "one_shot_result = chain.invoke(input={\"topic\": topic})\n",
    "\n",
    "print(f\"one_shot_result:\")\n",
    "print(one_shot_result)"
   ]
  },
  {
   "cell_type": "markdown",
   "metadata": {},
   "source": [
    "# **Few-shot** 프롬프팅 (예시는 2~5개 정도가 적절하다)\n",
    "\n",
    "- **Few-shot 프롬프팅**은 AI 모델에게 2-5개의 예시를 제공하여 학습시키는 방법입니다\n",
    "\n",
    "- 이 방식은 **Zero-shot**이나 **One-shot** 프롬프팅보다 더 우수한 성능을 보여주며, 복잡한 작업에서 특히 효과적입니다\n",
    "\n",
    "- Few-shot 프롬프팅은 높은 성능을 제공하지만, 긴 프롬프트로 인한 **비용 증가**를 고려해야 합니다"
   ]
  },
  {
   "cell_type": "markdown",
   "metadata": {},
   "source": [
    "`(1) PromptTemplate 사용`"
   ]
  },
  {
   "cell_type": "code",
   "execution_count": 9,
   "metadata": {},
   "outputs": [
    {
     "name": "stdout",
     "output_type": "stream",
     "text": [
      "시장: 인공지능 반도체  \n",
      "경쟁업체:  \n",
      "- 엔비디아(미국): GPU 기반 AI 연산 시장 선도, 데이터센터 및 자율주행용 칩 강세  \n",
      "- AMD(미국): 고성능 GPU 및 CPU 통합 솔루션 제공, AI 및 머신러닝 가속화  \n",
      "- 화웨이(중국): 자체 개발 AI 칩셋(Ascend)으로 중국 내 시장 확대  \n",
      "- 텐센트(중국): AI 칩 개발 및 클라우드 AI 서비스 강화  \n",
      "- 인텔(미국): AI 전용 가속기 및 FPGA 기반 솔루션 제공, 데이터센터 AI 시장 공략\n"
     ]
    }
   ],
   "source": [
    "from langchain_core.prompts import PromptTemplate\n",
    "from langchain_core.output_parsers import StrOutputParser\n",
    "\n",
    "# Few-shot 프롬프트 템플릿 생성 \n",
    "few_shot_prompt = PromptTemplate(\n",
    "   input_variables=[\"examples\", \"topic\"],\n",
    "   template=\"\"\"다음은 여러 시장에서 삼성전자의 경쟁업체를 설명하는 예시들이다:\n",
    "\n",
    "{examples}\n",
    "\n",
    "이제 다음 시장에서 삼성전자의 경쟁업체를 설명해주세요:\n",
    "시장: {topic}\"\"\"\n",
    ")\n",
    "\n",
    "# Example 데이터 준비\n",
    "examples = \"\"\"\n",
    "시장: 스마트폰\n",
    "경쟁업체: \n",
    "- 애플(미국): 프리미엄 시장 주도, iPhone으로 경쟁\n",
    "- 샤오미(중국): 중저가 시장 강세, 글로벌 확장중\n",
    "- 구글(미국): Pixel로 AI 기능 강조\n",
    "\n",
    "시장: TV\n",
    "경쟁업체:\n",
    "- LG전자(한국): OLED 기술 경쟁\n",
    "- Sony(일본): 프리미엄 시장 경쟁\n",
    "- TCL(중국): 중저가 시장 공략\n",
    "\"\"\"\n",
    "\n",
    "# 체인 생성 및 실행\n",
    "chain = few_shot_prompt | llm | StrOutputParser()\n",
    "result = chain.invoke({\n",
    "   \"examples\": examples,\n",
    "   \"topic\": \"인공지능 반도체\"\n",
    "})\n",
    "\n",
    "print(result)"
   ]
  },
  {
   "cell_type": "markdown",
   "metadata": {},
   "source": [
    "`(2) partial 메소드 사용`"
   ]
  },
  {
   "cell_type": "code",
   "execution_count": 10,
   "metadata": {},
   "outputs": [
    {
     "name": "stdout",
     "output_type": "stream",
     "text": [
      "partial_prompt:\n",
      "input_variables=['topic'] input_types={} partial_variables={'examples': '\\n시장: 스마트폰\\n경쟁업체: \\n- 애플(미국): 프리미엄 시장 주도, iPhone으로 경쟁\\n- 샤오미(중국): 중저가 시장 강세, 글로벌 확장중\\n- 구글(미국): Pixel로 AI 기능 강조\\n\\n시장: TV\\n경쟁업체:\\n- LG전자(한국): OLED 기술 경쟁\\n- Sony(일본): 프리미엄 시장 경쟁\\n- TCL(중국): 중저가 시장 공략\\n'} template='다음은 여러 시장에서 삼성전자의 경쟁업체를 설명하는 예시들이다:\\n\\n{examples}\\n\\n이제 다음 시장에서 삼성전자의 경쟁업체를 설명해주세요:\\n시장: {topic}'\n"
     ]
    }
   ],
   "source": [
    "# partial 메서드를 사용하여 Few-shot 프롬프트 템플릿 생성\n",
    "partial_prompt = few_shot_prompt.partial(\n",
    "    examples=examples\n",
    ")\n",
    "\n",
    "print(f\"partial_prompt:\")\n",
    "print(partial_prompt)"
   ]
  },
  {
   "cell_type": "code",
   "execution_count": 11,
   "metadata": {},
   "outputs": [
    {
     "name": "stdout",
     "output_type": "stream",
     "text": [
      "few_shot_result:\n",
      "시장: 인공지능 반도체  \n",
      "경쟁업체:  \n",
      "- 엔비디아(미국): GPU 기반 AI 연산 시장 선도, 데이터센터 및 자율주행용 AI 칩 강세  \n",
      "- AMD(미국): 고성능 GPU 및 AI 가속기 개발, 클라우드 및 게이밍 시장 확장  \n",
      "- 화웨이(중국): 자체 AI 칩인 Ascend 시리즈로 중국 내수 및 글로벌 시장 공략  \n",
      "- 텐센트(중국): AI 반도체 연구 투자 확대, 클라우드 AI 서비스와 연계  \n",
      "- 인텔(미국): FPGA 및 AI 전용 칩 개발, 데이터센터 및 엣지 컴퓨팅 시장 겨냥\n"
     ]
    }
   ],
   "source": [
    "# 체인 생성\n",
    "chain = partial_prompt | llm | StrOutputParser()\n",
    "\n",
    "# Few-shot 실행\n",
    "topic = \"인공지능 반도체\"\n",
    "few_shot_result = chain.invoke(input={\"topic\": topic})\n",
    "\n",
    "print(f\"few_shot_result:\")\n",
    "print(few_shot_result)"
   ]
  },
  {
   "cell_type": "markdown",
   "metadata": {},
   "source": [
    "`(3) FewShotChatMessagePromptTemplate 사용`\n",
    "\n",
    "* FewShotChatMessagePromptTemplate는 LangChain에서 제공하는 템플릿으로, **미리 정의된 고정된 예제들(Fixed Examples)** 을 프롬프트에 포함시켜 모델이 일관된 형식과 품질의 응답을 생성할 수 있도록 돕습니다.\n",
    "\n",
    "* 이 방식은 특히 특정 형식이나 구조를 가진 출력이 필요한 경우(예: JSON 형식, 특정 분석 리포트 형식 등) 매우 유용하며, 예제들이 고정되어 있어 결과의 일관성을 보장할 수 있습니다.\n",
    "\n",
    "* 단, 고정된 예제를 사용하기 때문에 상황에 따라 유연하게 대응하기 어려울 수 있으며, 모든 케이스를 커버하기 위해서는 신중한 예제 선택이 필요합니다."
   ]
  },
  {
   "cell_type": "code",
   "execution_count": 12,
   "metadata": {},
   "outputs": [
    {
     "name": "stdout",
     "output_type": "stream",
     "text": [
      "[HumanMessage(content='\\n정부는 의과대학 입학 정원을 2000명 증가시킬 계획의 세부사항을 이달 20일에 공개할 예정이다. \\n지역별 의료 서비스 향상과 소규모 의과대학의 발전을 목표로, 지역 중심의 국립대학 및 소형 의과대학의 \\n입학 정원이 최소한 두 배 가량 확대될 것으로 보인다.\\n', additional_kwargs={}, response_metadata={}),\n",
      " AIMessage(content='의대 | 정원 | 확대', additional_kwargs={}, response_metadata={}),\n",
      " HumanMessage(content='\\n세계보건기구(WHO)는 최근 새로운 건강 위기에 대응하기 위해 국제 협력의 중요성을 강조했다. \\n전염병 대응 역량의 강화와 글로벌 보건 시스템의 개선이 필요하다고 발표했다.\\n', additional_kwargs={}, response_metadata={}),\n",
      " AIMessage(content='세계보건기구 | 건강위기 | 국제', additional_kwargs={}, response_metadata={})]\n"
     ]
    }
   ],
   "source": [
    "from langchain_core.prompts import ChatPromptTemplate, FewShotChatMessagePromptTemplate\n",
    "from textwrap import dedent # text의 모든 줄에서 같은 선행 공백을 제거하는 함수\n",
    "\n",
    "# 예시 데이터 정의 : 뉴스 텍스트(input) + 키워드 추출 결과 (output)\n",
    "examples = [\n",
    "    {\n",
    "        \"input\": dedent(\"\"\"\n",
    "                        정부는 의과대학 입학 정원을 2000명 증가시킬 계획의 세부사항을 이달 20일에 공개할 예정이다. \n",
    "                        지역별 의료 서비스 향상과 소규모 의과대학의 발전을 목표로, 지역 중심의 국립대학 및 소형 의과대학의 \n",
    "                        입학 정원이 최소한 두 배 가량 확대될 것으로 보인다.\n",
    "                        \"\"\"),\n",
    "        \"output\": \"의대 | 정원 | 확대\"\n",
    "    },\n",
    "    {\n",
    "        \"input\": dedent(\"\"\"\n",
    "                        세계보건기구(WHO)는 최근 새로운 건강 위기에 대응하기 위해 국제 협력의 중요성을 강조했다. \n",
    "                        전염병 대응 역량의 강화와 글로벌 보건 시스템의 개선이 필요하다고 발표했다.\n",
    "                        \"\"\"),\n",
    "        \"output\": \"세계보건기구 | 건강위기 | 국제\"\n",
    "    }\n",
    "]\n",
    "\n",
    "# 각 예시를 포맷팅할 프롬프트 템플릿\n",
    "example_prompt = ChatPromptTemplate.from_messages([\n",
    "    (\"human\", \"{input}\"),\n",
    "    (\"assistant\", \"{output}\")\n",
    "])\n",
    "\n",
    "# Few-shot 프롬프트 템플릿 생성\n",
    "few_shot_prompt = FewShotChatMessagePromptTemplate(\n",
    "    example_prompt=example_prompt,      # 예시 포맷팅 템플릿\n",
    "    examples=examples                   # 예시 데이터 리스트 -> 예시 포맷팅 템플릿에 적용\n",
    ")\n",
    "\n",
    "pprint(few_shot_prompt.invoke({}).to_messages())"
   ]
  },
  {
   "cell_type": "code",
   "execution_count": 13,
   "metadata": {},
   "outputs": [
    {
     "name": "stdout",
     "output_type": "stream",
     "text": [
      "[SystemMessage(content='당신은 뉴스 텍스트에서 핵심 키워드 3개를 추출하는 전문가입니다.', additional_kwargs={}, response_metadata={}),\n",
      " HumanMessage(content='\\n정부는 의과대학 입학 정원을 2000명 증가시킬 계획의 세부사항을 이달 20일에 공개할 예정이다. \\n지역별 의료 서비스 향상과 소규모 의과대학의 발전을 목표로, 지역 중심의 국립대학 및 소형 의과대학의 \\n입학 정원이 최소한 두 배 가량 확대될 것으로 보인다.\\n', additional_kwargs={}, response_metadata={}),\n",
      " AIMessage(content='의대 | 정원 | 확대', additional_kwargs={}, response_metadata={}),\n",
      " HumanMessage(content='\\n세계보건기구(WHO)는 최근 새로운 건강 위기에 대응하기 위해 국제 협력의 중요성을 강조했다. \\n전염병 대응 역량의 강화와 글로벌 보건 시스템의 개선이 필요하다고 발표했다.\\n', additional_kwargs={}, response_metadata={}),\n",
      " AIMessage(content='세계보건기구 | 건강위기 | 국제', additional_kwargs={}, response_metadata={}),\n",
      " HumanMessage(content='뉴스 기사입니다', additional_kwargs={}, response_metadata={})]\n"
     ]
    }
   ],
   "source": [
    "# 최종 프롬프트 템플릿 생성\n",
    "final_prompt = ChatPromptTemplate.from_messages([\n",
    "    (\"system\", \"당신은 뉴스 텍스트에서 핵심 키워드 3개를 추출하는 전문가입니다.\"),\n",
    "    few_shot_prompt,\n",
    "    (\"human\", \"{input}\")\n",
    "])\n",
    "\n",
    "# 프롬프트 템플릿 출력\n",
    "pprint(final_prompt.invoke({\"input\": \"뉴스 기사입니다\"}).to_messages())"
   ]
  },
  {
   "cell_type": "code",
   "execution_count": 14,
   "metadata": {},
   "outputs": [
    {
     "name": "stdout",
     "output_type": "stream",
     "text": [
      "삼성전자 | AI 가속기 | 반도체\n"
     ]
    }
   ],
   "source": [
    "# 키워드 추출 체인 생성\n",
    "chain = final_prompt | llm | StrOutputParser()\n",
    "\n",
    "# 키워드 추출 체인 실행\n",
    "result = chain.invoke({\n",
    "    \"input\": dedent(\"\"\"삼성전자가 내년 초에 자체적으로 개발한 인공지능(AI) 가속기를 처음으로 출시할 예정이다. \n",
    "                    이는 AI 반도체 시장에서 지배적인 위치를 차지하고 있는 엔비디아의 독점을 도전하고, \n",
    "                    세계 최고의 반도체 제조업체로서의 지위를 다시 확립하려는 삼성전자의 노력으로 해석된다.\"\"\")\n",
    "})\n",
    "\n",
    "print(result)"
   ]
  },
  {
   "cell_type": "markdown",
   "metadata": {},
   "source": [
    "`(4) Dynamic Few-Shot Prompting`\n",
    "\n",
    "* **Dynamic Few-Shot Prompting**은 상황에 따라 적절한 예시를 동적으로 선택하여 사용하는 고급 프롬프팅 기법으로, **BaseExampleSelector**를 통해 입력값과 가장 연관성이 높은 예시들을 자동으로 선별합니다.\n",
    "\n",
    "* 대표적으로 **SemanticSimilarityExampleSelector**는 의미적 유사도를 기반으로 예시를 선택하며, 이를 통해 주어진 입력 상황에 가장 적합한 예시들만을 효율적으로 활용할 수 있습니다.\n",
    "\n",
    "* **example_prompt**를 통해 선택된 예시들을 AI 시스템이 이해하기 쉬운 형태(예: human-AI 대화 , human-function call)로 변환하여 더 효과적인 학습과 응답 생성이 가능하게 합니다.\n",
    "\n",
    "Semantic 맥락을 기반으로 검색한다는 뜻\n",
    "- **장점**\n",
    "\n",
    "    - 상황에 맞는 가장 연관성 높은 예시만을 선택적으로 활용할 수 있다\n",
    "    - 프롬프트의 길이를 효율적으로 관리할 수 있다\n",
    "    - 응답의 일관성과 품질을 향상시킬 수 있다"
   ]
  },
  {
   "cell_type": "code",
   "execution_count": 19,
   "metadata": {},
   "outputs": [
    {
     "ename": "NotFoundError",
     "evalue": "Error code: 404 - {'error': {'message': 'The model `bge-m3` does not exist or you do not have access to it.', 'type': 'invalid_request_error', 'param': None, 'code': 'model_not_found'}}",
     "output_type": "error",
     "traceback": [
      "\u001b[31m---------------------------------------------------------------------------\u001b[39m",
      "\u001b[31mNotFoundError\u001b[39m                             Traceback (most recent call last)",
      "\u001b[36mCell\u001b[39m\u001b[36m \u001b[39m\u001b[32mIn[19]\u001b[39m\u001b[32m, line 31\u001b[39m\n\u001b[32m     28\u001b[39m embeddings = OpenAIEmbeddings(model=\u001b[33m\"\u001b[39m\u001b[33mbge-m3\u001b[39m\u001b[33m\"\u001b[39m)\n\u001b[32m     30\u001b[39m \u001b[38;5;66;03m# 벡터 스토어 생성\u001b[39;00m\n\u001b[32m---> \u001b[39m\u001b[32m31\u001b[39m vector_store = \u001b[43mInMemoryVectorStore\u001b[49m\u001b[43m.\u001b[49m\u001b[43mfrom_texts\u001b[49m\u001b[43m(\u001b[49m\n\u001b[32m     32\u001b[39m \u001b[43m    \u001b[49m\u001b[43mto_vectorize\u001b[49m\u001b[43m,\u001b[49m\u001b[43m    \u001b[49m\u001b[38;5;66;43;03m# 벡터화할 텍스트 리스트\u001b[39;49;00m\n\u001b[32m     33\u001b[39m \u001b[43m    \u001b[49m\u001b[43membeddings\u001b[49m\u001b[43m,\u001b[49m\u001b[43m      \u001b[49m\u001b[38;5;66;43;03m# 임베딩 모델\u001b[39;49;00m\n\u001b[32m     34\u001b[39m \u001b[43m    \u001b[49m\u001b[43mmetadatas\u001b[49m\u001b[43m=\u001b[49m\u001b[43mexamples\u001b[49m\u001b[43m    \u001b[49m\u001b[38;5;66;43;03m# 메타데이터: 예시 데이터\u001b[39;49;00m\n\u001b[32m     35\u001b[39m \u001b[43m    \u001b[49m\u001b[43m)\u001b[49m\n\u001b[32m     37\u001b[39m \u001b[38;5;66;03m# VectorStore에 저장된 Document 개수 확인\u001b[39;00m\n\u001b[32m     38\u001b[39m \u001b[38;5;28mprint\u001b[39m(\u001b[33mf\u001b[39m\u001b[33m\"\u001b[39m\u001b[33mVectorStore에 저장된 Document 개수: \u001b[39m\u001b[38;5;132;01m{\u001b[39;00m\u001b[38;5;28mlen\u001b[39m(vector_store.store.keys())\u001b[38;5;132;01m}\u001b[39;00m\u001b[33m\"\u001b[39m)\n",
      "\u001b[36mFile \u001b[39m\u001b[32mc:\\Users\\User\\kt-ds\\.venv\\Lib\\site-packages\\langchain_core\\vectorstores\\in_memory.py:567\u001b[39m, in \u001b[36mInMemoryVectorStore.from_texts\u001b[39m\u001b[34m(cls, texts, embedding, metadatas, **kwargs)\u001b[39m\n\u001b[32m    555\u001b[39m \u001b[38;5;129m@classmethod\u001b[39m\n\u001b[32m    556\u001b[39m \u001b[38;5;129m@override\u001b[39m\n\u001b[32m    557\u001b[39m \u001b[38;5;28;01mdef\u001b[39;00m\u001b[38;5;250m \u001b[39m\u001b[34mfrom_texts\u001b[39m(\n\u001b[32m   (...)\u001b[39m\u001b[32m    562\u001b[39m     **kwargs: Any,\n\u001b[32m    563\u001b[39m ) -> InMemoryVectorStore:\n\u001b[32m    564\u001b[39m     store = \u001b[38;5;28mcls\u001b[39m(\n\u001b[32m    565\u001b[39m         embedding=embedding,\n\u001b[32m    566\u001b[39m     )\n\u001b[32m--> \u001b[39m\u001b[32m567\u001b[39m     \u001b[43mstore\u001b[49m\u001b[43m.\u001b[49m\u001b[43madd_texts\u001b[49m\u001b[43m(\u001b[49m\u001b[43mtexts\u001b[49m\u001b[43m=\u001b[49m\u001b[43mtexts\u001b[49m\u001b[43m,\u001b[49m\u001b[43m \u001b[49m\u001b[43mmetadatas\u001b[49m\u001b[43m=\u001b[49m\u001b[43mmetadatas\u001b[49m\u001b[43m,\u001b[49m\u001b[43m \u001b[49m\u001b[43m*\u001b[49m\u001b[43m*\u001b[49m\u001b[43mkwargs\u001b[49m\u001b[43m)\u001b[49m\n\u001b[32m    568\u001b[39m     \u001b[38;5;28;01mreturn\u001b[39;00m store\n",
      "\u001b[36mFile \u001b[39m\u001b[32mc:\\Users\\User\\kt-ds\\.venv\\Lib\\site-packages\\langchain_core\\vectorstores\\base.py:113\u001b[39m, in \u001b[36mVectorStore.add_texts\u001b[39m\u001b[34m(self, texts, metadatas, ids, **kwargs)\u001b[39m\n\u001b[32m    109\u001b[39m     \u001b[38;5;28;01mif\u001b[39;00m ids \u001b[38;5;129;01mis\u001b[39;00m \u001b[38;5;129;01mnot\u001b[39;00m \u001b[38;5;28;01mNone\u001b[39;00m:\n\u001b[32m    110\u001b[39m         \u001b[38;5;66;03m# For backward compatibility\u001b[39;00m\n\u001b[32m    111\u001b[39m         kwargs[\u001b[33m\"\u001b[39m\u001b[33mids\u001b[39m\u001b[33m\"\u001b[39m] = ids\n\u001b[32m--> \u001b[39m\u001b[32m113\u001b[39m     \u001b[38;5;28;01mreturn\u001b[39;00m \u001b[38;5;28;43mself\u001b[39;49m\u001b[43m.\u001b[49m\u001b[43madd_documents\u001b[49m\u001b[43m(\u001b[49m\u001b[43mdocs\u001b[49m\u001b[43m,\u001b[49m\u001b[43m \u001b[49m\u001b[43m*\u001b[49m\u001b[43m*\u001b[49m\u001b[43mkwargs\u001b[49m\u001b[43m)\u001b[49m\n\u001b[32m    114\u001b[39m msg = \u001b[33mf\u001b[39m\u001b[33m\"\u001b[39m\u001b[33m`add_texts` has not been implemented for \u001b[39m\u001b[38;5;132;01m{\u001b[39;00m\u001b[38;5;28mself\u001b[39m.\u001b[34m__class__\u001b[39m.\u001b[34m__name__\u001b[39m\u001b[38;5;132;01m}\u001b[39;00m\u001b[33m \u001b[39m\u001b[33m\"\u001b[39m\n\u001b[32m    115\u001b[39m \u001b[38;5;28;01mraise\u001b[39;00m \u001b[38;5;167;01mNotImplementedError\u001b[39;00m(msg)\n",
      "\u001b[36mFile \u001b[39m\u001b[32mc:\\Users\\User\\kt-ds\\.venv\\Lib\\site-packages\\langchain_core\\vectorstores\\in_memory.py:195\u001b[39m, in \u001b[36mInMemoryVectorStore.add_documents\u001b[39m\u001b[34m(self, documents, ids, **kwargs)\u001b[39m\n\u001b[32m    193\u001b[39m \u001b[38;5;250m\u001b[39m\u001b[33;03m\"\"\"Add documents to the store.\"\"\"\u001b[39;00m\n\u001b[32m    194\u001b[39m texts = [doc.page_content \u001b[38;5;28;01mfor\u001b[39;00m doc \u001b[38;5;129;01min\u001b[39;00m documents]\n\u001b[32m--> \u001b[39m\u001b[32m195\u001b[39m vectors = \u001b[38;5;28;43mself\u001b[39;49m\u001b[43m.\u001b[49m\u001b[43membedding\u001b[49m\u001b[43m.\u001b[49m\u001b[43membed_documents\u001b[49m\u001b[43m(\u001b[49m\u001b[43mtexts\u001b[49m\u001b[43m)\u001b[49m\n\u001b[32m    197\u001b[39m \u001b[38;5;28;01mif\u001b[39;00m ids \u001b[38;5;129;01mand\u001b[39;00m \u001b[38;5;28mlen\u001b[39m(ids) != \u001b[38;5;28mlen\u001b[39m(texts):\n\u001b[32m    198\u001b[39m     msg = (\n\u001b[32m    199\u001b[39m         \u001b[33mf\u001b[39m\u001b[33m\"\u001b[39m\u001b[33mids must be the same length as texts. \u001b[39m\u001b[33m\"\u001b[39m\n\u001b[32m    200\u001b[39m         \u001b[33mf\u001b[39m\u001b[33m\"\u001b[39m\u001b[33mGot \u001b[39m\u001b[38;5;132;01m{\u001b[39;00m\u001b[38;5;28mlen\u001b[39m(ids)\u001b[38;5;132;01m}\u001b[39;00m\u001b[33m ids and \u001b[39m\u001b[38;5;132;01m{\u001b[39;00m\u001b[38;5;28mlen\u001b[39m(texts)\u001b[38;5;132;01m}\u001b[39;00m\u001b[33m texts.\u001b[39m\u001b[33m\"\u001b[39m\n\u001b[32m    201\u001b[39m     )\n",
      "\u001b[36mFile \u001b[39m\u001b[32mc:\\Users\\User\\kt-ds\\.venv\\Lib\\site-packages\\langchain_openai\\embeddings\\base.py:590\u001b[39m, in \u001b[36mOpenAIEmbeddings.embed_documents\u001b[39m\u001b[34m(self, texts, chunk_size, **kwargs)\u001b[39m\n\u001b[32m    587\u001b[39m \u001b[38;5;66;03m# NOTE: to keep things simple, we assume the list may contain texts longer\u001b[39;00m\n\u001b[32m    588\u001b[39m \u001b[38;5;66;03m#       than the maximum context and use length-safe embedding function.\u001b[39;00m\n\u001b[32m    589\u001b[39m engine = cast(\u001b[38;5;28mstr\u001b[39m, \u001b[38;5;28mself\u001b[39m.deployment)\n\u001b[32m--> \u001b[39m\u001b[32m590\u001b[39m \u001b[38;5;28;01mreturn\u001b[39;00m \u001b[38;5;28;43mself\u001b[39;49m\u001b[43m.\u001b[49m\u001b[43m_get_len_safe_embeddings\u001b[49m\u001b[43m(\u001b[49m\n\u001b[32m    591\u001b[39m \u001b[43m    \u001b[49m\u001b[43mtexts\u001b[49m\u001b[43m,\u001b[49m\u001b[43m \u001b[49m\u001b[43mengine\u001b[49m\u001b[43m=\u001b[49m\u001b[43mengine\u001b[49m\u001b[43m,\u001b[49m\u001b[43m \u001b[49m\u001b[43mchunk_size\u001b[49m\u001b[43m=\u001b[49m\u001b[43mchunk_size\u001b[49m\u001b[43m,\u001b[49m\u001b[43m \u001b[49m\u001b[43m*\u001b[49m\u001b[43m*\u001b[49m\u001b[43mkwargs\u001b[49m\n\u001b[32m    592\u001b[39m \u001b[43m\u001b[49m\u001b[43m)\u001b[49m\n",
      "\u001b[36mFile \u001b[39m\u001b[32mc:\\Users\\User\\kt-ds\\.venv\\Lib\\site-packages\\langchain_openai\\embeddings\\base.py:478\u001b[39m, in \u001b[36mOpenAIEmbeddings._get_len_safe_embeddings\u001b[39m\u001b[34m(self, texts, engine, chunk_size, **kwargs)\u001b[39m\n\u001b[32m    476\u001b[39m batched_embeddings: \u001b[38;5;28mlist\u001b[39m[\u001b[38;5;28mlist\u001b[39m[\u001b[38;5;28mfloat\u001b[39m]] = []\n\u001b[32m    477\u001b[39m \u001b[38;5;28;01mfor\u001b[39;00m i \u001b[38;5;129;01min\u001b[39;00m _iter:\n\u001b[32m--> \u001b[39m\u001b[32m478\u001b[39m     response = \u001b[38;5;28;43mself\u001b[39;49m\u001b[43m.\u001b[49m\u001b[43mclient\u001b[49m\u001b[43m.\u001b[49m\u001b[43mcreate\u001b[49m\u001b[43m(\u001b[49m\n\u001b[32m    479\u001b[39m \u001b[43m        \u001b[49m\u001b[38;5;28;43minput\u001b[39;49m\u001b[43m=\u001b[49m\u001b[43mtokens\u001b[49m\u001b[43m[\u001b[49m\u001b[43mi\u001b[49m\u001b[43m \u001b[49m\u001b[43m:\u001b[49m\u001b[43m \u001b[49m\u001b[43mi\u001b[49m\u001b[43m \u001b[49m\u001b[43m+\u001b[49m\u001b[43m \u001b[49m\u001b[43m_chunk_size\u001b[49m\u001b[43m]\u001b[49m\u001b[43m,\u001b[49m\u001b[43m \u001b[49m\u001b[43m*\u001b[49m\u001b[43m*\u001b[49m\u001b[43mclient_kwargs\u001b[49m\n\u001b[32m    480\u001b[39m \u001b[43m    \u001b[49m\u001b[43m)\u001b[49m\n\u001b[32m    481\u001b[39m     \u001b[38;5;28;01mif\u001b[39;00m \u001b[38;5;129;01mnot\u001b[39;00m \u001b[38;5;28misinstance\u001b[39m(response, \u001b[38;5;28mdict\u001b[39m):\n\u001b[32m    482\u001b[39m         response = response.model_dump()\n",
      "\u001b[36mFile \u001b[39m\u001b[32mc:\\Users\\User\\kt-ds\\.venv\\Lib\\site-packages\\openai\\resources\\embeddings.py:129\u001b[39m, in \u001b[36mEmbeddings.create\u001b[39m\u001b[34m(self, input, model, dimensions, encoding_format, user, extra_headers, extra_query, extra_body, timeout)\u001b[39m\n\u001b[32m    123\u001b[39m             embedding.embedding = np.frombuffer(  \u001b[38;5;66;03m# type: ignore[no-untyped-call]\u001b[39;00m\n\u001b[32m    124\u001b[39m                 base64.b64decode(data), dtype=\u001b[33m\"\u001b[39m\u001b[33mfloat32\u001b[39m\u001b[33m\"\u001b[39m\n\u001b[32m    125\u001b[39m             ).tolist()\n\u001b[32m    127\u001b[39m     \u001b[38;5;28;01mreturn\u001b[39;00m obj\n\u001b[32m--> \u001b[39m\u001b[32m129\u001b[39m \u001b[38;5;28;01mreturn\u001b[39;00m \u001b[38;5;28;43mself\u001b[39;49m\u001b[43m.\u001b[49m\u001b[43m_post\u001b[49m\u001b[43m(\u001b[49m\n\u001b[32m    130\u001b[39m \u001b[43m    \u001b[49m\u001b[33;43m\"\u001b[39;49m\u001b[33;43m/embeddings\u001b[39;49m\u001b[33;43m\"\u001b[39;49m\u001b[43m,\u001b[49m\n\u001b[32m    131\u001b[39m \u001b[43m    \u001b[49m\u001b[43mbody\u001b[49m\u001b[43m=\u001b[49m\u001b[43mmaybe_transform\u001b[49m\u001b[43m(\u001b[49m\u001b[43mparams\u001b[49m\u001b[43m,\u001b[49m\u001b[43m \u001b[49m\u001b[43membedding_create_params\u001b[49m\u001b[43m.\u001b[49m\u001b[43mEmbeddingCreateParams\u001b[49m\u001b[43m)\u001b[49m\u001b[43m,\u001b[49m\n\u001b[32m    132\u001b[39m \u001b[43m    \u001b[49m\u001b[43moptions\u001b[49m\u001b[43m=\u001b[49m\u001b[43mmake_request_options\u001b[49m\u001b[43m(\u001b[49m\n\u001b[32m    133\u001b[39m \u001b[43m        \u001b[49m\u001b[43mextra_headers\u001b[49m\u001b[43m=\u001b[49m\u001b[43mextra_headers\u001b[49m\u001b[43m,\u001b[49m\n\u001b[32m    134\u001b[39m \u001b[43m        \u001b[49m\u001b[43mextra_query\u001b[49m\u001b[43m=\u001b[49m\u001b[43mextra_query\u001b[49m\u001b[43m,\u001b[49m\n\u001b[32m    135\u001b[39m \u001b[43m        \u001b[49m\u001b[43mextra_body\u001b[49m\u001b[43m=\u001b[49m\u001b[43mextra_body\u001b[49m\u001b[43m,\u001b[49m\n\u001b[32m    136\u001b[39m \u001b[43m        \u001b[49m\u001b[43mtimeout\u001b[49m\u001b[43m=\u001b[49m\u001b[43mtimeout\u001b[49m\u001b[43m,\u001b[49m\n\u001b[32m    137\u001b[39m \u001b[43m        \u001b[49m\u001b[43mpost_parser\u001b[49m\u001b[43m=\u001b[49m\u001b[43mparser\u001b[49m\u001b[43m,\u001b[49m\n\u001b[32m    138\u001b[39m \u001b[43m    \u001b[49m\u001b[43m)\u001b[49m\u001b[43m,\u001b[49m\n\u001b[32m    139\u001b[39m \u001b[43m    \u001b[49m\u001b[43mcast_to\u001b[49m\u001b[43m=\u001b[49m\u001b[43mCreateEmbeddingResponse\u001b[49m\u001b[43m,\u001b[49m\n\u001b[32m    140\u001b[39m \u001b[43m\u001b[49m\u001b[43m)\u001b[49m\n",
      "\u001b[36mFile \u001b[39m\u001b[32mc:\\Users\\User\\kt-ds\\.venv\\Lib\\site-packages\\openai\\_base_client.py:1239\u001b[39m, in \u001b[36mSyncAPIClient.post\u001b[39m\u001b[34m(self, path, cast_to, body, options, files, stream, stream_cls)\u001b[39m\n\u001b[32m   1225\u001b[39m \u001b[38;5;28;01mdef\u001b[39;00m\u001b[38;5;250m \u001b[39m\u001b[34mpost\u001b[39m(\n\u001b[32m   1226\u001b[39m     \u001b[38;5;28mself\u001b[39m,\n\u001b[32m   1227\u001b[39m     path: \u001b[38;5;28mstr\u001b[39m,\n\u001b[32m   (...)\u001b[39m\u001b[32m   1234\u001b[39m     stream_cls: \u001b[38;5;28mtype\u001b[39m[_StreamT] | \u001b[38;5;28;01mNone\u001b[39;00m = \u001b[38;5;28;01mNone\u001b[39;00m,\n\u001b[32m   1235\u001b[39m ) -> ResponseT | _StreamT:\n\u001b[32m   1236\u001b[39m     opts = FinalRequestOptions.construct(\n\u001b[32m   1237\u001b[39m         method=\u001b[33m\"\u001b[39m\u001b[33mpost\u001b[39m\u001b[33m\"\u001b[39m, url=path, json_data=body, files=to_httpx_files(files), **options\n\u001b[32m   1238\u001b[39m     )\n\u001b[32m-> \u001b[39m\u001b[32m1239\u001b[39m     \u001b[38;5;28;01mreturn\u001b[39;00m cast(ResponseT, \u001b[38;5;28;43mself\u001b[39;49m\u001b[43m.\u001b[49m\u001b[43mrequest\u001b[49m\u001b[43m(\u001b[49m\u001b[43mcast_to\u001b[49m\u001b[43m,\u001b[49m\u001b[43m \u001b[49m\u001b[43mopts\u001b[49m\u001b[43m,\u001b[49m\u001b[43m \u001b[49m\u001b[43mstream\u001b[49m\u001b[43m=\u001b[49m\u001b[43mstream\u001b[49m\u001b[43m,\u001b[49m\u001b[43m \u001b[49m\u001b[43mstream_cls\u001b[49m\u001b[43m=\u001b[49m\u001b[43mstream_cls\u001b[49m\u001b[43m)\u001b[49m)\n",
      "\u001b[36mFile \u001b[39m\u001b[32mc:\\Users\\User\\kt-ds\\.venv\\Lib\\site-packages\\openai\\_base_client.py:1034\u001b[39m, in \u001b[36mSyncAPIClient.request\u001b[39m\u001b[34m(self, cast_to, options, stream, stream_cls)\u001b[39m\n\u001b[32m   1031\u001b[39m             err.response.read()\n\u001b[32m   1033\u001b[39m         log.debug(\u001b[33m\"\u001b[39m\u001b[33mRe-raising status error\u001b[39m\u001b[33m\"\u001b[39m)\n\u001b[32m-> \u001b[39m\u001b[32m1034\u001b[39m         \u001b[38;5;28;01mraise\u001b[39;00m \u001b[38;5;28mself\u001b[39m._make_status_error_from_response(err.response) \u001b[38;5;28;01mfrom\u001b[39;00m\u001b[38;5;250m \u001b[39m\u001b[38;5;28;01mNone\u001b[39;00m\n\u001b[32m   1036\u001b[39m     \u001b[38;5;28;01mbreak\u001b[39;00m\n\u001b[32m   1038\u001b[39m \u001b[38;5;28;01massert\u001b[39;00m response \u001b[38;5;129;01mis\u001b[39;00m \u001b[38;5;129;01mnot\u001b[39;00m \u001b[38;5;28;01mNone\u001b[39;00m, \u001b[33m\"\u001b[39m\u001b[33mcould not resolve response (should never happen)\u001b[39m\u001b[33m\"\u001b[39m\n",
      "\u001b[31mNotFoundError\u001b[39m: Error code: 404 - {'error': {'message': 'The model `bge-m3` does not exist or you do not have access to it.', 'type': 'invalid_request_error', 'param': None, 'code': 'model_not_found'}}"
     ]
    }
   ],
   "source": [
    "from langchain_openai import OpenAIEmbeddings\n",
    "from langchain_core.vectorstores import InMemoryVectorStore # type: ignore\n",
    "\n",
    "# 고객 문의 유형별 응대 예시를 준비\n",
    "examples = [\n",
    "    {\n",
    "        \"input\": \"환불 절차가 어떻게 되나요?\",\n",
    "        \"output\": \"환불 절차는 다음과 같습니다:\\n1. 구매내역에서 환불을 신청해주세요\\n2. 반품 상품을 발송해주세요\\n3. 상품 검수 후 3-5일 내 환불이 완료됩니다\"\n",
    "    },\n",
    "    {\n",
    "        \"input\": \"배송이 늦어지고 있어요\", \n",
    "        \"output\": \"불편을 드려 죄송합니다. 주문번호를 알려주시면 배송 상태를 즉시 확인해드리겠습니다.\"\n",
    "    },\n",
    "    {\n",
    "        \"input\": \"옷 사이즈가 안 맞아요\",\n",
    "        \"output\": \"사이즈 교환은 무료로 진행됩니다. 교환 신청 후 동일 상품의 다른 사이즈로 발송해드리겠습니다.\"\n",
    "    },\n",
    "    {\n",
    "        \"input\": \"제품이 불량이에요\",\n",
    "        \"output\": \"불편을 드려 대단히 죄송합니다. 불량 부분 사진과 함께 1:1 문의에 접수해주시면 빠르게 처리해드리겠습니다.\"\n",
    "    }\n",
    "]\n",
    "\n",
    "# 예시 데이터를 벡터화할 텍스트로 변환\n",
    "to_vectorize = [\" \".join(example.values()) for example in examples]\n",
    "\n",
    "# Ollama 임베딩 모델 생성\n",
    "# embeddings = OpenAIEmbeddings(model=\"bge-m3\")\n",
    "embeddings = OpenAIEmbeddings(model=\"text-embedding-3-small\")\n",
    "\n",
    "# 벡터 스토어 생성\n",
    "vector_store = InMemoryVectorStore.from_texts(\n",
    "    to_vectorize,    # 벡터화할 텍스트 리스트\n",
    "    embeddings,      # 임베딩 모델\n",
    "    metadatas=examples    # 메타데이터: 예시 데이터\n",
    "    )\n",
    "\n",
    "# VectorStore에 저장된 Document 개수 확인\n",
    "print(f\"VectorStore에 저장된 Document 개수: {len(vector_store.store.keys())}\")"
   ]
  },
  {
   "cell_type": "code",
   "execution_count": null,
   "metadata": {},
   "outputs": [],
   "source": [
    "from langchain_core.example_selectors import SemanticSimilarityExampleSelector\n",
    "\n",
    "# 유사한 2개의 예시를 선택하는 selector 생성\n",
    "example_selector = SemanticSimilarityExampleSelector(\n",
    "    vectorstore=vector_store,\n",
    "    k=2\n",
    ")\n",
    "\n",
    "# 선택된 예시 확인\n",
    "selected_examples = example_selector.select_examples({\"input\":\"상품이 파손되어 왔어요\"})\n",
    "pprint(selected_examples)"
   ]
  },
  {
   "cell_type": "code",
   "execution_count": null,
   "metadata": {},
   "outputs": [],
   "source": [
    "# 챗봇 프롬프트 템플릿 생성\n",
    "few_shot_prompt = FewShotChatMessagePromptTemplate(\n",
    "    input_variables=[\"input\"],\n",
    "    example_selector=example_selector,\n",
    "    example_prompt=ChatPromptTemplate.from_messages([\n",
    "        (\"human\", \"{input}\"),\n",
    "        (\"assistant\", \"{output}\")\n",
    "    ])\n",
    ")\n",
    "\n",
    "pprint(few_shot_prompt.invoke({\"input\": \"상품이 파손되어 왔어요\"}).to_messages())"
   ]
  },
  {
   "cell_type": "code",
   "execution_count": null,
   "metadata": {},
   "outputs": [],
   "source": [
    "# 최종 프롬프트 생성 \n",
    "final_prompt = ChatPromptTemplate.from_messages([\n",
    "    (\"system\", \"당신은 친절하고 전문적인 고객 서비스 담당자입니다.\"),\n",
    "    few_shot_prompt,\n",
    "    (\"human\", \"{input}\")\n",
    "])\n",
    "\n",
    "pprint(final_prompt.invoke({\"input\": \"상품이 파손되어 왔어요\"}).to_messages())"
   ]
  },
  {
   "cell_type": "code",
   "execution_count": null,
   "metadata": {},
   "outputs": [],
   "source": [
    "# 챗봇 체인 생성\n",
    "chain = final_prompt | llm | StrOutputParser()\n",
    "\n",
    "# 체인 실행\n",
    "response = chain.invoke({\n",
    "    \"input\": \"상품이 파손되어 왔어요\"\n",
    "})\n",
    "\n",
    "pprint(response)"
   ]
  }
 ],
 "metadata": {
  "kernelspec": {
   "display_name": ".venv",
   "language": "python",
   "name": "python3"
  },
  "language_info": {
   "codemirror_mode": {
    "name": "ipython",
    "version": 3
   },
   "file_extension": ".py",
   "mimetype": "text/x-python",
   "name": "python",
   "nbconvert_exporter": "python",
   "pygments_lexer": "ipython3",
   "version": "3.12.10"
  }
 },
 "nbformat": 4,
 "nbformat_minor": 2
}
