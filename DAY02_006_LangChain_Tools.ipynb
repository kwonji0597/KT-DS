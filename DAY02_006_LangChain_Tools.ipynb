{
 "cells": [
  {
   "cell_type": "markdown",
   "metadata": {},
   "source": [
    "#   LangChain Tool 활용\n",
    "\n",
    "---"
   ]
  },
  {
   "cell_type": "markdown",
   "metadata": {},
   "source": [
    "## 환경 설정 및 준비"
   ]
  },
  {
   "cell_type": "markdown",
   "metadata": {},
   "source": [
    "`(1) Env 환경변수`"
   ]
  },
  {
   "cell_type": "code",
   "execution_count": null,
   "metadata": {},
   "outputs": [],
   "source": [
    "from dotenv import load_dotenv\n",
    "load_dotenv()"
   ]
  },
  {
   "cell_type": "markdown",
   "metadata": {},
   "source": [
    "`(2) 기본 라이브러리`"
   ]
  },
  {
   "cell_type": "code",
   "execution_count": null,
   "metadata": {},
   "outputs": [],
   "source": [
    "import os\n",
    "from glob import glob\n",
    "\n",
    "from pprint import pprint\n",
    "import json"
   ]
  },
  {
   "cell_type": "markdown",
   "metadata": {},
   "source": [
    "`(3) Langsmith tracing 설정`"
   ]
  },
  {
   "cell_type": "code",
   "execution_count": null,
   "metadata": {},
   "outputs": [],
   "source": [
    "# Langsmith tracing 여부를 확인 (true: langsmith 추척 활성화, false: langsmith 추척 비활성화)\n",
    "import os\n",
    "print(os.getenv('LANGSMITH_TRACING'))"
   ]
  },
  {
   "cell_type": "markdown",
   "metadata": {},
   "source": [
    "---\n",
    "\n",
    "## **내장 도구 (Built-in Tool)**\n",
    "\n",
    "- **내장 도구**는 시스템에 **기본적으로 포함**된 사전 정의된 도구들의 집합\n",
    "\n",
    "- 파일 처리, 웹 검색, 코드 실행 등 **자주 사용되는 기본 기능**들을 즉시 활용 가능\n",
    "\n",
    "- 별도의 구현 없이 **바로 사용**할 수 있어 개발 시간과 노력을 절약 가능"
   ]
  },
  {
   "cell_type": "markdown",
   "metadata": {},
   "source": [
    "---\n",
    "\n",
    "### **웹 검색(Tavily Search API)**\n",
    "\n",
    "- **Tavily**는 AI 에이전트(LLM)를 위해 특별히 설계된 검색 엔진\n",
    "\n",
    "- 검색 결과로 **제목, URL, 컨텐츠, 답변** 등 상세 정보 제공\n",
    "\n",
    "- 개발자는 **월 1,000회** 무료 검색 쿼터 사용 가능\n",
    "\n",
    "- **설치**: `pip install tavily-python` 또는 `uv add tavily-python`\n",
    "\n",
    "- **인증키**: `TAVILY_API_KEY`"
   ]
  },
  {
   "cell_type": "markdown",
   "metadata": {},
   "source": [
    "`(1) 도구 정의`"
   ]
  },
  {
   "cell_type": "code",
   "execution_count": null,
   "metadata": {},
   "outputs": [],
   "source": [
    "from langchain_community.tools import TavilySearchResults\n",
    "\n",
    "tool = TavilySearchResults(\n",
    "    max_results=5,  # 반환할 결과의 수\n",
    "    search_depth=\"advanced\",  # 검색 깊이: basic 또는 advanced\n",
    "    include_answer=True,  # 결과에 직접적인 답변 포함\n",
    "    include_raw_content=True,  # 페이지의 원시 콘텐츠 포함\n",
    "    include_images=True,  # 결과에 이미지 포함\n",
    "    # include_domains=[...],  # 특정 도메인으로 검색 제한\n",
    "    # exclude_domains=[...],  # 특정 도메인 제외\n",
    "    # name=\"...\",  # 기본 도구 이름 덮어쓰기\n",
    "    # description=\"...\",  # 기본 도구 설명 덮어쓰기\n",
    "    # args_schema=...,  # 기본 args_schema 덮어쓰기\n",
    ")"
   ]
  },
  {
   "cell_type": "markdown",
   "metadata": {},
   "source": [
    "`(2) 도구 직접 호출`\n",
    "- 자연어 쿼리를 도구에 전달"
   ]
  },
  {
   "cell_type": "code",
   "execution_count": null,
   "metadata": {},
   "outputs": [],
   "source": [
    "result = tool.invoke(\"한국 시장에서 거래되는 ETF 종목은 모두 몇 개인가요?\")\n",
    "pprint(result)"
   ]
  },
  {
   "cell_type": "markdown",
   "metadata": {},
   "source": [
    "`(3) ToolCall을 사용한 호출`\n",
    "- 모델에서 생성된 `ToolCall`을 사용하여 도구를 호출"
   ]
  },
  {
   "cell_type": "code",
   "execution_count": null,
   "metadata": {},
   "outputs": [],
   "source": [
    "from langchain_openai import ChatOpenAI\n",
    "\n",
    "# 모델 생성\n",
    "model = ChatOpenAI(model=\"gpt-4.1-mini\")\n",
    "\n",
    "# 모델에 도구 등록 \n",
    "model_with_tools = model.bind_tools([tool])\n",
    "\n",
    "# 사용자 쿼리를 입력하여 ToolCall 생성\n",
    "response = model_with_tools.invoke(\"한국 시장에서 거래되는 ETF 종목은 모두 몇 개인가요?\")\n",
    "\n",
    "# ToolCall 출력 \n",
    "pprint(response.tool_calls)"
   ]
  },
  {
   "cell_type": "code",
   "execution_count": null,
   "metadata": {},
   "outputs": [],
   "source": [
    "# ToolCall을 사용하여 도구 실행\n",
    "model_generated_tool_call = response.tool_calls[0]\n",
    "tool_msg = tool.invoke(model_generated_tool_call)\n",
    "\n",
    "# 도구 실행 결과 출력\n",
    "pprint(tool_msg.content)"
   ]
  },
  {
   "cell_type": "code",
   "execution_count": null,
   "metadata": {},
   "outputs": [],
   "source": [
    "# `artifact` 속성 출력\n",
    "tool_msg.artifact"
   ]
  },
  {
   "cell_type": "code",
   "execution_count": null,
   "metadata": {},
   "outputs": [],
   "source": [
    "pprint(tool_msg.artifact)"
   ]
  },
  {
   "cell_type": "markdown",
   "metadata": {},
   "source": [
    "`(4) LLM 체인과 연계`\n",
    "- Tavily 도구를 언어 모델에 바인딩하고 사용자 입력을 처리하는 체인을 생성"
   ]
  },
  {
   "cell_type": "code",
   "execution_count": null,
   "metadata": {},
   "outputs": [],
   "source": [
    "from langchain_openai import ChatOpenAI\n",
    "from langchain_core.prompts import ChatPromptTemplate\n",
    "from langchain_core.runnables import RunnableConfig, chain\n",
    "from langchain_core.messages import ToolMessage\n",
    "\n",
    "import datetime\n",
    "\n",
    "# 언어 모델 초기화\n",
    "llm = ChatOpenAI(model=\"gpt-4.1-mini\")\n",
    "\n",
    "# 프롬프트 템플릿 정의\n",
    "today = datetime.datetime.today().strftime(\"%Y-%m-%d\")\n",
    "prompt = ChatPromptTemplate(\n",
    "    [\n",
    "        (\"system\", f\"당신은 도움이 되는 어시스턴트입니다. 오늘 날짜는 {today}입니다.\"),\n",
    "        (\"human\", \"{user_input}\"),\n",
    "        (\"placeholder\", \"{messages}\"),\n",
    "    ]\n",
    ")\n",
    "\n",
    "# Tavily 도구를 모델에 바인딩\n",
    "llm_with_tools = llm.bind_tools([tool])\n",
    "\n",
    "# 체인 생성\n",
    "llm_chain = prompt | llm_with_tools\n",
    "\n",
    "@chain  # 함수를 체인으로 사용하기 위해 데코레이터 추가\n",
    "def tool_chain(user_input: str, config: RunnableConfig):\n",
    "    input_ = {\"user_input\": user_input}\n",
    "    ai_msg = llm_chain.invoke(input_, config=config)\n",
    "    \n",
    "    # 도구 호출 결과를 처리\n",
    "    tool_msgs = []\n",
    "    artifacts = []  # artifact를 저장할 리스트\n",
    "    for tool_call in ai_msg.tool_calls:\n",
    "        tool_result = tool.invoke(tool_call)\n",
    "        tool_msgs.append(ToolMessage(content=str(tool_result.content), tool_call_id=tool_call[\"id\"]))\n",
    "        artifacts.append(tool_result.artifact)  # artifact 저장\n",
    "    \n",
    "    # 최종 결과 반환\n",
    "    final_response = llm_chain.invoke({**input_, \"messages\": [ai_msg, *tool_msgs]}, config=config)\n",
    "    \n",
    "    return final_response, artifacts\n",
    "\n",
    "# 체인 호출\n",
    "response, artifacts = tool_chain.invoke(\"한국 시장에서 거래되는 ETF 종목은 모두 몇 개인가요?\")\n",
    "print(\"===== 최종 응답 =====\")\n",
    "print(response.content)"
   ]
  },
  {
   "cell_type": "code",
   "execution_count": null,
   "metadata": {},
   "outputs": [],
   "source": [
    "# artifact를 별도로 출력\n",
    "print(\"===== Artifact 정보 =====\")\n",
    "for artifact in artifacts:\n",
    "    print(json.dumps(artifact, indent=2, ensure_ascii=False))"
   ]
  },
  {
   "cell_type": "markdown",
   "metadata": {},
   "source": [
    "---\n",
    "\n",
    "##  **사용자 정의 도구 (Custom Tool)**\n",
    "\n",
    "\n",
    "- **사용자 정의 도구**는 개발자가 직접 설계하고 구현하는 **맞춤형 함수나 도구**를 의미\n",
    "\n",
    "- LLM이 호출할 수 있는 **고유한 기능**을 정의하여 특정 작업에 최적화된 도구 생성 가능\n",
    "\n",
    "- 개발자는 도구의 **입력값, 출력값, 기능**을 자유롭게 정의하여 유연한 확장성 확보"
   ]
  },
  {
   "cell_type": "markdown",
   "metadata": {},
   "source": [
    "---\n",
    "\n",
    "### **Naver 개발자 API** 를 도구로 사용\n",
    "\n",
    "- 네이버 개발자 API(https://developers.naver.com/)에서 인증 권한 취득 (회원 가입 및 애플리케이션 등록 필요)\n",
    "- 환경변수(.env)를 등록합니다. (**NAVER_CLIENT_ID**, **NAVER_CLIENT_SECRET**)\n",
    "- 아래 정의된 네이버 뉴스 검색 도구(naver_news_search)를 사용하여 다음 과정을 수행합니다. "
   ]
  },
  {
   "cell_type": "code",
   "execution_count": null,
   "metadata": {},
   "outputs": [],
   "source": [
    "# 환경 변수 로드\n",
    "from dotenv import load_dotenv\n",
    "load_dotenv()"
   ]
  },
  {
   "cell_type": "markdown",
   "metadata": {},
   "source": [
    "`(1) 도구 정의`"
   ]
  },
  {
   "cell_type": "code",
   "execution_count": null,
   "metadata": {},
   "outputs": [],
   "source": [
    "import requests, os\n",
    "from langchain_core.tools import tool\n",
    "from typing import Dict\n",
    "\n",
    "@tool\n",
    "def naver_news_search(\n",
    "    query: str,\n",
    "    ) -> Dict[Dict, int]:\n",
    "    \"\"\"네이버 검색 API를 사용하여 뉴스 검색 결과를 조회합니다.\"\"\"\n",
    "\n",
    "    url = \"https://openapi.naver.com/v1/search/news.json\"\n",
    "    headers = {\n",
    "        \"X-Naver-Client-Id\": os.getenv(\"NAVER_CLIENT_ID\"),\n",
    "        \"X-Naver-Client-Secret\": os.getenv(\"NAVER_CLIENT_SECRET\")\n",
    "    }\n",
    "    params = {\"query\": query}\n",
    "\n",
    "    response = requests.get(url, headers=headers, params=params)\n",
    "\n",
    "    return {\n",
    "        \"data\": response.json(),\n",
    "        \"status_code\": int(response.status_code)\n",
    "    }  #type: ignore"
   ]
  },
  {
   "cell_type": "markdown",
   "metadata": {},
   "source": [
    "`(2) 도구 실행`"
   ]
  },
  {
   "cell_type": "code",
   "execution_count": null,
   "metadata": {},
   "outputs": [],
   "source": [
    "from langchain_core.runnables import chain, RunnableLambda\n",
    "from langchain_openai import ChatOpenAI\n",
    "\n",
    "# 도구 맵 생성 (도구 이름을 키로 사용)\n",
    "tools = [naver_news_search]  \n",
    "tool_map = {tool.name: tool for tool in tools}\n",
    "\n",
    "# 도구 라우터 (도구 이름에 따라 실행할 도구를 선택)\n",
    "@chain\n",
    "def tool_router(tool_call):\n",
    "    return tool_map[tool_call[\"name\"]]\n",
    "\n",
    "# 체인 구성\n",
    "llm = ChatOpenAI(model=\"gpt-4.1-mini\", temperature=0)\n",
    "\n",
    "llm_with_tools = llm.bind_tools(tools)\n",
    "\n",
    "tool_chain = (\n",
    "    llm_with_tools    # 어떤 도구를 사용할지 결정 (LLM 모델이 도구 호출을 처리)\n",
    "    | RunnableLambda(lambda x: x.tool_calls)  # 도구 호출을 추출\n",
    "    | tool_router.map()   # 도구 호출 라우팅\n",
    ")\n",
    "# 도구 실행\n",
    "response = tool_chain.invoke(\"애플의 최근 주가는 어떻게 되나요? 최근 주가 분석에 대한 관련 기사를 찾아주세요.\")"
   ]
  },
  {
   "cell_type": "code",
   "execution_count": null,
   "metadata": {},
   "outputs": [],
   "source": [
    "# 결과 출력 (도구 호출 결과)\n",
    "for msg in response:\n",
    "    pprint(msg)"
   ]
  },
  {
   "cell_type": "markdown",
   "metadata": {},
   "source": [
    "`(3) 체인 실행`"
   ]
  },
  {
   "cell_type": "code",
   "execution_count": null,
   "metadata": {},
   "outputs": [],
   "source": [
    "from langchain_core.prompts import ChatPromptTemplate\n",
    "from langchain_core.runnables import chain\n",
    "from langchain_core.messages import ToolMessage\n",
    "from langchain_openai import ChatOpenAI\n",
    "from datetime import datetime\n",
    "\n",
    "# LLM 모델 인스턴스를 생성\n",
    "llm = ChatOpenAI(model=\"gpt-4.1-mini\")\n",
    "\n",
    "# 두 도구를 LLM에 바인딩\n",
    "llm_with_tools = llm.bind_tools(tools=[naver_news_search])\n",
    "\n",
    "# 오늘 날짜 설정\n",
    "today = datetime.today().strftime(\"%Y-%m-%d\")\n",
    "\n",
    "# 프롬프트 템플릿 정의\n",
    "prompt = ChatPromptTemplate([\n",
    "    (\"system\", f\"당신은 도움이 되는 AI 어시스턴트입니다. 오늘 날짜는 {today}입니다. 답변 생성의 근거 또는 출처를 명시하세요.\"),\n",
    "    (\"human\", \"{user_input}\"),  \n",
    "    (\"placeholder\", \"{messages}\"),\n",
    "])\n",
    "\n",
    "# LLM 체인 생성\n",
    "llm_chain = prompt | llm_with_tools\n",
    "\n",
    "@chain\n",
    "def news_analysis_chain(user_input: str):\n",
    "\n",
    "    # 도구 체인 실행 (LLM -> StockPrice/NaverNewsSearch)\n",
    "    tool_msgs = tool_chain.invoke(user_input)\n",
    "\n",
    "    print(f\"Tool Messages: {tool_msgs}\")\n",
    "\n",
    "    # 도구 결과를 포맷팅\n",
    "    formatted_messages = []\n",
    "    for msg in tool_msgs:\n",
    "        if isinstance(msg, ToolMessage) and len(msg.content) > 0:\n",
    "            formatted_messages.append({\"role\": \"assistant\", \"content\": msg.content}) \n",
    "\n",
    "    print(f\"Formatted Messages: {formatted_messages}\")\n",
    "\n",
    "    # 최종 응답 생성\n",
    "    final_response = llm_chain.invoke({\"user_input\": user_input, \"messages\": formatted_messages})\n",
    "\n",
    "    print(f\"Final Response: {final_response}\")\n",
    "\n",
    "    return final_response"
   ]
  },
  {
   "cell_type": "code",
   "execution_count": null,
   "metadata": {},
   "outputs": [],
   "source": [
    "# 체인 실행\n",
    "response = news_analysis_chain.invoke(\"애플의 최근 주가는 어떻게 되나요? 최근 주가 분석에 대한 관련 기사를 찾아주세요.\")"
   ]
  },
  {
   "cell_type": "code",
   "execution_count": null,
   "metadata": {},
   "outputs": [],
   "source": [
    "# 최종 응답 출력 \n",
    "print(response.content)"
   ]
  }
 ],
 "metadata": {
  "kernelspec": {
   "display_name": ".venv",
   "language": "python",
   "name": "python3"
  },
  "language_info": {
   "codemirror_mode": {
    "name": "ipython",
    "version": 3
   },
   "file_extension": ".py",
   "mimetype": "text/x-python",
   "name": "python",
   "nbconvert_exporter": "python",
   "pygments_lexer": "ipython3",
   "version": "3.12.2"
  }
 },
 "nbformat": 4,
 "nbformat_minor": 2
}
