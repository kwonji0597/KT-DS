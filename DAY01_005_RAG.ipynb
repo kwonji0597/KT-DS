{
 "cells": [
  {
   "cell_type": "markdown",
   "id": "f191d1cf",
   "metadata": {},
   "source": [
    "#  RAG 체인 구성\n",
    "\n",
    "---"
   ]
  },
  {
   "cell_type": "markdown",
   "id": "2641ec21",
   "metadata": {},
   "source": [
    "# 환경 설정 및 준비"
   ]
  },
  {
   "cell_type": "markdown",
   "id": "e4be5eb8",
   "metadata": {},
   "source": [
    "`(1) Env 환경변수`"
   ]
  },
  {
   "cell_type": "code",
   "execution_count": 1,
   "id": "829d8712",
   "metadata": {},
   "outputs": [
    {
     "data": {
      "text/plain": [
       "True"
      ]
     },
     "execution_count": 1,
     "metadata": {},
     "output_type": "execute_result"
    }
   ],
   "source": [
    "from dotenv import load_dotenv\n",
    "load_dotenv()"
   ]
  },
  {
   "cell_type": "markdown",
   "id": "b5989430",
   "metadata": {},
   "source": [
    "`(2) 기본 라이브러리`"
   ]
  },
  {
   "cell_type": "code",
   "execution_count": 2,
   "id": "fa02fc31",
   "metadata": {},
   "outputs": [],
   "source": [
    "import os\n",
    "from glob import glob\n",
    "\n",
    "from pprint import pprint\n",
    "import json"
   ]
  },
  {
   "cell_type": "markdown",
   "id": "e69732dd",
   "metadata": {},
   "source": [
    "# 다양한 문서 형식 처리하기\n",
    "\n",
    "- 역할: Document Loader는 다양한 소스에서 문서를 로드\n",
    "- 구현: \n",
    "    - Document Loader는 BaseLoader 인터페이스를 통해서 구현\n",
    "    - `.load()` 또는 `.lazy_load()` 메서드를 통해 동일한 방식으로 호출 \n",
    "    - 대용량 데이터셋의 경우 메모리 효율을 위해 `.lazy_load()`를 사용하는 것을 권장 \n",
    "- 종류:\n",
    "    - PDF 파일 로더\n",
    "    - 웹 페이지 로더 \n",
    "    - CSV 데이터 로더\n",
    "    - 디렉토리 로더\n",
    "    - HTML 데이터 로더\n",
    "    - JSON 데이터 로더\n",
    "    - Markdown 데이터 로더\n",
    "    - Microsoft Office 데이터 로더"
   ]
  },
  {
   "cell_type": "markdown",
   "id": "87ca1af2",
   "metadata": {},
   "source": [
    "### 1. **웹 문서 로더**\n",
    "\n",
    "- uv add bs4 langchain_community"
   ]
  },
  {
   "cell_type": "code",
   "execution_count": 39,
   "id": "1e50f24b",
   "metadata": {},
   "outputs": [
    {
     "data": {
      "text/plain": [
       "2"
      ]
     },
     "execution_count": 39,
     "metadata": {},
     "output_type": "execute_result"
    }
   ],
   "source": [
    "from langchain_community.document_loaders import WebBaseLoader\n",
    "\n",
    "# 기본적인 텍스트 추출\n",
    "web_loader = WebBaseLoader(\n",
    "    web_paths=[\n",
    "        \"https://python.langchain.com/\", \n",
    "        \"https://js.langchain.com/\",\n",
    "        ],\n",
    "    )\n",
    "\n",
    "# 동기 로딩\n",
    "web_docs = web_loader.load()\n",
    "\n",
    "len(web_docs)"
   ]
  },
  {
   "cell_type": "code",
   "execution_count": 40,
   "id": "26f173ff",
   "metadata": {},
   "outputs": [
    {
     "data": {
      "text/plain": [
       "{'source': 'https://python.langchain.com/',\n",
       " 'title': 'Introduction | 🦜️🔗 LangChain',\n",
       " 'description': 'LangChain is a framework for developing applications powered by large language models (LLMs).',\n",
       " 'language': 'en'}"
      ]
     },
     "execution_count": 40,
     "metadata": {},
     "output_type": "execute_result"
    }
   ],
   "source": [
    "web_docs[0].metadata"
   ]
  },
  {
   "cell_type": "code",
   "execution_count": 41,
   "id": "13cdeb62",
   "metadata": {},
   "outputs": [
    {
     "name": "stdout",
     "output_type": "stream",
     "text": [
      "\n",
      "\n",
      "\n",
      "\n",
      "\n",
      "Introduction | 🦜️🔗 LangChain\n",
      "\n",
      "\n",
      "\n",
      "\n",
      "\n",
      "\n",
      "Skip to main contentWe are growing and hiring for multiple roles for LangChain, LangGraph and LangSmith.  Join our team!IntegrationsAPI ReferenceMoreContributingPeopleError referenceLangSmithLangGraphLangChain HubLangChain JS/TSv0.3v0.3v0.2v0.1💬SearchIntroductionTutorialsBuild a Question Answering application over a Graph DatabaseTutorialsBuild a simple LLM application with chat models and prompt templatesBuild a ChatbotBuild a Retrieval Augmented Generation (RAG) App: Part 2Build an Extraction ChainBuild an AgentTaggingBuild a Retrieval Augmented Generation (RAG) App: Part 1Build a semantic search engineBuild a Question/Answering system over SQL dataSummarize TextHow-to guidesHow-to guidesHow to use tools in a chainHow to use a vectorstore as a retrieverHow to add memory to chatbotsHow to use example selectorsHow to add a semantic layer over graph databaseHow to invoke runnables in parallelHow to stream chat model responsesHow to add default invocation args to a RunnableHow to add retrieval to chatbotsHow to use few shot examples in chat modelsHow to do tool/function callingHow to install LangChain packagesHow to add examples to the prompt for query analysisHow to use few shot examplesHow to run custom functionsHow to use output parsers to parse an LLM response into structured formatHow to handle cases where no queries are generatedHow to route between sub-chainsHow to return structured data from a modelHow to summarize text through parallelizationHow to summarize text through iterative refinementHow to summarize text in a single LLM callHow to use toolkitsHow to add ad-hoc tool calling capability to LLMs and Chat ModelsBuild an Agent with AgentExecutor (Legacy)How to construct knowledge graphsHow to partially format prompt templatesHow to handle multiple queries when doing query analysisHow to use built-in tools and toolkitsHow to pass through arguments from one step to the nextHow to compose prompts togetherHow to handle multiple retrievers when doing query analysisHow to add values to a chain's stateHow to construct filters for query analysisHow to configure runtime chain internalsHow deal with high cardinality categoricals when doing query analysisCustom Document LoaderHow to use the MultiQueryRetrieverHow to add scores to retriever resultsCachingHow to use callbacks in async environmentsHow to attach callbacks to a runnableHow to propagate callbacks  constructorHow to dispatch custom callback eventsHow to pass callbacks in at runtimeHow to split by characterHow to cache chat model responsesHow to handle rate limitsHow to init any model in one lineHow to track token usage in ChatModelsHow to add tools to chatbotsHow to split codeHow to do retrieval with contextual compressionHow to convert Runnables to ToolsHow to create custom callback handlersHow to create a custom chat model classCustom EmbeddingsHow to create a custom LLM classCustom RetrieverHow to create toolsHow to debug your LLM appsHow to load CSVsHow to load documents from a directoryHow to load HTMLHow to load JSONHow to load MarkdownHow to load Microsoft Office filesHow to load PDFsHow to load web pagesHow to create a dynamic (self-constructing) chainText embedding modelsHow to combine results from multiple retrieversHow to select examples from a LangSmith datasetHow to select examples by lengthHow to select examples by maximal marginal relevance (MMR)How to select examples by n-gram overlapHow to select examples by similarityHow to use reference examples when doing extractionHow to handle long text when doing extractionHow to use prompting alone (no tool calling) to do extractionHow to add fallbacks to a runnableHow to filter messagesHybrid SearchHow to use the LangChain indexing APIHow to inspect runnablesLangChain Expression Language CheatsheetHow to cache LLM responsesHow to track token usage for LLMsRun models locallyHow to get log probabilitiesHow to reorder retrieved results to mitigate the \"lost in the middle\" effectHow to split Markdown by HeadersHow to merge consecutive messages of the same typeHow to add message historyHow to migrate from legacy LangChain agents to LangGraphHow to retrieve using multiple vectors per documentHow to pass multimodal data to modelsHow to use multimodal promptsHow to create a custom Output ParserHow to use the output-fixing parserHow to parse JSON outputHow to retry when a parsing error occursHow to parse text from message objectsHow to parse XML outputHow to parse YAML outputHow to use the Parent Document RetrieverHow to use LangChain with different Pydantic versionsHow to add chat historyHow to get a RAG application to add citationsHow to do per-user retrievalHow to get your RAG application to return sourcesHow to stream results from your RAG applicationHow to split JSON dataHow to recursively split text by charactersResponse metadataHow to pass runtime secrets to runnablesHow to do \"self-querying\" retrievalHow to split text based on semantic similarityHow to chain runnablesHow to save and load LangChain objectsHow to split text by tokensHow to split HTMLHow to do question answering over CSVsHow to deal with large databases when doing SQL question-answeringHow to better prompt when doing SQL question-answeringHow to do query validation as part of SQL question-answeringHow to stream runnablesHow to stream responses from an LLMHow to use a time-weighted vector store retrieverHow to return artifacts from a toolHow to use chat models to call toolsHow to disable parallel tool callingHow to force models to call a toolHow to access the RunnableConfig from a toolHow to pass tool outputs to chat modelsHow to pass run time values to toolsHow to stream events from a toolHow to stream tool callsHow to convert tools to OpenAI FunctionsHow to handle tool errorsHow to use few-shot prompting with tool callingHow to add a human-in-the-loop for toolsHow to bind model-specific toolsHow to trim messagesHow to create and query vector storesConceptual guideAgentsArchitectureAsync programming with langchainCallbacksChat historyChat modelsDocument loadersEmbedding modelsEvaluationExample selectorsFew-shot promptingConceptual guideKey-value storesLangChain Expression Language (LCEL)MessagesMultimodalityOutput parsersPrompt TemplatesRetrieval augmented generation (RAG)RetrievalRetrieversRunnable interfaceStreamingStructured outputsTestingString-in, string-out llmsText splittersTokensTool callingToolsTracingVector storesWhy LangChain?Ecosystem🦜🛠️ LangSmith🦜🕸️ LangGraphVersionsv0.3v0.2Pydantic compatibilityMigrating from v0.0 chainsHow to migrate from v0.0 chainsMigrating from ConstitutionalChainMigrating from ConversationalChainMigrating from ConversationalRetrievalChainMigrating from LLMChainMigrating from LLMMathChainMigrating from LLMRouterChainMigrating from MapReduceDocumentsChainMigrating from MapRerankDocumentsChainMigrating from MultiPromptChainMigrating from RefineDocumentsChainMigrating from RetrievalQAMigrating from StuffDocumentsChainUpgrading to LangGraph memoryHow to migrate to LangGraph memoryHow to use BaseChatMessageHistory with LangGraphMigrating off ConversationBufferMemory or ConversationStringBufferMemoryMigrating off ConversationBufferWindowMemory or ConversationTokenBufferMemoryMigrating off ConversationSummaryMemory or ConversationSummaryBufferMemoryA Long-Term Memory AgentRelease policySecurity PolicyIntroductionOn this pageIntroduction\n",
      "LangChain is a framework for developing applications powered by large language models (LLMs).\n",
      "LangChain simplifies every stage of the LLM application lifecycle:\n",
      "\n",
      "Development: Build your applications using LangChain's open-source components and third-party integrations.\n",
      "Use LangGraph to build stateful agents with first-class streaming and human-in-the-loop support.\n",
      "Productionization: Use LangSmith to inspect, monitor and evaluate your applications, so that you can continuously optimize and deploy with confidence.\n",
      "Deployment: Turn your LangGraph applications into production-ready APIs and Assistants with LangGraph Platform.\n",
      "\n",
      "\n",
      "\n",
      "LangChain implements a standard interface for large language models and related\n",
      "technologies, such as embedding models and vector stores, and integrates with\n",
      "hundreds of providers. See the integrations page for\n",
      "more.\n",
      "\n",
      "Select chat model:OpenAI▾OpenAIAnthropicAzureGoogle GeminiGoogle VertexAWSGroqCohereNVIDIAFireworks AIMistral AITogether AIIBM watsonxDatabricksxAIPerplexitypip install -qU \"langchain[openai]\"import getpassimport osif not os.environ.get(\"OPENAI_API_KEY\"):  os.environ[\"OPENAI_API_KEY\"] = getpass.getpass(\"Enter API key for OpenAI: \")from langchain.chat_models import init_chat_modelmodel = init_chat_model(\"gpt-4o-mini\", model_provider=\"openai\")\n",
      "model.invoke(\"Hello, world!\")\n",
      "noteThese docs focus on the Python LangChain library. Head here for docs on the JavaScript LangChain library.\n",
      "Architecture​\n",
      "The LangChain framework consists of multiple open-source libraries. Read more in the\n",
      "Architecture page.\n",
      "\n",
      "langchain-core: Base abstractions for chat models and other components.\n",
      "Integration packages (e.g. langchain-openai, langchain-anthropic, etc.): Important integrations have been split into lightweight packages that are co-maintained by the LangChain team and the integration developers.\n",
      "langchain: Chains, agents, and retrieval strategies that make up an application's cognitive architecture.\n",
      "langchain-community: Third-party integrations that are community maintained.\n",
      "langgraph: Orchestration framework for combining LangChain components into production-ready applications with persistence, streaming, and other key features. See LangGraph documentation.\n",
      "\n",
      "Guides​\n",
      "Tutorials​\n",
      "If you're looking to build something specific or are more of a hands-on learner, check out our tutorials section.\n",
      "This is the best place to get started.\n",
      "These are the best ones to get started with:\n",
      "\n",
      "Build a Simple LLM Application\n",
      "Build a Chatbot\n",
      "Build an Agent\n",
      "Introduction to LangGraph\n",
      "\n",
      "Explore the full list of LangChain tutorials here, and check out other LangGraph tutorials here. To learn more about LangGraph, check out our first LangChain Academy course, Introduction to LangGraph, available here.\n",
      "How-to guides​\n",
      "Here you’ll find short answers to “How do I….?” types of questions.\n",
      "These how-to guides don’t cover topics in depth – you’ll find that material in the Tutorials and the API Reference.\n",
      "However, these guides will help you quickly accomplish common tasks using chat models,\n",
      "vector stores, and other common LangChain components.\n",
      "Check out LangGraph-specific how-tos here.\n",
      "Conceptual guide​\n",
      "Introductions to all the key parts of LangChain you’ll need to know! Here you'll find high level explanations of all LangChain concepts.\n",
      "For a deeper dive into LangGraph concepts, check out this page.\n",
      "Integrations​\n",
      "LangChain is part of a rich ecosystem of tools that integrate with our framework and build on top of it.\n",
      "If you're looking to get up and running quickly with chat models, vector stores,\n",
      "or other LangChain components from a specific provider, check out our growing list of integrations.\n",
      "API reference​\n",
      "Head to the reference section for full documentation of all classes and methods in the LangChain Python packages.\n",
      "Ecosystem​\n",
      "🦜🛠️ LangSmith​\n",
      "Trace and evaluate your language model applications and intelligent agents to help you move from prototype to production.\n",
      "🦜🕸️ LangGraph​\n",
      "Build stateful, multi-actor applications with LLMs. Integrates smoothly with LangChain, but can be used without it. LangGraph powers production-grade agents, trusted by Linkedin, Uber, Klarna, GitLab, and many more.\n",
      "Additional resources​\n",
      "Versions​\n",
      "See what changed in v0.3, learn how to migrate legacy code, read up on our versioning policies, and more.\n",
      "Security​\n",
      "Read up on security best practices to make sure you're developing safely with LangChain.\n",
      "Contributing​\n",
      "Check out the developer's guide for guidelines on contributing and help getting your dev environment set up.Edit this pageWas this page helpful?NextTutorialsArchitectureGuidesTutorialsHow-to guidesConceptual guideIntegrationsAPI referenceEcosystem🦜🛠️ LangSmith🦜🕸️ LangGraphAdditional resourcesVersionsSecurityContributingCommunityTwitterGitHubOrganizationPythonJS/TSMoreHomepageBlogYouTubeCopyright © 2025 LangChain, Inc.\n",
      "\n",
      "\n"
     ]
    }
   ],
   "source": [
    "print(web_docs[0].page_content)"
   ]
  },
  {
   "cell_type": "markdown",
   "id": "645da45b",
   "metadata": {},
   "source": [
    "### 2. **CSV 파일 로더**"
   ]
  },
  {
   "cell_type": "code",
   "execution_count": 42,
   "id": "75179f1b",
   "metadata": {},
   "outputs": [
    {
     "name": "stdout",
     "output_type": "stream",
     "text": [
      "문서의 수: 10\n",
      "--------------------------------------------------\n",
      "처음 문서의 메타데이터: \n",
      " {'source': './data/kbo_teams_2023.csv', 'row': 0}\n",
      "--------------------------------------------------\n",
      "처음 문서의 내용: \n",
      " Team: KIA 타이거즈\n",
      "City: 광주\n",
      "Founded: 1982\n",
      "Home Stadium: 광주-기아 챔피언스 필드\n",
      "Championships: 11\n",
      "Introduction: KBO 리그의 전통 강호로, 역대 최다 우승 기록을 보유하고 있다. '타이거즈 스피릿'으로 유명하며, 양현종, 안치홍 등 스타 선수들을 배출했다. 광주를 연고로 하는 유일한 프로야구팀으로 지역 사랑이 강하다.\n"
     ]
    }
   ],
   "source": [
    "from langchain_community.document_loaders.csv_loader import CSVLoader\n",
    "\n",
    "# 기본 파일 로드\n",
    "csv_loader = CSVLoader(\"./data/kbo_teams_2023.csv\", encoding=\"utf-8\")\n",
    "csv_docs = csv_loader.load()\n",
    "\n",
    "print(\"문서의 수:\", len(csv_docs))\n",
    "print(\"-\" * 50)\n",
    "print(\"처음 문서의 메타데이터: \\n\", csv_docs[0].metadata)\n",
    "print(\"-\" * 50)\n",
    "print(\"처음 문서의 내용: \\n\", csv_docs[0].page_content)"
   ]
  },
  {
   "cell_type": "code",
   "execution_count": 43,
   "id": "2a5e089f",
   "metadata": {},
   "outputs": [
    {
     "name": "stdout",
     "output_type": "stream",
     "text": [
      "문서의 수: 10\n",
      "--------------------------------------------------\n",
      "처음 문서의 메타데이터: \n",
      " {'source': 'KIA 타이거즈', 'row': 0}\n",
      "--------------------------------------------------\n",
      "처음 문서의 내용: \n",
      " Team: KIA 타이거즈\n",
      "City: 광주\n",
      "Founded: 1982\n",
      "Home Stadium: 광주-기아 챔피언스 필드\n",
      "Championships: 11\n",
      "Introduction: KBO 리그의 전통 강호로, 역대 최다 우승 기록을 보유하고 있다. '타이거즈 스피릿'으로 유명하며, 양현종, 안치홍 등 스타 선수들을 배출했다. 광주를 연고로 하는 유일한 프로야구팀으로 지역 사랑이 강하다.\n"
     ]
    }
   ],
   "source": [
    "## 소스 컬럼 지정\n",
    "\n",
    "csv_loader = CSVLoader(\n",
    "    file_path=\"./data/kbo_teams_2023.csv\", encoding=\"utf-8\",\n",
    "    source_column=\"Team\"  # 이 컬럼의 값이 메타데이터의 source로 사용됨\n",
    ")\n",
    "\n",
    "csv_docs = csv_loader.load()\n",
    "\n",
    "print(\"문서의 수:\", len(csv_docs))\n",
    "print(\"-\" * 50)\n",
    "print(\"처음 문서의 메타데이터: \\n\", csv_docs[0].metadata)\n",
    "print(\"-\" * 50)\n",
    "print(\"처음 문서의 내용: \\n\", csv_docs[0].page_content)"
   ]
  },
  {
   "cell_type": "markdown",
   "id": "807d28ef",
   "metadata": {},
   "source": [
    "### 3. **PDF 파일 로더**\n",
    "\n",
    "- uv add langchain_community pypdf"
   ]
  },
  {
   "cell_type": "code",
   "execution_count": 44,
   "id": "90aa754e",
   "metadata": {},
   "outputs": [
    {
     "name": "stdout",
     "output_type": "stream",
     "text": [
      "PDF 문서 개수: 20\n"
     ]
    }
   ],
   "source": [
    "from langchain_community.document_loaders import PyPDFLoader\n",
    "\n",
    "# PDF 로더 초기화 (근로기준법 문서) # 이미지 많은 정보 처리시 Unstructured https://python.langchain.com/docs/integrations/document_loaders/unstructured_file/\n",
    "pdf_loader = PyPDFLoader('./data/labor_law.pdf')\n",
    "\n",
    "# 동기 로딩\n",
    "pdf_docs = pdf_loader.load()\n",
    "print(f'PDF 문서 개수: {len(pdf_docs)}')"
   ]
  },
  {
   "cell_type": "markdown",
   "id": "ebb33946",
   "metadata": {},
   "source": [
    "# 텍스트 분할(Text Splitting) \n",
    "\n",
    "- 대규모 텍스트 문서를 처리할 때 매우 중요한 전처리 단계\n",
    "- 고려사항:\n",
    "    1. 문서의 구조와 형식\n",
    "    2. 원하는 청크 크기\n",
    "    3. 문맥 보존의 중요도\n",
    "    4. 처리 속도 "
   ]
  },
  {
   "cell_type": "code",
   "execution_count": 45,
   "id": "a007e618",
   "metadata": {},
   "outputs": [
    {
     "name": "stdout",
     "output_type": "stream",
     "text": [
      "첫 번째 문서: page_content='법제처                                                            1                                                       국가법령정보센터\n",
      "근로기준법\n",
      " \n",
      "근로기준법\n",
      "[시행 2021. 11. 19.] [법률 제18176호, 2021. 5. 18., 일부개정]\n",
      "고용노동부 (근로기준정책과 - 해고, 취업규칙, 기타) 044-202-7534\n",
      "고용노동부 (근로기준정책과 - 소년) 044-202-7535\n",
      "고용노동부 (근로기준정책과 - 임금) 044-202-7548\n",
      "고용노동부 (여성고용정책과 - 여성) 044-202-7475\n",
      "고용노동부 (임금근로시간정책과 - 근로시간, 휴게) 044-202-7545\n",
      "고용노동부 (임금근로시간정책과 - 휴일, 연차휴가) 044-202-7973\n",
      "고용노동부 (임금근로시간정책과 - 제63조 적용제외, 특례업종) 044-202-7530\n",
      "고용노동부 (임금근로시간정책과 - 유연근로시간제) 044-202-7549\n",
      "       제1장 총칙\n",
      " \n",
      "제1조(목적) 이 법은 헌법에 따라 근로조건의 기준을 정함으로써 근로자의 기본적 생활을 보장, 향상시키며 균형 있는\n",
      "국민경제의 발전을 꾀하는 것을 목적으로 한다.\n",
      " \n",
      "제2조(정의) ① 이 법에서 사용하는 용어의 뜻은 다음과 같다. <개정 2018. 3. 20., 2019. 1. 15., 2020. 5. 26.>\n",
      "1. “근로자”란 직업의 종류와 관계없이 임금을 목적으로 사업이나 사업장에 근로를 제공하는 사람을 말한다.\n",
      "2. “사용자”란 사업주 또는 사업 경영 담당자, 그 밖에 근로자에 관한 사항에 대하여 사업주를 위하여 행위하는 자를\n",
      "말한다.\n",
      "3. “근로”란 정신노동과 육체노동을 말한다.\n",
      "4. “근로계약”이란 근로자가 사용자에게 근로를 제공하고 사용자는 이에 대하여 임금을 지급하는 것을 목적으로 체\n",
      "결된 계약을 말한다.\n",
      "5. “임금”이란 사용자가 근로의 대가로 근로자에게 임금, 봉급, 그 밖에 어떠한 명칭으로든지 지급하는 모든 금품을\n",
      "말한다.\n",
      "6. “평균임금”이란 이를 산정하여야 할 사유가 발생한 날 이전 3개월 동안에 그 근로자에게 지급된 임금의 총액을\n",
      "그 기간의 총일수로 나눈 금액을 말한다. 근로자가 취업한 후 3개월 미만인 경우도 이에 준한다.\n",
      "7. “1주”란 휴일을 포함한 7일을 말한다.\n",
      "8. “소정(所定)근로시간”이란 제50조, 제69조 본문 또는 「산업안전보건법」 제139조제1항에 따른 근로시간의 범위에\n",
      "서 근로자와 사용자 사이에 정한 근로시간을 말한다.\n",
      "9. “단시간근로자”란 1주 동안의 소정근로시간이 그 사업장에서 같은 종류의 업무에 종사하는 통상 근로자의 1주\n",
      "동안의 소정근로시간에 비하여 짧은 근로자를 말한다.\n",
      "② 제1항제6호에 따라 산출된 금액이 그 근로자의 통상임금보다 적으면 그 통상임금액을 평균임금으로 한다.\n",
      " \n",
      "제3조(근로조건의 기준) 이 법에서 정하는 근로조건은 최저기준이므로 근로 관계 당사자는 이 기준을 이유로 근로조건\n",
      "을 낮출 수 없다.\n",
      " \n",
      "제4조(근로조건의 결정) 근로조건은 근로자와 사용자가 동등한 지위에서 자유의사에 따라 결정하여야 한다.\n",
      " \n",
      "제5조(근로조건의 준수) 근로자와 사용자는 각자가 단체협약, 취업규칙과 근로계약을 지키고 성실하게 이행할 의무가\n",
      "있다.\n",
      " \n",
      "제6조(균등한 처우) 사용자는 근로자에 대하여 남녀의 성(性)을 이유로 차별적 대우를 하지 못하고, 국적ㆍ신앙 또는 사\n",
      "회적 신분을 이유로 근로조건에 대한 차별적 처우를 하지 못한다.\n",
      " \n",
      "제7조(강제 근로의 금지) 사용자는 폭행, 협박, 감금, 그 밖에 정신상 또는 신체상의 자유를 부당하게 구속하는 수단으로\n",
      "써 근로자의 자유의사에 어긋나는 근로를 강요하지 못한다.' metadata={'producer': 'iText 2.1.7 by 1T3XT', 'creator': 'PyPDF', 'creationdate': '2024-10-15T14:45:34+09:00', 'moddate': '2024-10-15T14:45:34+09:00', 'source': './data/labor_law.pdf', 'total_pages': 20, 'page': 0, 'page_label': '1'}\n"
     ]
    }
   ],
   "source": [
    "print(f'첫 번째 문서: {pdf_docs[0]}')"
   ]
  },
  {
   "cell_type": "code",
   "execution_count": 46,
   "id": "742f6597",
   "metadata": {},
   "outputs": [
    {
     "name": "stdout",
     "output_type": "stream",
     "text": [
      "첫 번째 문서의 텍스트 길이: 1811\n"
     ]
    }
   ],
   "source": [
    "long_text = pdf_docs[0].page_content\n",
    "print(f'첫 번째 문서의 텍스트 길이: {len(long_text)}')"
   ]
  },
  {
   "cell_type": "markdown",
   "id": "95a5ec79",
   "metadata": {},
   "source": [
    "### 1. **CharacterTextSplitter**\n",
    "- 가장 기본적인 분할 방식\n",
    "- 문자 수를 기준으로 텍스트를 분할\n",
    "- 단순하지만 문맥을 고려하지 않는다는 단점이 있음\n",
    "\n",
    "- 설치: pip install langchain_text_splitters 또는 uv add langchain_text_splitters"
   ]
  },
  {
   "cell_type": "code",
   "execution_count": 69,
   "id": "8821e97e",
   "metadata": {},
   "outputs": [
    {
     "name": "stdout",
     "output_type": "stream",
     "text": [
      "분할된 텍스트 개수: 3\n",
      "첫 번째 분할된 텍스트: 법제처                                                            1                                                       국가법령정보센터\n",
      "근로기준법\n",
      " \n",
      "근로기준법\n",
      "[시행 2021. 11. 19.] [법률 제18176호, 2021. 5. 18., 일부개정]\n",
      "고용노동부 (근로기준정책과 - 해고, 취업규칙, 기타) 044-202-7534\n",
      "고용노동부 (근로기준정책과 - 소년) 044-202-7535\n",
      "고용노동부 (근로기준정책과 - 임금) 044-202-7548\n",
      "고용노동부 (여성고용정책과 - 여성) 044-202-7475\n",
      "고용노동부 (임금근로시간정책과 - 근로시간, 휴게) 044-202-7545\n",
      "고용노동부 (임금근로시간정책과 - 휴일, 연차휴가) 044-202-7973\n",
      "고용노동부 (임금근로시간정책과 - 제63조 적용제외, 특례업종) 044-202-7530\n",
      "고용노동부 (임금근로시간정책과 - 유연근로시간제) 044-202-7549\n",
      "       제1장 총칙\n",
      " \n",
      "제1조(목적) 이 법은 헌법에 따라 근로조건의 기준을 정함으로써 근로자의 기본적 생활을 보장, 향상시키며 균형 있는\n",
      "국민경제의 발전을 꾀하는 것을 목적으로 한다.\n",
      " \n",
      "제2조(정의) ① 이 법에서 사용하는 용어의 뜻은 다음과 같다. <개정 2018. 3. 20., 2019. 1. 15., 2020. 5. 26.>\n",
      "1. “근로자”란 직업의 종류와 관계없이 임금을 목적으로 사업이나 사업장에 근로를 제공하는 사람을 말한다.\n",
      "2. “사용자”란 사업주 또는 사업 경영 담당자, 그 밖에 근로자에 관한 사항에 대하여 사업주를 위하여 행위하는 자를\n",
      "말한다.\n",
      "3. “근로”란 정신노동과 육체노동을 말한다.\n",
      "4. “근로계약”이란 근로자가 사용자에게 근로를 제공하고 사용자는 이에 대하여 임금을 지급하는 것을 목적으로 체\n",
      "결된 계약을 말한다.\n"
     ]
    }
   ],
   "source": [
    "from langchain_text_splitters import CharacterTextSplitter \n",
    "\n",
    "# 텍스트 분할기 초기화 (기본 설정값 적용 )\n",
    "text_splitter = CharacterTextSplitter(\n",
    "\n",
    "    # CharacterTextSplitter의 기본 설정값\n",
    "    separator = \"\\n\",         # 청크 구분자: 두 개의 개행문자   --텍스트를 이거를 기준으로 나눠줌, 공백이면 단어와 단어사이를 나누겠따는 뜻\n",
    "    is_separator_regex = False,  # 구분자가 정규식인지 여부\n",
    "\n",
    "    # TextSplitter의 기본 설정값\n",
    "    chunk_size = 1000,          # 청크 길이\n",
    "    chunk_overlap = 200,        # 청크 중첩\n",
    "    # length_function = len,      # 길이 함수 (문자열 길이)\n",
    "    # keep_separator = False,     # 구분자 유지 여부\n",
    "    # add_start_index = False,   # 시작 인덱스 추가 여부\n",
    "    # strip_whitespace = True,   # 공백 제거 여부\n",
    ")\n",
    "\n",
    "# 텍스트 분할 - split_text() 메서드 사용\n",
    "texts = text_splitter.split_text(long_text)\n",
    "\n",
    "# 분할된 텍스트 개수 출력\n",
    "print(f'분할된 텍스트 개수: {len(texts)}')\n",
    "\n",
    "# 첫 번째 분할된 텍스트 출력\n",
    "print(f'첫 번째 분할된 텍스트: {texts[0]}')"
   ]
  },
  {
   "cell_type": "code",
   "execution_count": 70,
   "id": "5febd9bf",
   "metadata": {},
   "outputs": [
    {
     "name": "stdout",
     "output_type": "stream",
     "text": [
      "분할된 텍스트 개수: 3\n",
      "청크 1의 텍스트 길이: 936\n",
      "청크 2의 텍스트 길이: 944\n",
      "청크 3의 텍스트 길이: 273\n",
      "첫 번째 청크의 텍스트: 법제처                                                            1                                                       국가법령정보센터\n",
      "근로기준법\n",
      " \n",
      "근로기준법\n",
      "[시행 2021. 11. 19.] [법률 제18176호, 2021. 5. 18., 일부개정]\n",
      "고용노동부 (근로기준정책과 - 해고, 취업규칙, 기타) 044-202-7534\n",
      "고용노동부 (근로기준정책과 - 소년) 044-202-7535\n",
      "고용노동부 (근로기준정책과 - 임금) 044-202-7548\n",
      "고용노동부 (여성고용정책과 - 여성) 044-202-7475\n",
      "고용노동부 (임금근로시간정책과 - 근로시간, 휴게) 044-202-7545\n",
      "고용노동부 (임금근로시간정책과 - 휴일, 연차휴가) 044-202-7973\n",
      "고용노동부 (임금근로시간정책과 - 제63조 적용제외, 특례업종) 044-202-7530\n",
      "고용노동부 (임금근로시간정책과 - 유연근로시간제) 044-202-7549\n",
      "       제1장 총칙\n",
      " \n",
      "제1조(목적) 이 법은 헌법에 따라 근로조건의 기준을 정함으로써 근로자의 기본적 생활을 보장, 향상시키며 균형 있는\n",
      "국민경제의 발전을 꾀하는 것을 목적으로 한다.\n",
      " \n",
      "제2조(정의) ① 이 법에서 사용하는 용어의 뜻은 다음과 같다. <개정 2018. 3. 20., 2019. 1. 15., 2020. 5. 26.>\n",
      "1. “근로자”란 직업의 종류와 관계없이 임금을 목적으로 사업이나 사업장에 근로를 제공하는 사람을 말한다.\n",
      "2. “사용자”란 사업주 또는 사업 경영 담당자, 그 밖에 근로자에 관한 사항에 대하여 사업주를 위하여 행위하는 자를\n",
      "말한다.\n",
      "3. “근로”란 정신노동과 육체노동을 말한다.\n",
      "4. “근로계약”이란 근로자가 사용자에게 근로를 제공하고 사용자는 이에 대하여 임금을 지급하는 것을 목적으로 체\n",
      "결된 계약을 말한다.\n"
     ]
    }
   ],
   "source": [
    "from langchain_text_splitters import CharacterTextSplitter\n",
    "\n",
    "# 문장 구분자를 개행문자로 설정\n",
    "text_splitter = CharacterTextSplitter(\n",
    "    separator = \"\\n\",        # 청크 구분자: 개행문자\n",
    "    chunk_size = 1000,       # 청크 길이\n",
    "    chunk_overlap = 200      # 청크 중첩\n",
    ")\n",
    "\n",
    "# split_documents() 메서드 사용 : Document 객체를 여러 개의 작은 청크 문서로 분할\n",
    "chunks = text_splitter.split_documents([pdf_docs[0]])   # 첫 번째 문서만 분할\n",
    "\n",
    "# 분할된 텍스트 개수 출력\n",
    "print(f'분할된 텍스트 개수: {len(chunks)}')\n",
    "\n",
    "# 각 청크의 텍스트 길이 출력\n",
    "for i, chunk in enumerate(chunks):\n",
    "    print(f'청크 {i+1}의 텍스트 길이: {len(chunk.page_content)}')\n",
    "\n",
    "# 첫 번째 청크의 텍스트 출력\n",
    "print(f'첫 번째 청크의 텍스트: {chunks[0].page_content}')"
   ]
  },
  {
   "cell_type": "markdown",
   "id": "ba7466eb",
   "metadata": {},
   "source": [
    "### 2. **RecursiveCharacterTextSplitter**\n",
    "\n",
    "- 재귀적으로 텍스트를 분할\n",
    "- 구분자를 순차적으로 적용하여 큰 청크에서 시작하여 점진적으로 더 작은 단위로 분할\n",
    "- 문맥을 더 잘 보존할 수 있음  \n"
   ]
  },
  {
   "cell_type": "code",
   "execution_count": 71,
   "id": "2f67f7c0",
   "metadata": {},
   "outputs": [
    {
     "name": "stdout",
     "output_type": "stream",
     "text": [
      "생성된 텍스트 청크 수: 56\n",
      "각 청크의 길이: [936, 944, 273, 941, 942, 941, 963, 637, 971, 991, 420, 946, 985, 563, 953, 980, 341, 961, 997, 661, 996, 957, 336, 951, 987, 367, 966, 959, 697, 981, 967, 950, 959, 842, 990, 975, 440, 966, 970, 448, 947, 967, 413, 939, 997, 393, 952, 958, 255, 987, 687, 997, 975, 377, 978, 888]\n",
      "\n",
      "법제처                                                            1                                                       국가법령정보센터\n",
      "근로기준법\n",
      " \n",
      "근로기준법\n",
      "[시행 2021. 11. 19.] [법률 제18176호, 2021. 5. 18., 일부개정]\n",
      "고용노동부 \n",
      "----------------------------------------------------------------------------------------------------\n",
      " 사업이나 사업장에 근로를 제공하는 사람을 말한다.\n",
      "2. “사용자”란 사업주 또는 사업 경영 담당자, 그 밖에 근로자에 관한 사항에 대하여 사업주를 위하여 행위하는 자를\n",
      "말한다.\n",
      "3. “근로”란 정신노동과 육체노동을 말한다.\n",
      "4. “근로계약”이란 근로자가 사용자에게 근로를 제공하고 사용자는 이에 대하여 임금을 지급하는 것을 목적으로 체\n",
      "결된 계약을 말한다.\n",
      "====================================================================================================\n",
      "\n",
      "2. “사용자”란 사업주 또는 사업 경영 담당자, 그 밖에 근로자에 관한 사항에 대하여 사업주를 위하여 행위하는 자를\n",
      "말한다.\n",
      "3. “근로”란 정신노동과 육체노동을 말한다.\n",
      "4. “근로계약”이란 근로자가 사용자에게 근로를 제공하고 사용자는 이에 대하여 임금을 지급하는 것을 목적으로 체\n",
      "결된 계약을 말한다.\n",
      "5. “임금”이란 사용자가 근로의 대가로 근로자에게\n",
      "----------------------------------------------------------------------------------------------------\n",
      "등한 지위에서 자유의사에 따라 결정하여야 한다.\n",
      " \n",
      "제5조(근로조건의 준수) 근로자와 사용자는 각자가 단체협약, 취업규칙과 근로계약을 지키고 성실하게 이행할 의무가\n",
      "있다.\n",
      " \n",
      "제6조(균등한 처우) 사용자는 근로자에 대하여 남녀의 성(性)을 이유로 차별적 대우를 하지 못하고, 국적ㆍ신앙 또는 사\n",
      "회적 신분을 이유로 근로조건에 대한 차별적 처우를 하지 못한다.\n",
      "====================================================================================================\n",
      "\n",
      "제5조(근로조건의 준수) 근로자와 사용자는 각자가 단체협약, 취업규칙과 근로계약을 지키고 성실하게 이행할 의무가\n",
      "있다.\n",
      " \n",
      "제6조(균등한 처우) 사용자는 근로자에 대하여 남녀의 성(性)을 이유로 차별적 대우를 하지 못하고, 국적ㆍ신앙 또는 사\n",
      "회적 신분을 이유로 근로조건에 대한 차별적 처우를 하지 못한다.\n",
      " \n",
      "제7조(강제 근로의 금지) 사용자는 폭행, 협박\n",
      "----------------------------------------------------------------------------------------------------\n",
      "균등한 처우) 사용자는 근로자에 대하여 남녀의 성(性)을 이유로 차별적 대우를 하지 못하고, 국적ㆍ신앙 또는 사\n",
      "회적 신분을 이유로 근로조건에 대한 차별적 처우를 하지 못한다.\n",
      " \n",
      "제7조(강제 근로의 금지) 사용자는 폭행, 협박, 감금, 그 밖에 정신상 또는 신체상의 자유를 부당하게 구속하는 수단으로\n",
      "써 근로자의 자유의사에 어긋나는 근로를 강요하지 못한다.\n",
      "====================================================================================================\n",
      "\n",
      "법제처                                                            2                                                       국가법령정보센터\n",
      "근로기준법\n",
      "제8조(폭행의 금지) 사용자는 사고의 발생이나 그 밖의 어떠한 이유로도 근로자에게 폭행을 하지 못한다.\n",
      " \n",
      "제9조(중간\n",
      "----------------------------------------------------------------------------------------------------\n",
      "ㆍ도, 시ㆍ군ㆍ구, 읍ㆍ면ㆍ동, 그 밖에 이에\n",
      "준하는 것에 대하여도 적용된다.\n",
      " \n",
      "제13조(보고, 출석의 의무) 사용자 또는 근로자는 이 법의 시행에 관하여 고용노동부장관ㆍ「노동위원회법」에 따른 노\n",
      "동위원회(이하 “노동위원회”라 한다) 또는 근로감독관의 요구가 있으면 지체 없이 필요한 사항에 대하여 보고하거나\n",
      "출석하여야 한다. <개정 2010. 6. 4.>\n",
      "====================================================================================================\n",
      "\n",
      "준하는 것에 대하여도 적용된다.\n",
      " \n",
      "제13조(보고, 출석의 의무) 사용자 또는 근로자는 이 법의 시행에 관하여 고용노동부장관ㆍ「노동위원회법」에 따른 노\n",
      "동위원회(이하 “노동위원회”라 한다) 또는 근로감독관의 요구가 있으면 지체 없이 필요한 사항에 대하여 보고하거나\n",
      "출석하여야 한다. <개정 2010. 6. 4.>\n",
      " \n",
      "제14조(법령 주요 내용 등의 게시) ① \n",
      "----------------------------------------------------------------------------------------------------\n",
      "함]\n",
      " \n",
      "제17조(근로조건의 명시) ① 사용자는 근로계약을 체결할 때에 근로자에게 다음 각 호의 사항을 명시하여야 한다. 근로\n",
      "계약 체결 후 다음 각 호의 사항을 변경하는 경우에도 또한 같다. <개정 2010. 5. 25.>\n",
      "1. 임금\n",
      "2. 소정근로시간\n",
      "3. 제55조에 따른 휴일\n",
      "4. 제60조에 따른 연차 유급휴가\n",
      "5. 그 밖에 대통령령으로 정하는 근로조건\n",
      "====================================================================================================\n",
      "\n"
     ]
    }
   ],
   "source": [
    "from langchain_text_splitters import RecursiveCharacterTextSplitter\n",
    "\n",
    "# 재귀적 텍스트 분할기 초기화\n",
    "text_splitter = RecursiveCharacterTextSplitter(\n",
    "    chunk_size=1000,             # 청크 크기  \n",
    "    chunk_overlap=200,           # 청크 중 중복되는 부분 크기\n",
    "    length_function=len,         # 글자 수를 기준으로 분할\n",
    "    separators=[\"\\n\\n\", \"\\n\", \" \", \"\"],  # 구분자 - 재귀적으로 순차적으로 적용 \n",
    ")\n",
    "\n",
    "# split_documents() 메서드 사용 : Document 객체를 여러 개의 작은 청크 문서로 분할\n",
    "chunks = text_splitter.split_documents(pdf_docs)\n",
    "print(f\"생성된 텍스트 청크 수: {len(chunks)}\")\n",
    "print(f\"각 청크의 길이: {list(len(chunk.page_content) for chunk in chunks)}\")\n",
    "print()\n",
    "\n",
    "# 각 청크의 시작 부분과 끝 부분 확인 - 5개 청크만 출력\n",
    "for chunk in chunks[:5]:\n",
    "    print(chunk.page_content[:200])\n",
    "    print(\"-\" * 100)\n",
    "    print(chunk.page_content[-200:])\n",
    "    print(\"=\" * 100)\n",
    "    print()"
   ]
  },
  {
   "cell_type": "markdown",
   "id": "ef0ecd1d",
   "metadata": {},
   "source": [
    "### 3. **정규표현식 사용**"
   ]
  },
  {
   "cell_type": "code",
   "execution_count": 50,
   "id": "9134516a",
   "metadata": {},
   "outputs": [
    {
     "name": "stdout",
     "output_type": "stream",
     "text": [
      "생성된 텍스트 청크 수: 55\n",
      "각 청크의 길이: [939, 944, 273, 937, 922, 941, 986, 561, 971, 973, 387, 946, 751, 764, 935, 957, 401, 826, 890, 830, 996, 998, 951, 985, 274, 961, 889, 776, 947, 926, 999, 996, 479, 929, 890, 594, 961, 963, 409, 947, 998, 329, 866, 954, 464, 955, 989, 255, 999, 670, 923, 912, 291, 981, 880]\n",
      "\n",
      "법제처                                                            1                                                       국가법령정보센터\n",
      "근로기준법\n",
      " \n",
      "근로기준법\n",
      "[시행 2021. 11. 19.] [법률 제18176호, 2021. 5. 18., 일부개정]\n",
      "고용노동부 \n",
      "...\n",
      "이나 사업장에 근로를 제공하는 사람을 말한다.\n",
      "2. “사용자”란 사업주 또는 사업 경영 담당자, 그 밖에 근로자에 관한 사항에 대하여 사업주를 위하여 행위하는 자를\n",
      "말한다.\n",
      "3. “근로”란 정신노동과 육체노동을 말한다.\n",
      "4. “근로계약”이란 근로자가 사용자에게 근로를 제공하고 사용자는 이에 대하여 임금을 지급하는 것을 목적으로 체\n",
      "결된 계약을 말한다.\n",
      "5.\n",
      "====================================================================================================\n",
      "\n",
      "2. “사용자”란 사업주 또는 사업 경영 담당자, 그 밖에 근로자에 관한 사항에 대하여 사업주를 위하여 행위하는 자를\n",
      "말한다.\n",
      "3. “근로”란 정신노동과 육체노동을 말한다.\n",
      "4. “근로계약”이란 근로자가 사용자에게 근로를 제공하고 사용자는 이에 대하여 임금을 지급하는 것을 목적으로 체\n",
      "결된 계약을 말한다.\n",
      "5. “임금”이란 사용자가 근로의 대가로 근로자에게\n",
      "...\n",
      "등한 지위에서 자유의사에 따라 결정하여야 한다.\n",
      " \n",
      "제5조(근로조건의 준수) 근로자와 사용자는 각자가 단체협약, 취업규칙과 근로계약을 지키고 성실하게 이행할 의무가\n",
      "있다.\n",
      " \n",
      "제6조(균등한 처우) 사용자는 근로자에 대하여 남녀의 성(性)을 이유로 차별적 대우를 하지 못하고, 국적ㆍ신앙 또는 사\n",
      "회적 신분을 이유로 근로조건에 대한 차별적 처우를 하지 못한다.\n",
      "====================================================================================================\n",
      "\n",
      "제5조(근로조건의 준수) 근로자와 사용자는 각자가 단체협약, 취업규칙과 근로계약을 지키고 성실하게 이행할 의무가\n",
      "있다.\n",
      " \n",
      "제6조(균등한 처우) 사용자는 근로자에 대하여 남녀의 성(性)을 이유로 차별적 대우를 하지 못하고, 국적ㆍ신앙 또는 사\n",
      "회적 신분을 이유로 근로조건에 대한 차별적 처우를 하지 못한다.\n",
      " \n",
      "제7조(강제 근로의 금지) 사용자는 폭행, 협박\n",
      "...\n",
      "균등한 처우) 사용자는 근로자에 대하여 남녀의 성(性)을 이유로 차별적 대우를 하지 못하고, 국적ㆍ신앙 또는 사\n",
      "회적 신분을 이유로 근로조건에 대한 차별적 처우를 하지 못한다.\n",
      " \n",
      "제7조(강제 근로의 금지) 사용자는 폭행, 협박, 감금, 그 밖에 정신상 또는 신체상의 자유를 부당하게 구속하는 수단으로\n",
      "써 근로자의 자유의사에 어긋나는 근로를 강요하지 못한다.\n",
      "====================================================================================================\n",
      "\n",
      "법제처                                                            2                                                       국가법령정보센터\n",
      "근로기준법\n",
      "제8조(폭행의 금지) 사용자는 사고의 발생이나 그 밖의 어떠한 이유로도 근로자에게 폭행을 하지 못한다.\n",
      " \n",
      "제9조(중간\n",
      "...\n",
      "ㆍ광역시ㆍ도, 시ㆍ군ㆍ구, 읍ㆍ면ㆍ동, 그 밖에 이에\n",
      "준하는 것에 대하여도 적용된다.\n",
      " \n",
      "제13조(보고, 출석의 의무) 사용자 또는 근로자는 이 법의 시행에 관하여 고용노동부장관ㆍ「노동위원회법」에 따른 노\n",
      "동위원회(이하 “노동위원회”라 한다) 또는 근로감독관의 요구가 있으면 지체 없이 필요한 사항에 대하여 보고하거나\n",
      "출석하여야 한다. <개정 2010. 6.\n",
      "====================================================================================================\n",
      "\n",
      "제13조(보고, 출석의 의무) 사용자 또는 근로자는 이 법의 시행에 관하여 고용노동부장관ㆍ「노동위원회법」에 따른 노\n",
      "동위원회(이하 “노동위원회”라 한다) 또는 근로감독관의 요구가 있으면 지체 없이 필요한 사항에 대하여 보고하거나\n",
      "출석하여야 한다. <개정 2010. 6. 4.>\n",
      " \n",
      "제14조(법령 주요 내용 등의 게시) ① 사용자는 이 법과 이 법에 따른 대통\n",
      "...\n",
      "함]\n",
      " \n",
      "제17조(근로조건의 명시) ① 사용자는 근로계약을 체결할 때에 근로자에게 다음 각 호의 사항을 명시하여야 한다. 근로\n",
      "계약 체결 후 다음 각 호의 사항을 변경하는 경우에도 또한 같다. <개정 2010. 5. 25.>\n",
      "1. 임금\n",
      "2. 소정근로시간\n",
      "3. 제55조에 따른 휴일\n",
      "4. 제60조에 따른 연차 유급휴가\n",
      "5. 그 밖에 대통령령으로 정하는 근로조건\n",
      "====================================================================================================\n",
      "\n"
     ]
    }
   ],
   "source": [
    "from langchain_text_splitters import CharacterTextSplitter\n",
    "\n",
    "# 문장을 구분하여 분할 - 정규표현식 사용 (문장 구분자: 마침표, 느낌표, 물음표 다음에 공백이 오는 경우)\n",
    "text_splitter = CharacterTextSplitter(\n",
    "    separator=r'(?<=[.!?])\\s+',  # 각 Document 객체의 page_content 속성을 문장으로 분할\n",
    "    chunk_size=1000,\n",
    "    chunk_overlap=200,\n",
    "    is_separator_regex=True,      # 구분자가 정규식인지 여부: True\n",
    "    keep_separator=True,          # 구분자 유지 여부: True\n",
    ")\n",
    "\n",
    "# split_documents() 메서드 사용 : Document 객체를 여러 개의 작은 청크 문서로 분할\n",
    "chunks = text_splitter.split_documents(pdf_docs)  # 모든 문서를 분할\n",
    "print(f\"생성된 텍스트 청크 수: {len(chunks)}\")\n",
    "print(f\"각 청크의 길이: {list(len(chunk.page_content) for chunk in chunks)}\")\n",
    "print()\n",
    "\n",
    "# 각 청크의 시작 부분과 끝 부분 확인 - 5개 청크만 출력\n",
    "for chunk in chunks[:5]:\n",
    "    print(chunk.page_content[:200])\n",
    "    print(\"...\")\n",
    "    print(chunk.page_content[-200:])\n",
    "    print(\"=\" * 100)\n",
    "    print()"
   ]
  },
  {
   "cell_type": "markdown",
   "id": "9ac17b61",
   "metadata": {},
   "source": [
    "`(4) 유사도 기반 검색`"
   ]
  },
  {
   "cell_type": "markdown",
   "id": "1e4764ba",
   "metadata": {},
   "source": [
    "### 4. **토큰 수를 기반으로 분할**"
   ]
  },
  {
   "cell_type": "markdown",
   "id": "26c2721f",
   "metadata": {},
   "source": [
    "`(1) tiktoken`  \n",
    "- OpenAI에서 만든 BPE Tokenizer"
   ]
  },
  {
   "cell_type": "code",
   "execution_count": 72,
   "id": "df3a3f9f",
   "metadata": {},
   "outputs": [
    {
     "data": {
      "text/plain": [
       "1811"
      ]
     },
     "execution_count": 72,
     "metadata": {},
     "output_type": "execute_result"
    }
   ],
   "source": [
    "# 첫번째 문서 객체의 텍스트 길이\n",
    "len(pdf_docs[0].page_content)"
   ]
  },
  {
   "cell_type": "code",
   "execution_count": 52,
   "id": "58081f4f",
   "metadata": {},
   "outputs": [
    {
     "name": "stdout",
     "output_type": "stream",
     "text": [
      "생성된 청크 수: 6\n",
      "각 청크의 길이: [423, 280, 301, 240, 287, 273]\n",
      "법제처                                               \n",
      "--------------------------------------------------\n",
      "202-7545\n",
      "고용노동부 (임금근로시간정책과 - 휴일, 연차휴가) 044-202-7973\n",
      "==================================================\n",
      "\n",
      "고용노동부 (임금근로시간정책과 - 제63조 적용제외, 특례업종) 044-202-7530\n",
      "고\n",
      "--------------------------------------------------\n",
      " 같다. <개정 2018. 3. 20., 2019. 1. 15., 2020. 5. 26.>\n",
      "==================================================\n",
      "\n",
      "1. “근로자”란 직업의 종류와 관계없이 임금을 목적으로 사업이나 사업장에 근로를 제공하는\n",
      "--------------------------------------------------\n",
      "대가로 근로자에게 임금, 봉급, 그 밖에 어떠한 명칭으로든지 지급하는 모든 금품을\n",
      "말한다.\n",
      "==================================================\n",
      "\n",
      "6. “평균임금”이란 이를 산정하여야 할 사유가 발생한 날 이전 3개월 동안에 그 근로자에\n",
      "--------------------------------------------------\n",
      "139조제1항에 따른 근로시간의 범위에\n",
      "서 근로자와 사용자 사이에 정한 근로시간을 말한다.\n",
      "==================================================\n",
      "\n",
      "9. “단시간근로자”란 1주 동안의 소정근로시간이 그 사업장에서 같은 종류의 업무에 종사하\n",
      "--------------------------------------------------\n",
      "건의 결정) 근로조건은 근로자와 사용자가 동등한 지위에서 자유의사에 따라 결정하여야 한다.\n",
      "==================================================\n",
      "\n"
     ]
    }
   ],
   "source": [
    "from langchain_text_splitters import RecursiveCharacterTextSplitter\n",
    "\n",
    "# TikToken 인코더를 사용하여 재귀적 텍스트 분할기 초기화\n",
    "text_splitter = RecursiveCharacterTextSplitter.from_tiktoken_encoder(\n",
    "    encoding_name=\"cl100k_base\", \n",
    "    # model_name=\"gpt-4.1-mini\",\n",
    "    chunk_size=300, \n",
    "    chunk_overlap=0,\n",
    ")\n",
    "\n",
    "# split_documents() 메서드 사용 : Document 객체를 여러 개의 작은 청크 문서로 분할\n",
    "chunks = text_splitter.split_documents([pdf_docs[0]])  # 첫 번째 문서만 분할\n",
    "\n",
    "print(f\"생성된 청크 수: {len(chunks)}\")\n",
    "print(f\"각 청크의 길이: {list(len(chunk.page_content) for chunk in chunks)}\")\n",
    "\n",
    "# 각 청크의 시작 부분과 끝 부분 확인\n",
    "for chunk in chunks[:5]:\n",
    "    print(chunk.page_content[:50])\n",
    "    print(\"-\" * 50)\n",
    "    print(chunk.page_content[-50:])\n",
    "    print(\"=\" * 50)\n",
    "    print()"
   ]
  },
  {
   "cell_type": "code",
   "execution_count": 53,
   "id": "cd7bff50",
   "metadata": {},
   "outputs": [
    {
     "name": "stdout",
     "output_type": "stream",
     "text": [
      "297\n",
      "[28617, 243, 38187, 36155, 246, 12216, 220, 16, 26857, 8790]\n",
      "['�', '�', '제', '�', '�', '                                                           ', ' ', '1', '                                                      ', ' �']\n",
      "==================================================\n",
      "\n",
      "259\n",
      "[35495, 27797, 75265, 116, 58189, 64189, 320, 94801, 18202, 230]\n",
      "['고', '용', '�', '�', '동', '부', ' (', '임', '�', '�']\n",
      "==================================================\n",
      "\n",
      "290\n",
      "[16, 13, 1054, 90161, 120, 17835, 26799, 863, 39519, 222]\n",
      "['1', '.', ' “', '�', '�', '로', '자', '”', '�', '�']\n",
      "==================================================\n",
      "\n",
      "239\n",
      "[21, 13, 1054, 169, 237, 231, 90161, 254, 94801, 18202]\n",
      "['6', '.', ' “', '�', '�', '�', '�', '�', '임', '�']\n",
      "==================================================\n",
      "\n",
      "286\n",
      "[24, 13, 1054, 9019, 101, 30426, 63375, 90161, 120, 17835]\n",
      "['9', '.', ' “', '�', '�', '시', '간', '�', '�', '로']\n",
      "==================================================\n",
      "\n"
     ]
    }
   ],
   "source": [
    "import tiktoken\n",
    "\n",
    "tokenizer = tiktoken.get_encoding(\"cl100k_base\")\n",
    "# tokenizer = tiktoken.encoding_for_model(\"gpt-4.1-mini\")\n",
    "\n",
    "for chunk in chunks[:5]:\n",
    "\n",
    "    # 각 청크를 토큰화\n",
    "    tokens = tokenizer.encode(chunk.page_content)\n",
    "    # 각 청크의 단어 수 확인\n",
    "    print(len(tokens))\n",
    "    # 각 청크의 토큰화 결과 확인 (첫 10개 토큰만 출력)\n",
    "    print(tokens[:10])\n",
    "    # 토큰 ID를 실제 토큰(문자열)로 변환해서 출력\n",
    "    token_strings = [tokenizer.decode([token]) for token in tokens[:10]]\n",
    "    print(token_strings)\n",
    "\n",
    "    print(\"=\" * 50)\n",
    "    print()"
   ]
  },
  {
   "cell_type": "markdown",
   "id": "5956daaa",
   "metadata": {},
   "source": [
    "`(2) Hugging Face 토크나이저`  \n",
    "- Hugging Face tokenizer 모델의 토큰 수를 기준으로 분할\n",
    "- uv add langchain_huggingface"
   ]
  },
  {
   "cell_type": "code",
   "execution_count": 54,
   "id": "7d51cdaf",
   "metadata": {},
   "outputs": [
    {
     "name": "stderr",
     "output_type": "stream",
     "text": [
      "c:\\Users\\User\\kt-ds\\.venv\\Lib\\site-packages\\tqdm\\auto.py:21: TqdmWarning: IProgress not found. Please update jupyter and ipywidgets. See https://ipywidgets.readthedocs.io/en/stable/user_install.html\n",
      "  from .autonotebook import tqdm as notebook_tqdm\n"
     ]
    },
    {
     "data": {
      "text/plain": [
       "XLMRobertaTokenizerFast(name_or_path='BAAI/bge-m3', vocab_size=250002, model_max_length=8192, is_fast=True, padding_side='right', truncation_side='right', special_tokens={'bos_token': '<s>', 'eos_token': '</s>', 'unk_token': '<unk>', 'sep_token': '</s>', 'pad_token': '<pad>', 'cls_token': '<s>', 'mask_token': '<mask>'}, clean_up_tokenization_spaces=True, added_tokens_decoder={\n",
       "\t0: AddedToken(\"<s>\", rstrip=False, lstrip=False, single_word=False, normalized=False, special=True),\n",
       "\t1: AddedToken(\"<pad>\", rstrip=False, lstrip=False, single_word=False, normalized=False, special=True),\n",
       "\t2: AddedToken(\"</s>\", rstrip=False, lstrip=False, single_word=False, normalized=False, special=True),\n",
       "\t3: AddedToken(\"<unk>\", rstrip=False, lstrip=False, single_word=False, normalized=False, special=True),\n",
       "\t250001: AddedToken(\"<mask>\", rstrip=False, lstrip=True, single_word=False, normalized=False, special=True),\n",
       "}\n",
       ")"
      ]
     },
     "execution_count": 54,
     "metadata": {},
     "output_type": "execute_result"
    }
   ],
   "source": [
    "from transformers import AutoTokenizer\n",
    "tokenizer = AutoTokenizer.from_pretrained(\"BAAI/bge-m3\")\n",
    "\n",
    "tokenizer"
   ]
  },
  {
   "cell_type": "code",
   "execution_count": 55,
   "id": "c5abee28",
   "metadata": {},
   "outputs": [
    {
     "name": "stdout",
     "output_type": "stream",
     "text": [
      "[0, 107687, 5, 20451, 54272, 16367, 5, 2]\n"
     ]
    }
   ],
   "source": [
    "# 토크나이저 인코딩 - 문장을 토큰(ID)으로 변환\n",
    "tokens = tokenizer.encode(\"안녕하세요. 반갑습니다.\")\n",
    "print(tokens)"
   ]
  },
  {
   "cell_type": "code",
   "execution_count": 28,
   "id": "c6a76e60",
   "metadata": {},
   "outputs": [
    {
     "name": "stdout",
     "output_type": "stream",
     "text": [
      "['<s>', '▁안녕하세요', '.', '▁반', '갑', '습니다', '.', '</s>']\n"
     ]
    }
   ],
   "source": [
    "# 토큰을 출력 (토큰 ID를 실제 토큰(문자열)로 변환)\n",
    "print(tokenizer.convert_ids_to_tokens(tokens)) "
   ]
  },
  {
   "cell_type": "code",
   "execution_count": 56,
   "id": "6cfbaec9",
   "metadata": {},
   "outputs": [
    {
     "name": "stdout",
     "output_type": "stream",
     "text": [
      "안녕하세요. 반갑습니다.\n"
     ]
    }
   ],
   "source": [
    "# 디코딩 - 토큰을 문자열로 변환\n",
    "print(tokenizer.decode(tokens, skip_special_tokens=True))"
   ]
  },
  {
   "cell_type": "code",
   "execution_count": 58,
   "id": "4c468edc",
   "metadata": {},
   "outputs": [
    {
     "name": "stdout",
     "output_type": "stream",
     "text": [
      "생성된 청크 수: 4\n",
      "각 청크의 길이: [620, 527, 453, 204]\n",
      "\n",
      "284\n",
      "[0, 37668, 4654, 24247, 106, 40343, 10629, 25547, 26444, 24740]\n",
      "['<s>', '▁법', '제', '처', '▁1', '▁국가', '법', '령', '정보', '센터']\n",
      "==================================================\n",
      "\n",
      "264\n",
      "[0, 6600, 304, 6740, 132, 2905, 367, 16, 106, 1504]\n",
      "['<s>', '▁제', '2', '조', '(', '정', '의', ')', '▁1', '▁이']\n",
      "==================================================\n",
      "\n",
      "267\n",
      "[0, 3217, 52, 3999, 2905, 132, 1493, 3779, 16, 23147]\n",
      "['<s>', '▁8.', '▁“', '소', '정', '(', '所', '定', ')', '근']\n",
      "==================================================\n",
      "\n",
      "124\n",
      "[0, 6600, 910, 6740, 132, 83654, 19123, 993, 101840, 6775]\n",
      "['<s>', '▁제', '6', '조', '(', '균', '등', '한', '▁처', '우']\n",
      "==================================================\n",
      "\n"
     ]
    }
   ],
   "source": [
    "from langchain_text_splitters import RecursiveCharacterTextSplitter\n",
    "\n",
    "# Huggingface 토크나이저를 사용하여 재귀적 텍스트 분할기 초기화\n",
    "text_splitter = RecursiveCharacterTextSplitter.from_huggingface_tokenizer(\n",
    "    tokenizer=tokenizer,\n",
    "    chunk_size=300, \n",
    "    chunk_overlap=0,\n",
    ")\n",
    "\n",
    "# split_documents() 메서드 사용 : Document 객체를 여러 개의 작은 청크 문서로 분할\n",
    "chunks = text_splitter.split_documents([pdf_docs[0]]) # 첫 번째 문서만 분할\n",
    "\n",
    "print(f\"생성된 청크 수: {len(chunks)}\")\n",
    "print(f\"각 청크의 길이: {list(len(chunk.page_content) for chunk in chunks)}\")\n",
    "print()\n",
    "\n",
    "for chunk in chunks[:5]:\n",
    "\n",
    "    # 각 청크를 토큰화\n",
    "    tokens = tokenizer.encode(chunk.page_content)\n",
    "    # 각 청크의 단어 수 확인\n",
    "    print(len(tokens))\n",
    "    # 각 청크의 토큰화 결과 확인 (첫 10개 토큰만 출력)\n",
    "    print(tokens[:10])\n",
    "    # 토큰 ID를 실제 토큰(문자열)로 변환해서 출력\n",
    "    token_strings = tokenizer.convert_ids_to_tokens(tokens[:10]) \n",
    "    print(token_strings)\n",
    "\n",
    "    print(\"=\" * 50)\n",
    "    print()"
   ]
  },
  {
   "cell_type": "markdown",
   "id": "7f0bbc2e",
   "metadata": {},
   "source": [
    "### 5. **Semantic Chunking**\n",
    "\n",
    "- **SemanticChunker**는 텍스트를 의미 단위로 **분할**하는 특수한 텍스트 분할도구 \n",
    "\n",
    "- 단순 길이 기반이 아닌 **의미 기반**으로 텍스트를 청크화하는데 효과적\n",
    "\n",
    "- **breakpoint_threshold_type**: Text Splitting의 다양한 임계값(Threshold) 설정 방식 (통계적 기법) \n",
    "\n",
    "    - **Gradient** 방식: 임베딩 벡터 간의 **기울기 변화**를 기준으로 텍스트를 분할\n",
    "    - **Percentile** 방식: 임베딩 거리의 **백분위수**를 기준으로 분할 지점을 결정\n",
    "    - **Standard Deviation** 방식: 임베딩 거리의 **표준편차**를 활용하여 유의미한 변화점을 찾아서 분할\n",
    "    - **Interquartile** 방식: 임베딩 거리의 **사분위수 범위**를 기준으로 이상치를 감지하여 분할\n",
    "\n",
    "- 설치: pip install langchain_experimental 또는 uv add langchain_experimental\n"
   ]
  },
  {
   "cell_type": "code",
   "execution_count": 59,
   "id": "1b01cfc5",
   "metadata": {},
   "outputs": [],
   "source": [
    "from langchain_experimental.text_splitter import SemanticChunker \n",
    "from langchain_openai.embeddings import OpenAIEmbeddings\n",
    "\n",
    "# 임베딩 모델을 사용하여 SemanticChunker를 초기화 \n",
    "text_splitter = SemanticChunker(\n",
    "    embeddings=OpenAIEmbeddings(model=\"text-embedding-3-small\"),         # OpenAI 임베딩 사용\n",
    "    breakpoint_threshold_type=\"gradient\",  # 임계값 타입 설정 (gradient, percentile, standard_deviation, interquartile)\n",
    ")"
   ]
  },
  {
   "cell_type": "code",
   "execution_count": 60,
   "id": "956587ae",
   "metadata": {},
   "outputs": [
    {
     "name": "stdout",
     "output_type": "stream",
     "text": [
      "생성된 청크 수: 3\n",
      "각 청크의 길이: [151, 542, 1104]\n",
      "\n",
      "49\n",
      "법제처                                                            1                                    \n",
      "==================================================\n",
      "\n",
      "499\n",
      "11. 19.] [법률 제18176호, 2021. 5. 18., 일부개정]\n",
      "고용노동부 (근로기준정책과 - 해고, 취업규칙, 기타) 044-202-7534\n",
      "고용노동부 (근로기준정책과\n",
      "==================================================\n",
      "\n",
      "1109\n",
      "5. 26.>\n",
      "1. “근로자”란 직업의 종류와 관계없이 임금을 목적으로 사업이나 사업장에 근로를 제공하는 사람을 말한다. 2. “사용자”란 사업주 또는 사업 경영 담당자, 그 밖에\n",
      "==================================================\n",
      "\n"
     ]
    }
   ],
   "source": [
    "chunks = text_splitter.split_documents([pdf_docs[0]])\n",
    "\n",
    "print(f\"생성된 청크 수: {len(chunks)}\")\n",
    "print(f\"각 청크의 길이: {list(len(chunk.page_content) for chunk in chunks)}\")\n",
    "print()\n",
    "\n",
    "tokenizer = tiktoken.get_encoding(\"cl100k_base\")\n",
    "\n",
    "for chunk in chunks[:5]:\n",
    "\n",
    "    # 각 청크를 토큰화\n",
    "    tokens = tokenizer.encode(chunk.page_content)\n",
    "    # 각 청크의 단어 수 확인\n",
    "    print(len(tokens))\n",
    "    # 각 청크의 내용을 확인\n",
    "    print(chunk.page_content[:100])\n",
    "    print(\"=\" * 50)\n",
    "    print()"
   ]
  },
  {
   "cell_type": "markdown",
   "id": "8943d4bb",
   "metadata": {},
   "source": [
    "# 문서 임베딩(Document Embedding)\n",
    "\n",
    "- 개념: \n",
    "    - 텍스트를 벡터(숫자 배열)로 변환하는 과정\n",
    "    - 문서의 의미적 특성을 수치화하여 컴퓨터가 이해하고 처리할 수 있는 형태로 변환 \n",
    "\n",
    "- 목적:\n",
    "    - 텍스트 간 유사도 계산 가능\n",
    "    - 벡터 데이터베이스 저장 및 검색\n",
    "    - 의미 기반 문서 검색 구현\n",
    "\n",
    "- LangChain의 임베딩 모델 종류:\n",
    "    - OpenAI 임베딩\n",
    "    - HuggingFace 임베딩 "
   ]
  },
  {
   "cell_type": "markdown",
   "id": "1028fb3c",
   "metadata": {},
   "source": [
    "### 1. **OpenAI**\n",
    "\n",
    "- LangChain에서 가장 널리 사용되는 임베딩 모델 중 하나\n",
    "\n",
    "- 주요 특징:\n",
    "    1. 고품질의 임베딩 생성\n",
    "    2. 다양한 언어 지원 (다국어 지원)\n",
    "    3. 일관된 성능\n",
    "    4. 손쉬운 통합\n",
    "\n",
    "- 사용시 주의사항:\n",
    "    1. API 키 설정이 필요 (환경 변수 OPENAI_API_KEY)\n",
    "    2. API 사용량에 따른 비용 발생\n",
    "    3. 긴 텍스트는 자동으로 분할되지 않으므로 필요시 TextSplitter를 사용\n",
    "\n",
    "\n",
    "- 모델별 특징\n",
    "    ```\n",
    "    모델                    페이지/달러    MTEB 성능     최대입력\n",
    "    text-embedding-3-small  62,500       62.3%       8191\n",
    "    text-embedding-3-large   9,615       64.6%       8191\n",
    "    text-embedding-ada-002  12,500       61.0%       8191\n",
    "    ```\n",
    "\n",
    "- 임베딩 벡터 특성\n",
    "    1. small: 1536 차원\n",
    "    1. large: 3072 차원\n",
    "    1. dimensions 파라미터로 차원 축소 가능"
   ]
  },
  {
   "cell_type": "markdown",
   "id": "19d24267",
   "metadata": {},
   "source": [
    "`(1) embedding 모델`"
   ]
  },
  {
   "cell_type": "code",
   "execution_count": 61,
   "id": "6e021e2e",
   "metadata": {},
   "outputs": [
    {
     "data": {
      "text/plain": [
       "OpenAIEmbeddings(client=<openai.resources.embeddings.Embeddings object at 0x00000213DB51A990>, async_client=<openai.resources.embeddings.AsyncEmbeddings object at 0x00000213DB5A8E30>, model='text-embedding-3-large', dimensions=None, deployment='text-embedding-ada-002', openai_api_version=None, openai_api_base=None, openai_api_type=None, openai_proxy=None, embedding_ctx_length=8191, openai_api_key=SecretStr('**********'), openai_organization=None, allowed_special=None, disallowed_special=None, chunk_size=1000, max_retries=2, request_timeout=None, headers=None, tiktoken_enabled=True, tiktoken_model_name=None, show_progress_bar=False, model_kwargs={}, skip_empty=False, default_headers=None, default_query=None, retry_min_seconds=4, retry_max_seconds=20, http_client=None, http_async_client=None, check_embedding_ctx_length=True)"
      ]
     },
     "execution_count": 61,
     "metadata": {},
     "output_type": "execute_result"
    }
   ],
   "source": [
    "from langchain_openai import OpenAIEmbeddings\n",
    "\n",
    "# OpenAIEmbeddings 모델 생성\n",
    "embeddings_model = OpenAIEmbeddings(\n",
    "    model=\"text-embedding-3-large\",  # 사용할 모델 이름\n",
    "    dimensions=None, # 원하는 임베딩 차원 수를 지정 가능 (기본값: None)\n",
    "    )\n",
    "\n",
    "# 임베딩 객체 출력\n",
    "embeddings_model"
   ]
  },
  {
   "cell_type": "code",
   "execution_count": 62,
   "id": "d1296c74",
   "metadata": {},
   "outputs": [
    {
     "data": {
      "text/plain": [
       "8191"
      ]
     },
     "execution_count": 62,
     "metadata": {},
     "output_type": "execute_result"
    }
   ],
   "source": [
    "# 임베딩 모델의 컨텍스트 길이 확인\n",
    "embeddings_model.embedding_ctx_length"
   ]
  },
  {
   "cell_type": "code",
   "execution_count": 64,
   "id": "9e3cf77c",
   "metadata": {},
   "outputs": [],
   "source": [
    "from langchain_openai import OpenAIEmbeddings\n",
    "\n",
    "# OpenAIEmbeddings 모델 생성할 때 임베딩 차원을 지정하는 예시\n",
    "embeddings_openai = OpenAIEmbeddings(\n",
    "    model=\"text-embedding-3-small\",  # 사용할 모델 이름\n",
    "    # dimensions=1024, # 원하는 임베딩 차원 수를 지정 가능 (기본값: None)\n",
    "    )\n",
    "\n",
    "# 임베딩 모델의 임베딩 차원 확인 \n",
    "embeddings_openai.dimensions"
   ]
  },
  {
   "cell_type": "markdown",
   "id": "f1ed077e",
   "metadata": {},
   "source": [
    "`(2) embed_documents 사용`"
   ]
  },
  {
   "cell_type": "code",
   "execution_count": 65,
   "id": "979cefee",
   "metadata": {},
   "outputs": [
    {
     "name": "stdout",
     "output_type": "stream",
     "text": [
      "임베딩 벡터의 개수: 5\n",
      "임베딩 벡터의 차원: 1536\n",
      "[-0.002310403622686863, 0.012099752202630043, -0.002436630427837372, 0.015039036981761456, 0.018447164446115494, -0.04565808176994324, -0.003119608387351036, 0.046956416219472885, -0.018239790573716164, -0.031881313771009445, 0.006847810931503773, 0.006965021602809429, -0.018591422587633133, -0.027138788253068924, 0.004891293589025736, -0.015580009669065475, -0.041546691209077835, 0.010053073056042194, 0.05157271400094032, -0.045874472707509995, -0.01464232336729765, -0.027751890942454338, -0.018753714859485626, -0.022702815011143684, 0.004363845102488995, -0.03981557860970497, 0.05031044781208038, 0.017716851085424423, 0.00028372881934046745, -0.023333948105573654, 0.048976048827171326, -0.015273458324372768, -0.029933813959360123, -0.06159874051809311, 0.02044876292347908, 0.03537960350513458, 0.002585398033261299, -0.006807237863540649, -0.005130222998559475, 0.02477654255926609, 0.00756459916010499, 0.02753550186753273, -0.0025651114992797375, 0.025984713807702065, -0.017996354028582573, 0.005590049549937248, -0.025840455666184425, 0.0036064835730940104, 0.0075150104239583015, 0.056657858192920685, -0.025010963901877403, 0.030096106231212616, 0.007974836975336075, -0.03480256721377373, -0.0020331551786512136, 0.09542755782604218, 0.01380381640046835, 0.0292846467345953, 0.003762013278901577, 0.030276430770754814, 0.015165263786911964, 0.01509313378483057, 0.0036650889087468386, 0.02093563787639141, -0.0518612340092659, -0.024379828944802284, 0.036389417946338654, 0.026183070614933968, -0.01988975703716278, -0.02921251766383648, 0.008971127681434155, -0.019637303426861763, -0.04508104547858238, 0.02122415602207184, -0.000698756193742156, -0.012388271279633045, -0.0649167075753212, 0.025461774319410324, 0.01275793556123972, 0.024379828944802284, -0.004253396764397621, 0.0005328016122803092, 0.048002295196056366, -0.059939756989479065, -0.009241614490747452, -0.02282904088497162, -0.00111462885979563, -0.057667672634124756, -0.05326776206493378, -0.004670396447181702, -0.030492819845676422, 0.049012113362550735, 0.0043886397033929825, 0.0041722506284713745, -0.05305137485265732, 0.03235015645623207, 0.061057768762111664, -0.052149754017591476, 0.0037980780471116304, 0.02787811867892742, -0.05168091133236885, -0.005729801021516323, 0.0318993479013443, 0.05474642291665077, 0.001877625472843647, -0.021620869636535645, -0.007194934878498316, 0.019835660234093666, -0.021692998707294464, 0.008159669116139412, -0.010161267593502998, -0.004936374258249998, -0.07566402852535248, 0.040609005838632584, -0.05795619264245033, -0.01954714208841324, 0.02850925363600254, -0.023297883570194244, -0.023388046771287918, -0.0073527186177670956, -0.023496240377426147, 0.02962726354598999, 0.03447798267006874, -0.004454007372260094, -0.01800536923110485, -0.0248126070946455, 0.014948874711990356, -0.03269277513027191, -0.025083092972636223, -0.004357083234935999, -0.004864244721829891, -0.026615848764777184, -0.012135817669332027, 0.02798631228506565, 0.041727013885974884, -0.016526710242033005, 0.005242925602942705, 0.0251912884414196, -0.001341161085292697, -0.05326776206493378, 0.019258622080087662, -0.019529107958078384, 0.01779799722135067, 0.012784983962774277, -0.028942031785845757, -0.05251040309667587, -0.012929243966937065, 0.01793324016034603, 0.03988770768046379, 0.041546691209077835, -0.046920351684093475, -0.01880781166255474, -0.07057888060808182, -0.039238542318344116, -0.05052683502435684, 0.024163439869880676, 0.0005026536528021097, 0.03278293460607529, -0.011856314726173878, -0.028635479509830475, 0.008231799118220806, -0.008191226050257683, -0.03319768235087395, 0.009971926920115948, -0.026110941544175148, 0.040609005838632584, -0.022342165932059288, 0.046920351684093475, -0.018681585788726807, 0.002396057592704892, -0.027842054143548012, -0.010386672802269459, -0.024488024413585663, -0.021260220557451248, 0.005842503625899553, 0.014651339501142502, 0.021368416026234627, 0.01573328487575054, -0.049048177897930145, -0.026237167418003082, -0.030961662530899048, -0.018681585788726807, -0.0002795024774968624, 0.027030594646930695, -0.008358025923371315, -0.024794574826955795, 0.016689002513885498, -0.04771377891302109, -0.029122354462742805, 0.019384849816560745, 0.03651564568281174, 0.026128973811864853, 0.019222557544708252, 0.043566323816776276, 0.008258847519755363, -0.026615848764777184, -0.0011743612121790648, -0.05377266928553581, -0.010756337083876133, -0.0032345650251954794, 0.028942031785845757, -0.040500812232494354, -0.025389645248651505, -0.01397512387484312, 0.012262044474482536, 0.00656830845400691, 0.04187127575278282, 0.006784697063267231, -0.03161082789301872, -0.026814205572009087, -0.01869961805641651, -0.02551587112247944, 0.07328374683856964, 0.00046461651800200343, -0.03409930318593979, -0.06033647060394287, 0.020304502919316292, 0.007587139960378408, -0.014083318412303925, 0.03011413849890232, -0.006577324587851763, -0.008141636848449707, 0.013028422370553017, -0.005220384802669287, 0.005184320267289877, -0.0026192087680101395, 0.021692998707294464, -0.036245159804821014, 0.02593061700463295, -0.03418946638703346, -0.023568371310830116, 0.02977152168750763, 0.0028333435766398907, -0.00833999365568161, 0.0023442143574357033, -0.01326284371316433, -0.011730087921023369, -0.02272084727883339, 0.011459602043032646, 0.0057388171553611755, 0.008425647392868996, -0.00024780488456599414, -0.005125714931637049, -0.020015984773635864, -0.008646544069051743, -0.00591463316231966, -0.0004423577629495412, 0.027355177327990532, -0.00403024535626173, -0.011802217923104763, 0.01794225536286831, -0.028797771781682968, 0.023532304912805557, -0.02115202695131302, 0.011360423639416695, 0.004638839513063431, 0.030042007565498352, -0.026814205572009087, 0.005450298544019461, -0.0020162498112767935, -0.01451609656214714, 0.013641524128615856, -0.026201102882623672, -0.032332126051187515, 0.013217762112617493, 0.007271572481840849, -0.002925759879872203, 0.027156822383403778, -0.03887789323925972, -0.026147006079554558, -0.013289892114698887, 0.04035655036568642, 0.014633307233452797, -0.025389645248651505, -0.04075326398015022, 0.012433351948857307, -0.03689432889223099, 0.021692998707294464, -0.02246839366853237, 0.05052683502435684, -0.052330076694488525, 0.029951846227049828, 0.04573021084070206, -0.003597467439249158, -0.00174689048435539, 3.349380858708173e-05, -0.036659907549619675, -0.020917605608701706, -0.012262044474482536, -0.06286101043224335, 0.06253642588853836, 0.0021548739168792963, -0.01587754487991333, 0.04320567473769188, 0.02977152168750763, -0.01769881881773472, -0.011468618176877499, 0.046848222613334656, -0.005247433669865131, 0.00660437298938632, 0.023856889456510544, -0.05838897079229355, -0.017770947888493538, -0.02055695652961731, 0.004859736654907465, 0.023983115330338478, -0.04944489151239395, 0.01605786755681038, -0.0021965738851577044, -0.03696645796298981, -0.015589025802910328, 0.007289605215191841, 0.07443781942129135, 0.009038749150931835, -0.0274273082613945, -0.01626524142920971, -0.017428332939743996, -0.0570906363427639, 0.002955062547698617, -0.017220959067344666, -0.014759534038603306, 0.03812053054571152, 0.012334173545241356, -0.02795024774968624, -0.03056494891643524, 0.012703838758170605, -0.0008695006836205721, 0.01936681754887104, -0.014687404967844486, -0.04735312983393669, 0.07169689238071442, 0.06159874051809311, -0.030492819845676422, 0.004985963460057974, -0.008204749785363674, -0.03440585359930992, -0.02679617330431938, 0.014209545217454433, -0.05081535503268242, -0.03590254485607147, -0.05636933818459511, 0.02149464190006256, -0.048110492527484894, 0.050130121409893036, 0.010305526666343212, 0.0001662363501964137, -0.0021019037812948227, 0.007753939833492041, 0.019619271159172058, -0.0006102846236899495, 0.018825843930244446, -0.0112882936373353, -0.01751849427819252, -0.020394664257764816, -0.0369303934276104, -0.006550275720655918, -0.047064609825611115, -0.008678101003170013, -0.02425360307097435, -0.04024835675954819, -0.04839900881052017, -0.0013276367681100965, 0.03786807879805565, 0.042628634721040726, 0.03985164314508438, 0.010017008520662785, 0.002522284397855401, -0.026687977835536003, -0.007086740341037512, 0.0016082662623375654, -0.03235015645623207, -0.0003755814686883241, 0.011982541531324387, -0.07144443690776825, -0.009313743561506271, -0.029879717156291008, -0.01845617964863777, 0.0270486269146204, -0.045802343636751175, 0.01612098142504692, 0.02630929835140705, 0.05499887466430664, 0.007375258952379227, -0.0225765872746706, -0.032259996980428696, 0.005364644341170788, -0.01106288842856884, -0.012658757157623768, -0.06870350986719131, 0.032223932445049286, 0.029158420860767365, -0.03200754150748253, -0.029302679002285004, 0.003845413215458393, -0.012361222878098488, -0.027319112792611122, -0.018789779394865036, -0.05539558827877045, -0.0395631268620491, 0.024488024413585663, -0.03150263428688049, -0.030997727066278458, -0.02436179667711258, 0.021999549120664597, 0.014525112695991993, -0.04032048583030701, 0.05622508004307747, 0.059723369777202606, 0.009737505577504635, 0.03458617627620697, 0.004284953232854605, -0.06257249414920807, 0.038481179624795914, -0.00038966929423622787, -0.03510911762714386, -0.049120306968688965, -0.01985369250178337, 0.033305875957012177, 0.020827442407608032, 0.0006728345761075616, 0.01947501115500927, 0.027337145060300827, 0.03995983675122261, -0.03458617627620697, 0.007064200006425381, 0.02044876292347908, 0.037327107042074203, 0.0052699740044772625, 0.05283498391509056, -0.012225979007780552, -0.004823671653866768, 0.006744124460965395, -0.023225754499435425, -0.0034261594992130995, -0.05178910493850708, -0.0007274953532032669, 0.023225754499435425, 0.015561976470053196, -0.009710457175970078, 0.024469992145895958, 0.0032638676930218935, -0.02118809148669243, 0.006203151773661375, -0.02153070643544197, -0.014056270010769367, 0.038481179624795914, -0.0292846467345953, -0.02492080256342888, -0.010891580954194069, -0.05366447567939758, 0.02903219312429428, -0.065313421189785, 0.030997727066278458, 0.03891395777463913, -0.015543944202363491, -0.04937276244163513, 0.021278252825140953, -0.034459952265024185, 0.01141452044248581, 0.024830639362335205, -0.0006970656686462462, 0.016625888645648956, -0.026056844741106033, -0.008303928188979626, -0.005693736020475626, 0.038372986018657684, 0.04634331539273262, 0.006847810931503773, -0.051464520394802094, 0.038445115089416504, -0.011279277503490448, -0.035722218453884125, 0.01794225536286831, -0.02309952676296234, 0.015002971515059471, -0.0002056822704616934, -0.004523883108049631, -0.013073503039777279, -0.04500891640782356, -0.0071543618105351925, 0.00863752793520689, -0.002470441162586212, 0.010684208013117313, 0.011261245235800743, 0.035992708057165146, 0.04230405390262604, -0.06726092100143433, 0.005982254631817341, 0.059867627918720245, -0.0047064609825611115, 0.012415319681167603, -0.03267474099993706, 0.07941477000713348, 0.0025606034323573112, 0.02969939261674881, 0.049012113362550735, -0.012162866070866585, 0.006437573116272688, 0.010675191879272461, 0.013181697577238083, 0.023460175842046738, -0.029753489419817924, -0.010287494398653507, 0.02771582640707493, 0.005513411946594715, -0.0004795496060978621, -0.052257947623729706, 0.02208971232175827, -0.004264666698873043, -0.019745497032999992, 0.03207967057824135, 0.04302534833550453, -0.003737218677997589, 0.009737505577504635, -0.009800619445741177, 0.006671994458884001, -0.009313743561506271, 0.007943280041217804, 0.027174854651093483, -0.027228951454162598, -0.009313743561506271, -0.022288069128990173, -0.029014160856604576, 0.0022934982553124428, -0.000124254627735354, -0.05420544743537903, -0.009620294906198978, -0.01660785637795925, 0.00949406810104847, -0.017121780663728714, 0.016139013692736626, -0.01713981293141842, 0.015543944202363491, -0.03913034871220589, -0.01796930469572544, 0.013010389171540737, 0.010152251459658146, 0.01512919832020998, -0.04190734028816223, -0.010630110278725624, 0.016382452100515366, -0.014813631772994995, 0.009313743561506271, 0.0249929316341877, -0.007194934878498316, 0.047064609825611115, -0.01102682389318943, -0.037110716104507446, 0.003840905148535967, 0.029050225391983986, 0.020430728793144226, 0.00036177539732307196, 0.03696645796298981, -0.02302739769220352, 0.011198131367564201, -0.0045982664451003075, 0.00649167038500309, -0.025948649272322655, -0.0026349870022386312, -0.02690436691045761, 0.008583431132137775, -0.020791377872228622, -0.04212372750043869, -0.004192537162452936, 0.008457204326987267, 0.010494867339730263, 0.028455154970288277, -0.01643654890358448, 0.021873323246836662, 0.029483003541827202, -0.04554988816380501, 0.029789553955197334, -0.016382452100515366, 0.06235610321164131, -0.009800619445741177, -0.04205159842967987, 0.01003504078835249, -0.027301080524921417, -0.012117785401642323, 0.024542121216654778, 0.020502859726548195, 0.015480831265449524, 0.03202557563781738, 0.013154649175703526, 0.04075326398015022, 5.191364107304253e-05, 0.002767976140603423, 0.020502859726548195, 0.03262064605951309, -0.029230549931526184, 0.0341353677213192, 0.018519293516874313, -0.01380381640046835, -0.027319112792611122, -0.025732260197401047, -0.015787381678819656, 0.007699842564761639, 0.016274256631731987, 0.01378578320145607, 0.024379828944802284, -0.004967931192368269, 0.012902195565402508, 0.020466795191168785, 0.00526095787063241, -0.024830639362335205, -0.031773120164871216, -0.015796398743987083, 0.036245159804821014, 0.007442880421876907, -0.010458802804350853, -0.013443167321383953, 0.008312944322824478, 0.008087539114058018, -0.02324378676712513, -0.005815454758703709, -0.011144034564495087, 0.0005040624528191984, 0.0001804650528356433, 0.026147006079554558, -0.014957890845835209, 0.00886293314397335, -0.006500686518847942, 0.03366652503609657, -0.016111966222524643, 0.0043886397033929825, -0.031051823869347572, 0.0013129854341968894, -0.009394889697432518, -0.02093563787639141, 0.0017018094658851624, 0.00767730176448822, 0.07328374683856964, -0.013587427325546741, 0.036064837127923965, -0.009467019699513912, -0.06589045375585556, -0.0112882936373353, -0.006365443579852581, 0.012505481950938702, -0.009358825162053108, -0.022630684077739716, 0.004562201909720898, 0.009503084234893322, -0.031105920672416687, 0.029374809935688972, -0.008804327808320522, 0.0011512571945786476, -0.02872564271092415, 0.009047766216099262, 0.006784697063267231, 0.003432921599596739, -0.0253716129809618, -0.033414069563150406, 0.01266777329146862, -0.004546423442661762, -0.016770148649811745, -0.0036200080066919327, -0.030510852113366127, 0.023965083062648773, 0.0015812176279723644, 0.009881764650344849, -0.013848897069692612, 0.02041269652545452, -0.015381652861833572, -0.006699043326079845, 0.04645150899887085, 0.019456978887319565, 0.03640745207667351, -0.007014610804617405, -0.011784185655415058, -0.028419090434908867, 0.01936681754887104, 0.011135018430650234, 0.009575214236974716, -0.04032048583030701, 0.03364849090576172, 0.0020849984139204025, 0.01738325133919716, 0.04280896112322807, 0.03812053054571152, -0.014993955381214619, -0.018302904441952705, -0.018167661502957344, -0.043710581958293915, 0.017220959067344666, 0.004291715566068888, 0.014398885890841484, 0.01880781166255474, 0.019529107958078384, -0.0630413368344307, 0.015787381678819656, 0.029086289927363396, -0.025065060704946518, -0.004591504577547312, -0.065313421189785, -0.013001373037695885, 0.018573390319943428, -0.03959919139742851, -0.03272883966565132, 0.0253716129809618, -0.02484867163002491, 0.008817852474749088, 0.012171882204711437, -0.023514272645115852, -0.025804391130805016, -0.01576934941112995, 0.04536956548690796, -0.007726890966296196, -0.010882563889026642, -0.0035771809052675962, -0.01988975703716278, 0.000534492137376219, -0.018230775371193886, -0.010422737337648869, 0.03604680299758911, -0.008394090458750725, 0.04446794465184212, -0.0225765872746706, 0.009521116502583027, -0.04288109019398689, -0.026706011965870857, -0.025876520201563835, -0.012469417415559292, -0.012523514218628407, -0.005220384802669287, -0.027102723717689514, -0.0391664132475853, -0.007952296175062656, -0.03388291224837303, -0.00030683286604471505, 0.02526341751217842, -0.010693224146962166, -0.021656934171915054, -0.008596954867243767, 0.060047950595617294, -0.008015410043299198, -0.03876969963312149, -0.004372861236333847, -0.023748693987727165, -0.017563575878739357, 0.00011636544513748959, -0.018753714859485626, 0.027138788253068924, 0.03491076081991196, -0.017644720152020454, 0.026183070614933968, 0.0001629961479920894, 0.0019497552420943975, 0.013848897069692612, -0.04432368278503418, 0.009845700114965439, -0.002871662611141801, 0.03198951110243797, -0.025533903390169144, 0.00037501793121919036, -0.009926846250891685, 0.013037438504397869, 0.005089649930596352, 0.013668572530150414, -0.02306346222758293, 0.024451958015561104, 0.020809410139918327, 0.0016950472490862012, 0.0092325983569026, 0.0016860311152413487, 0.0021717792842537165, 0.004302985966205597, -0.02373066172003746, -0.002817565342411399, 0.012559578754007816, 0.029014160856604576, -0.012875146232545376, -0.005657671019434929, 0.0014347042888402939, 0.04017622768878937, -0.001599250128492713, 0.00623020064085722, -0.04785803705453873, -0.005856027826666832, 0.03148460015654564, 0.011531731113791466, -0.0201422106474638, -0.019384849816560745, -0.001532755559310317, -0.008087539114058018, -0.021206123754382133, 0.02641749195754528, 0.033341940492391586, -0.009602262638509274, -0.024343764409422874, -0.0050535849295556545, 0.021368416026234627, -0.040536876767873764, -0.005044568795710802, -0.013362022116780281, 0.011775168590247631, 0.002903219312429428, 0.012000573799014091, 0.0027972788084298372, -0.002849122043699026, 0.03815659508109093, 0.007695334497839212, 0.043710581958293915, 0.034604210406541824, 0.05398906022310257, 0.009169484488666058, -0.015327555127441883, 0.045802343636751175, -0.046956416219472885, -0.02921251766383648, 0.03260261192917824, -0.010512899607419968, -0.015327555127441883, 0.04569414630532265, -0.019619271159172058, -0.032512448728084564, -0.008898998610675335, -0.0026147007010877132, -0.005883076228201389, -0.014416918158531189, 0.03157476335763931, 0.00036459293914958835, -0.005675703752785921, -0.010476835072040558, 0.03866150602698326, -0.01490379311144352, -0.018131596967577934, 0.023604435846209526, -0.031322311609983444, 0.0047425259836018085, 0.07681810110807419, 0.018897974863648415, 0.033937010914087296, 0.0006131022237241268, 0.035055018961429596, 0.0009241614025086164, -0.01768980175256729, -0.010269462130963802, -0.028112540021538734, 0.032368190586566925, -0.013812832534313202, 0.006478146184235811, 0.002256306353956461, 0.018176676705479622, -0.035055018961429596, -0.0024591709952801466, -0.01765373721718788, 0.016950473189353943, -0.021620869636535645, -0.006252740975469351, -0.03159279748797417, 0.007203951012343168, 0.024902768433094025, -0.009791603311896324, 0.0663953647017479, 0.013280875980854034, 0.018420115113258362, -0.015381652861833572, 0.020899573341012, -0.007735907565802336, 0.011883363127708435, 0.03409930318593979, 0.0358123816549778, -0.017302105203270912, 0.03220589831471443, -0.017284072935581207, 0.001178869279101491, 0.022143809124827385, 0.0010954693425446749, 0.01581443101167679, 0.029194485396146774, 0.05171697586774826, -0.014813631772994995, -0.01734718680381775, -0.016310323029756546, -0.024866703897714615, -0.005062601529061794, 0.021999549120664597, -0.010864531621336937, -0.014344788156449795, 0.01266777329146862, -0.0820835679769516, 0.024596218019723892, -0.03485666587948799, 0.01832093670964241, -0.008844900876283646, -0.011964509263634682, 0.025678163394331932, -0.04746132344007492, 0.04208766296505928, -0.0030790353193879128, -0.03280096873641014, 0.011405504308640957, -0.012739903293550014, 0.028437122702598572, 0.03977951407432556, -0.01842913217842579, 0.009971926920115948, -0.0034013648983091116, 0.010729288682341576, -0.02007008157670498, -0.027156822383403778, -0.01432675588876009, -0.03703858703374863, -0.018122579902410507, 0.020538924261927605, 0.01626524142920971, 0.013758734799921513, 0.015625089406967163, -0.03658777475357056, 0.013948075473308563, 0.02391098625957966, -0.00041474562021903694, -0.021692998707294464, 0.011522714979946613, -0.05413331836462021, 0.013443167321383953, 0.02373066172003746, -0.07465421408414841, -0.004792115185409784, -0.008921538479626179, -0.009557181969285011, -0.001341161085292697, 0.0044968342408537865, 0.026724044233560562, 0.02787811867892742, -0.0402844212949276, -0.05160878226161003, -0.03179115429520607, 0.021963484585285187, 0.0026890842709690332, -0.010242413729429245, 0.010476835072040558, -0.012352206744253635, -0.005256449803709984, 0.001291571999900043, -0.011594844982028008, 0.00802442617714405, 0.008542858064174652, -0.06992971897125244, 0.00034317944664508104, -0.03070920705795288, -0.013073503039777279, -0.006694535259157419, -0.03213376924395561, 0.0065367515198886395, 0.025533903390169144, 0.006910924334079027, 0.010467818938195705, 0.048002295196056366, 0.007731399033218622, -0.06390689313411713, 0.023225754499435425, -0.0020478065125644207, 0.0274273082613945, 0.018266839906573296, 0.05810045078396797, 0.006176103372126818, -0.011162066832184792, 0.010720272548496723, 0.0008339993073605001, -0.05315956845879555, 0.005328579340130091, -0.012965308502316475, -0.013416118919849396, -0.01106288842856884, 0.0031331325881183147, -0.009421938098967075, 0.0066269137896597385, 0.019078297540545464, 0.015300506725907326, -0.01909632980823517, 0.027138788253068924, 0.013767750933766365, 0.009385873563587666, -0.021729063242673874, 0.024794574826955795, -0.032368190586566925, -0.02044876292347908, -0.03649761527776718, 0.05481855198740959, 0.006509703118354082, 0.005517920013517141, -0.01601278781890869, 0.03981557860970497, -0.007127313409000635, 0.025353580713272095, 0.01776193268597126, -0.0010098153725266457, -0.014633307233452797, -0.0010594045743346214, -0.03794020786881447, 0.00276572210714221, -0.052438270300626755, 0.04320567473769188, -0.00830843672156334, -0.0008441425743512809, -0.04764164984226227, -0.017013587057590485, 0.0021819225512444973, -0.025533903390169144, 0.016553759574890137, -0.021837258711457253, -0.022594619542360306, 0.008817852474749088, -0.028833836317062378, -0.04558595269918442, -0.00023442142992280424, 0.016454581171274185, 0.02906825765967369, 0.030312495306134224, -0.012812033295631409, 0.021584805101156235, -0.00018638194887898862, 0.03361242637038231, 0.02286510542035103, -0.03085346706211567, 0.014047253876924515, 0.017085716128349304, -0.0028108032420277596, 0.009917830117046833, -0.03750742971897125, 0.02787811867892742, -0.0455138236284256, -0.01598573848605156, 0.0034509541001170874, 0.024506056681275368, -0.01685129478573799, 0.003834142815321684, 0.01845617964863777, -0.023081494495272636, 0.005003996193408966, -0.004548677243292332, 0.022774944081902504, -0.015589025802910328, 0.04991373419761658, -0.022666748613119125, -0.023784758523106575, 0.054602161049842834, 0.005468330811709166, -0.00012115530989831313, 0.021368416026234627, -0.007469929289072752, 0.009746521711349487, -0.007997377775609493, 0.010449786670506, -0.03312555328011513, -0.014471015892922878, -0.006261757109314203, 0.056513600051403046, 0.02544374205172062, 0.007001086138188839, -0.02659781649708748, 0.030835434794425964, -0.023496240377426147, 0.027842054143548012, -0.043602388352155685, 0.00687485933303833, -0.0007844101637601852, -6.311346078291535e-05, -0.03619106486439705, -0.0020906333811581135, -0.00911087915301323, 0.020683184266090393, -0.010215364396572113, 0.012739903293550014, -0.013930043205618858, 0.02477654255926609, -0.00021103564358782023, -0.007203951012343168, 6.399395351763815e-05, -0.009259646758437157, 0.010179299861192703, -0.0324583537876606, 0.013479232788085938, 0.007614188361912966, -0.05478248745203018, -0.03335997462272644, 0.012379255145788193, 0.009034241549670696, 0.02421753667294979, 0.020701216533780098, 0.02118809148669243, 0.022450361400842667, 0.005720784422010183, 0.02977152168750763, 0.017374234274029732, 0.0067892055958509445, 0.005472838878631592, -0.020196307450532913, -0.03563205897808075, -0.00875924713909626, -0.016878344118595123, -0.004174504894763231, -0.004312002100050449, 0.01909632980823517, -0.01741029880940914, 0.02630929835140705, 0.019420914351940155, -0.01902420073747635, 0.007240016013383865, 0.01958320662379265, -0.026742076501250267, 0.00975553784519434, -0.011053872294723988, -0.017338169738650322, -0.018537325784564018, -0.041438497602939606, 0.009701441042125225, 0.039382800459861755, 0.028671544045209885, 0.02659781649708748, 0.014092334546148777, -0.005170796066522598, -0.03655171021819115, 0.01940288208425045, -0.018402082845568657, 0.009277679026126862, -0.005463822744786739, 0.022847073152661324, -0.009467019699513912, -0.0029415381141006947, -0.04540563002228737, 0.02935677580535412, 0.016878344118595123, -0.0024321223609149456, -0.010891580954194069, 0.009971926920115948, 0.0034780027344822884, 0.010539948008954525, -0.0328189991414547, 0.013966107740998268, 0.009313743561506271, -0.010332575999200344, 0.025047028437256813, -0.032999325543642044, -0.011089936830103397, 0.0008768263505771756, -0.013010389171540737, 0.02156677283346653, -0.005653162952512503, 0.017058666795492172, -0.014543144963681698, 0.0009838937548920512, -0.018591422587633133, 0.0006424048915505409, -0.03530747443437576, -0.008980143815279007, 0.026724044233560562, -0.0023599928244948387, 0.00806049071252346, -0.005896600894629955, -0.01661687344312668, -0.012541546486318111, 0.010062089189887047, -0.030474785715341568, -0.004406671971082687, 0.02331591583788395, -0.003888240084052086, 0.05103174224495888, 0.01633737049996853, -0.03417143225669861, -0.02712075598537922, 0.02959119714796543, -0.043602388352155685, 0.005626114550977945, 0.011351407505571842, -0.02488473616540432, 0.02648962289094925, -0.019168460741639137, -0.01591360941529274, -0.006144546438008547, 0.005544968415051699, 0.006676502991467714, 0.015174279920756817, -0.004643347579985857, 0.0028085492085665464, -0.0014031475875526667, -0.005143747199326754, -0.0061174980364739895, 0.01154976338148117, 0.061021704226732254, 0.007875658571720123, -0.05326776206493378, -0.028797771781682968, -0.01156779658049345, 0.031123952940106392, 0.017861109226942062, 0.017121780663728714, -0.024469992145895958, -0.044828590005636215, -0.009394889697432518, -0.03491076081991196, -0.006442081183195114, -0.050130121409893036, 0.010648142546415329, -0.036840230226516724, -0.020773345604538918, -0.019745497032999992, -0.013028422370553017, -0.015255426056683064, -0.0032931703608483076, 0.011270261369645596, -0.03873363509774208, 0.04493678733706474, 0.004397655837237835, -0.013930043205618858, 0.0055224280804395676, 0.003940083552151918, -0.02003401704132557, 0.021133994683623314, -0.04731706529855728, -0.03651564568281174, -0.06852319091558456, -0.023640500381588936, -0.011423536576330662, -0.019276654347777367, -0.010179299861192703, -0.004032499622553587, 0.019745497032999992, -0.01246040128171444, 0.027283048257231712, 0.024506056681275368, -0.0012273314641788602, 0.010098153725266457, 0.0033359972294420004, -0.030907563865184784, -0.03473043814301491, 0.054457902908325195, 0.057811930775642395, -0.01755455881357193, -0.00623020064085722, 0.029897749423980713, -0.0001415826554875821, -0.013848897069692612, 0.006013811565935612, 0.000311904470436275, -0.0034171431325376034, -0.03280096873641014, -0.019637303426861763, -0.01636441983282566, 0.026219135150313377, -0.0028355978429317474, -0.01951107569038868, -0.02425360307097435, -0.00691994046792388, 0.006527735386043787, -0.023568371310830116, 0.00207147398032248, -0.004411180038005114, -0.03559599444270134, 0.02932071126997471, -0.014317739754915237, 0.009313743561506271, 0.00161390146240592, 0.008299420587718487, -0.012730887159705162, -0.0184651967138052, 0.04497285187244415, 0.0041722506284713745, -0.010476835072040558, -0.025642098858952522, 0.018402082845568657, 0.02160283736884594, 0.025101125240325928, -0.016625888645648956, -0.00869162566959858, 0.018329953774809837, -0.036389417946338654, 0.027138788253068924, -0.0020286471117287874, 0.0005683029303327203, -0.035018954426050186, -0.0016432041302323341, -0.02059302106499672, 0.0221979059278965, -0.013325956650078297, -0.0002503406722098589, -0.030240364372730255, 0.0016499662306159735, -0.00830843672156334, 0.01787012629210949, 0.007943280041217804, 0.02708469144999981, -0.004656871780753136, -0.0012656503822654486, -0.04003196954727173, 0.023406079038977623, -0.009128911420702934, 0.0326567105948925, -0.0406811349093914, 0.016526710242033005, -0.018717650324106216, 0.007483453489840031, 0.001636441913433373, -0.02227003686130047, 0.001154074794612825, -0.017770947888493538, 0.007767464034259319, 0.006739616394042969, 0.03667793795466423, 0.0077178748324513435, -0.0028243274427950382, -0.005905617028474808, 0.008064999245107174, -0.029014160856604576, 0.003780045546591282, 0.01667998731136322, 0.02055695652961731, -0.03088953159749508, -0.002628224901854992, 0.021656934171915054, 0.00023892954050097615, -0.017329154536128044, 0.02582242339849472, -0.010864531621336937, -0.03029446303844452, 0.006608881056308746, 0.0010701112914830446, 0.012604660354554653, 0.026651913300156593, 0.009286695159971714, -0.06989365071058273, -0.017112765461206436, 0.017229976132512093, 0.0013648286694660783, 0.020737281069159508, 0.004787607118487358, 0.00020483699336182326, 0.013542345724999905, 0.009647343307733536, -0.007681810297071934, -0.02712075598537922, -0.02659781649708748, -0.0067215836606919765, -0.0006970656686462462, -0.0007849736721254885, -0.008876457810401917, 0.018555358052253723, -0.005040060728788376, -0.006040859967470169, -0.0003079598827753216, 0.03873363509774208, -0.002524538431316614, -0.026507655158638954, 0.04288109019398689, 0.0028829327784478664, -0.012072703801095486, 0.011820250190794468, -0.017491444945335388, -0.03308948874473572, 0.005396201275289059, 0.014218561351299286, 0.047028545290231705, 0.00019863835768774152, -0.023297883570194244, 0.04129423573613167, -0.025317514315247536, 0.003942337352782488, 0.0014177989214658737, -0.020430728793144226, -0.028419090434908867, -0.04075326398015022, -0.013884961605072021, 0.001855085021816194, -0.023460175842046738, -0.005441281944513321, 0.002050060546025634, 0.02585848793387413, 0.0010391180403530598, -0.0028874408453702927, 0.019655335694551468, -0.002366754924878478, -0.02593061700463295, 0.031069856137037277, 0.013343988917768002, -0.014489048160612583, 0.0033698081970214844, 0.04197946935892105, -0.00036008484312333167, -0.016589824110269547, -0.02003401704132557, 0.017843076959252357, -0.011089936830103397, 0.032440319657325745, 0.02962726354598999, 0.040464747697114944, -0.03647958114743233, 0.04353025555610657, -0.0006491670501418412, -0.021909387782216072, 0.05359234660863876, 0.0036109916400164366, -0.019673367962241173, -0.0388057641685009, 0.031123952940106392, 0.003574926871806383, 0.005599065683782101, 0.04753345251083374, -0.017572591081261635, 0.019348785281181335, 0.02048482745885849, -0.044395811855793, -0.012433351948857307, 0.03440585359930992, -0.0019598985090851784, 0.0227569118142128, -0.008894490078091621, 0.022991333156824112, 0.024307699874043465, 0.004073072224855423, 0.004481055773794651, 0.01608491688966751, -0.029374809935688972, 0.03678613156080246, -0.012559578754007816, -0.03202557563781738, 0.012649741023778915, 0.000413900357671082, -0.021837258711457253, -0.014930842444300652, 0.013930043205618858, 0.03909428417682648, -0.0054322658106684685, 0.030655110254883766, -0.009737505577504635, -0.01741931587457657, 0.004113645292818546, 0.010918629355728626, -0.01850126124918461, 0.005526936147361994, 0.035055018961429596, -0.013127600774168968, -0.00314891105517745, 0.02436179667711258, -0.006473638117313385, 0.024091310799121857, -0.003978402353823185, 0.002312657656148076, 0.03211573511362076, 0.00623020064085722, -0.006748632527887821, -0.025209320709109306, -0.024632282555103302, 0.020358599722385406, 0.04342206194996834, -0.015011987648904324, 0.010702240280807018, 0.0075014857575297356, -0.0018866417231038213, -0.01601278781890869, 0.030546916648745537, 0.009665376506745815, 0.010404705069959164, 0.000318103120662272, 0.004508104640990496, 0.024830639362335205, 0.003063257085159421, 0.004059548024088144, 0.0005519610713236034, 0.022252004593610764, -0.026669945567846298, 0.024379828944802284, 0.02872564271092415, -0.016355402767658234, 0.009728489443659782, -0.007388783153146505, 0.0018032417865470052, 0.02585848793387413, 0.009566198103129864, -0.007776480168104172, 0.020791377872228622, -0.005206860601902008, 0.030204299837350845, 0.027896150946617126, -0.027265015989542007, 0.031340342015028, 0.015516895800828934, -0.013425135053694248, -0.029266614466905594, -0.014921826310455799, 0.01933075301349163, 0.0053240712732076645, -0.030420688912272453, -0.02279297634959221, 0.008168685249984264, 0.0040167211554944515, -0.02302739769220352, -0.016184095293283463, -0.01111698616296053, -0.03162886202335358, 0.005729801021516323, 0.030691174790263176, -0.00019314410747028887, 0.012397287413477898, -0.016463598236441612, 0.03381078317761421, -0.00503555266186595, -0.014840680174529552, 0.015390668995678425, 0.031051823869347572, 0.0060093034990131855, -0.009845700114965439, -0.026471590623259544, 0.021783161908388138, 0.009854716248810291, 0.013677588663995266, -0.0005714022554457188, -0.0004217895329929888, 0.004963423125445843, 0.01895207166671753, 0.00040347536560148, -0.00833999365568161, -0.03963525593280792, -0.005342104006558657, -0.017491444945335388, -0.016202127560973167, 0.007817053236067295, -0.025119157508015633, 0.021512674167752266, -0.012307125143706799, 0.027517469599843025, -0.0221979059278965, -0.006910924334079027, 0.008258847519755363, -0.024488024413585663, -0.03747136518359184, 0.008596954867243767, -0.047100674360990524, 0.00764123722910881, 0.015480831265449524, 0.031250178813934326, -0.0025944141671061516, -0.0038296347483992577, 0.01246040128171444, 0.00029330854886211455]\n"
     ]
    }
   ],
   "source": [
    "# 문서 컬렉션\n",
    "documents = [\n",
    "    \"인공지능은 컴퓨터 과학의 한 분야입니다.\",\n",
    "    \"머신러닝은 인공지능의 하위 분야입니다.\",\n",
    "    \"딥러닝은 머신러닝의 한 종류입니다.\",\n",
    "    \"자연어 처리는 컴퓨터가 인간의 언어를 이해하고 생성하는 기술입니다.\",\n",
    "    \"컴퓨터 비전은 컴퓨터가 디지털 이미지나 비디오를 이해하는 방법을 연구합니다.\"\n",
    "]\n",
    "\n",
    "# 문서 임베딩\n",
    "document_embeddings_openai = embeddings_openai.embed_documents(documents)\n",
    "\n",
    "# 임베딩 결과 출력\n",
    "print(f\"임베딩 벡터의 개수: {len(document_embeddings_openai)}\")\n",
    "print(f\"임베딩 벡터의 차원: {len(document_embeddings_openai[0])}\")\n",
    "print(document_embeddings_openai[0])"
   ]
  },
  {
   "cell_type": "markdown",
   "id": "6adef264",
   "metadata": {},
   "source": [
    "`(3) embed_query 사용`"
   ]
  },
  {
   "cell_type": "code",
   "execution_count": 66,
   "id": "668fd5b5",
   "metadata": {},
   "outputs": [
    {
     "name": "stdout",
     "output_type": "stream",
     "text": [
      "쿼리 임베딩 벡터의 차원: 1536\n",
      "[-0.02255643531680107, 0.022176697850227356, 0.0004912859876640141, 0.005667589604854584, 0.012189589440822601, -0.04480908066034317, -0.026277868077158928, 0.035809293389320374, -0.002643925603479147, 0.014800287783145905, -0.002100425772368908, 0.0008621239103376865, -0.004865393042564392, -0.07359322160482407, 0.009018776938319206, -0.01542685553431511, -0.05980873107910156, -0.022442514076828957, 0.022423528134822845, -0.0692262351512909, -0.029220838099718094, 0.023239964619278908, -0.036853570491075516, 0.00411778362467885, 0.011145309545099735, -0.0526316836476326, 0.010727598331868649, -3.0946419428801164e-05, -0.010803545825183392, -0.03410046920180321, 0.02529054880142212, -0.018910951912403107, -0.0014999649720266461, -0.05897330865263939, 0.04989757016301155, -0.0034152683801949024, -0.0027602205518633127, -0.0083684753626585, -0.004597202874720097, 0.02280326560139656, -0.011885798536241055, 0.0379737988114357, 0.0032989736646413803, 0.03520170971751213, -0.05141652375459671, 0.03448021039366722, -0.028537308797240257, 0.004692137241363525, -0.013471204787492752, 0.038600366562604904, -0.04537868872284889, 0.034556157886981964, -0.007699187379330397, -0.00934630073606968, -0.002916862489655614, 0.0646314024925232, 0.011430113576352596, 0.03146129101514816, -0.0059381527826189995, 0.04727737978100777, -0.00034651090390980244, -0.003659724723547697, 0.016566069796681404, 0.03907503932714462, -0.06227703019976616, -0.020562810823321342, -0.0027602205518633127, 0.03542955219745636, -0.03770798072218895, -0.021360261365771294, 0.041391439735889435, 0.002074318705126643, -0.07215021550655365, -0.005297344643622637, -0.019670426845550537, 0.01394587755203247, -0.020828628912568092, 0.04347999766469002, -0.0008425436681136489, 0.01228452380746603, 0.01951853185892105, 0.009189658798277378, 0.0012638154439628124, -0.044201500713825226, -0.009797239676117897, -0.016822392120957375, -0.020695719867944717, -0.05411266162991524, -0.052251946181058884, -3.265227496740408e-05, -0.018806522712111473, 0.061631474643945694, -0.025176627561450005, 0.03136635571718216, -0.019917257130146027, 0.039378829300403595, 0.07852981239557266, -0.008767200633883476, 0.010917467065155506, 0.023695649579167366, -0.03189799189567566, 0.0038875676691532135, 0.016736950725317, 0.03417641669511795, 0.024170322343707085, -0.05783409625291824, -0.017116690054535866, 0.028613256290555, 0.028290480375289917, 0.01062317006289959, 0.02149317041039467, 0.009730786085128784, -0.08437778055667877, 0.037081412971019745, -0.020695719867944717, -0.0019936244934797287, 0.007234008517116308, -0.01999320462346077, -0.012816157191991806, -0.037859875708818436, -0.029163876548409462, -0.011306698434054852, 0.027493029832839966, -0.002244014060124755, -0.030682828277349472, -0.029296785593032837, -0.0025893384590744972, -0.030986620113253593, -0.023961465805768967, -0.010034576058387756, -0.013680060394108295, 0.025499405339360237, -0.030511947348713875, 0.007566279266029596, 0.022632384672760963, -0.07169453054666519, 0.022366566583514214, 0.038581378757953644, -0.011999719776213169, -0.047695089131593704, 0.012740209698677063, -0.0017396745970472693, -0.023847544565796852, -0.002074318705126643, -0.026923423632979393, -0.041923072189092636, -0.001969890668988228, -0.015360401012003422, -0.000891790899913758, -0.005392279475927353, -0.05753030255436897, -0.007946017198264599, -0.042948365211486816, -0.029752470552921295, -0.042416732758283615, 0.035847265273332596, -0.011885798536241055, 0.03624599054455757, -0.000766596058383584, -0.004127277061343193, -0.03474602475762367, 0.001626939862035215, -0.007627986837178469, -0.002952462760731578, -0.0577581487596035, 0.06018846854567528, -0.023676663637161255, 0.0032894802279770374, 0.016869859769940376, -0.00595239270478487, -0.05415063723921776, -0.0026486723218113184, -0.01826539635658264, 0.008017217740416527, -0.0008822974632494152, -0.021379249170422554, 0.01848374679684639, 0.0009671451989561319, -0.007010912522673607, -0.05058109760284424, -0.05088489130139351, -0.036891546100378036, -0.03649282082915306, 0.018417291343212128, -0.03467007726430893, 0.014657885767519474, -0.026220908388495445, -0.012892104685306549, 0.0018322357209399343, 0.01874956302344799, 0.016812900081276894, 0.04336607828736305, 0.034290339797735214, 0.027720872312784195, 0.005933405831456184, -0.020942550152540207, -0.002125346101820469, -0.010718104429543018, 0.029296785593032837, 0.01574013940989971, 0.04325215518474579, -0.04913809522986412, 0.02329692430794239, -0.004428694024682045, 0.006033087149262428, 0.020942550152540207, 0.053315211087465286, -0.009730786085128784, -0.04177117720246315, -0.005838471464812756, 0.023183003067970276, -0.019556505605578423, 0.07097303122282028, -0.04735332727432251, -0.016917327418923378, -0.017335038632154465, 0.021683039143681526, 0.027512017637491226, -0.038600366562604904, 0.02857528254389763, -0.03370174765586853, 0.00386620732024312, -0.023220976814627647, 0.0038139934185892344, -0.022746305912733078, 0.008743466809391975, 0.011980732902884483, -0.035296645015478134, 0.023239964619278908, -0.037328243255615234, -0.030454985797405243, -0.023239964619278908, 0.00595239270478487, -0.009669078513979912, -0.024777904152870178, -0.018787536770105362, -0.010423807427287102, -0.001126753748394549, 0.01542685553431511, 0.011154803447425365, 0.013148427940905094, 0.032809361815452576, -0.012218069285154343, 0.0026154452934861183, 0.004549735691398382, 0.011078855954110622, 0.023866532370448112, 0.026714567095041275, -0.006336877588182688, -0.01667049713432789, 0.007343183271586895, -0.0375370979309082, 0.035296645015478134, -0.006303650327026844, 0.003251506481319666, -0.0030402771662920713, 0.024948785081505775, 0.02988537959754467, 0.0018939431756734848, 0.021664051339030266, -0.012626287527382374, 0.02380957081913948, -0.0240184273570776, -0.02529054880142212, 0.005097982473671436, 0.0023389486595988274, 0.02508169412612915, 0.031100541353225708, -0.007158061023801565, -0.03979654237627983, -0.0415053628385067, 0.01099341455847025, 0.016917327418923378, -0.021132418885827065, -0.02173999883234501, 0.012313003651797771, 0.0047372314147651196, 0.0032301461324095726, -0.029201850295066833, 0.037613045424222946, -0.043404050171375275, -0.010737091302871704, 0.040593989193439484, -0.019841309636831284, 0.012464899569749832, 0.005833724979311228, -0.010689624585211277, -0.06307447701692581, -0.05699867010116577, -0.02992335334420204, 0.07473243772983551, -0.002200106857344508, 0.008824161253869534, 0.028670217841863632, 0.028024662286043167, -0.007684947457164526, 0.02811959758400917, 0.048986200243234634, -0.009089978411793709, 0.013879423029720783, 0.08711189031600952, -0.036321938037872314, -0.06725160032510757, -0.046745747327804565, -0.028746165335178375, 0.05984670668840408, -0.04602424427866936, 0.011306698434054852, 0.0029287291690707207, -0.02884110063314438, 0.02680950239300728, 0.034328315407037735, 0.0375370979309082, -0.02485385164618492, -0.008463410660624504, -0.02965753711760044, 0.0061897290870547295, -0.019423598423600197, 0.043631892651319504, 0.003308467101305723, -0.0019153034081682563, -0.00752355856820941, -0.004490401595830917, -0.01820843666791916, -0.037556085735559464, -0.009175418876111507, 0.010309886187314987, -0.0023057216312736273, -0.02582218311727047, -0.0164236668497324, 0.03945477679371834, 0.04382176324725151, -0.028746165335178375, -0.011990226805210114, -0.013195894658565521, -0.009033016860485077, -0.031556226313114166, 0.014126253314316273, -0.04602424427866936, -0.041657257825136185, -0.048758357763290405, 0.026695579290390015, -0.05847964808344841, 0.028214532881975174, 0.039606671780347824, -0.007627986837178469, -0.031252436339855194, -0.0005758370389230549, 0.0003230739675927907, 0.031195474788546562, 0.038600366562604904, -0.026942409574985504, -0.007423877716064453, -0.05361900478601456, -0.033834654837846756, 0.0009671451989561319, -0.006545733660459518, 0.0004604322894010693, -0.021208366379141808, -0.031024593859910965, -0.08483346551656723, -0.027910741046071053, 0.030037274584174156, 0.04279647022485733, 4.839434404857457e-05, 0.004326639696955681, 0.015749633312225342, -0.020600786432623863, -0.0068780044093728065, -0.025651300325989723, -0.006417572032660246, -0.015635712072253227, 0.026239894330501556, -0.04629005864262581, -0.0071295807138085365, -0.003075877670198679, -0.010262418538331985, 0.02633482962846756, -0.01972738839685917, 0.02838541381061077, 0.01725909113883972, 0.03696749359369278, -0.019803335890173912, -0.0639478787779808, -0.0219868291169405, 0.018948925659060478, 0.009322567842900753, -0.037138376384973526, -0.04431542381644249, 0.048758357763290405, 0.039378829300403595, -0.035866253077983856, -0.024758916348218918, -0.010233938694000244, -0.06337826699018478, 0.002417269628494978, -0.02884110063314438, -0.0329422689974308, -0.015863554552197456, 0.003377294633537531, -0.014809781685471535, -0.0019307303009554744, -0.009213392622768879, -0.035809293389320374, -0.001960397232323885, -0.046745747327804565, 0.03191697597503662, 0.04253065586090088, -0.0013290829956531525, 0.05878343805670738, 0.04989757016301155, -0.027512017637491226, 0.044657185673713684, -0.002973823109641671, -0.012806663289666176, -0.035315632820129395, 0.00785108283162117, 0.001342136412858963, 0.01153454091399908, 0.006313143763691187, 0.027455056086182594, -0.009241873398423195, -0.014363588765263557, -0.05396076664328575, -0.004974567797034979, 0.009218139573931694, 0.03066384233534336, 0.017126182094216347, 0.07249198108911514, -0.04078385978937149, 0.025708261877298355, 0.038353536278009415, -0.023353885859251022, -0.022176697850227356, -0.05118868127465248, 0.011012401431798935, 0.026790514588356018, -0.01344272494316101, 0.0179711002856493, 0.03679661080241203, -0.015170532278716564, -0.025765221565961838, 0.005985619965940714, -0.030948646366596222, -0.054302532225847244, 0.026220908388495445, -0.04401163384318352, 0.0044809081591665745, -0.020448889583349228, -0.08096013963222504, -0.009113711304962635, -0.027208225801587105, 0.03463210538029671, 0.05749233067035675, -4.316552804084495e-05, -0.05236586928367615, 0.013964864425361156, -0.012711728923022747, 0.015578750520944595, 0.016613537445664406, -0.03525867313146591, -0.01666100323200226, -0.007352676708251238, 0.04439137130975723, -0.005245130974799395, -0.00501254154369235, 0.007651720196008682, 0.01178137119859457, -0.0344422347843647, -0.003118598135188222, -0.07997281849384308, -0.04815077781677246, 0.0491001196205616, -0.025366496294736862, 0.012170602567493916, 0.040631964802742004, 0.021170392632484436, -0.029961327090859413, -0.034328315407037735, 0.013727528043091297, 0.013195894658565521, -0.018151475116610527, 0.018350837752223015, 0.0004233485087752342, 0.04530274122953415, 0.03624599054455757, -0.06668198853731155, -0.011990226805210114, 0.045948296785354614, -0.014790794812142849, -0.02306908182799816, -0.029771458357572556, 0.06816297024488449, -0.0013314563548192382, 0.05411266162991524, 0.0219868291169405, 0.008620052598416805, -0.0425686277449131, -0.0023698024451732635, 0.0023282684851437807, 0.0027459803968667984, -0.02532852254807949, -0.026239894330501556, 0.04784698411822319, -0.010803545825183392, -0.01617683842778206, 0.0032230261713266373, 0.020657746121287346, -0.02027800865471363, -0.02508169412612915, -0.004834539256989956, 0.016528096050024033, 0.007571026217192411, 0.005980873014777899, 0.0041391439735889435, 0.019651440903544426, 0.0006277543725445867, 0.03698647767305374, 0.031765080988407135, -0.014591432176530361, 0.0029999299440532923, 0.013727528043091297, -0.012607300654053688, -0.0019983712118119, -0.0032467597629874945, -0.04127752035856247, -0.03725229576230049, -0.006892244331538677, -0.007618493400514126, -0.02610698714852333, 0.0058622052893042564, -0.005221397150307894, 0.009555157274007797, -0.007404890842735767, -0.026676593348383904, 0.0081026591360569, 0.027682898566126823, 0.01848374679684639, -0.019803335890173912, 0.027682898566126823, 0.01717364974319935, 0.012056681327521801, 0.006474532652646303, -0.004969820845872164, 0.001051399507559836, 0.008648532442748547, -0.008064685389399529, -0.0450369231402874, -0.016385693103075027, 0.05540377274155617, 0.039644643664360046, 0.00898555014282465, 0.025974078103899956, -0.037556085735559464, 0.03503083065152168, 0.013727528043091297, -0.003242013044655323, -0.006868510972708464, -0.0013314563548192382, -0.007680200506001711, -0.0029619561973959208, -0.014135746285319328, -0.02933475933969021, -0.019651440903544426, -0.007105846889317036, -0.015407868660986423, 0.022974148392677307, -0.027948714792728424, 0.020847614854574203, 0.0200501661747694, -0.05134057626128197, 0.01265476830303669, -0.0005838471697643399, 0.04515084624290466, -0.02098052389919758, -0.023733623325824738, 0.021360261365771294, -0.04002438485622406, 0.002952462760731578, 0.046707771718502045, 0.004345626570284367, 0.002426763065159321, -0.004846406169235706, 0.008093166165053844, 0.03649282082915306, 0.003994368948042393, -0.014534471556544304, 0.0329422689974308, 0.020372942090034485, -0.0013100960059091449, 0.029296785593032837, -0.0005277764867059886, 0.00727198226377368, -0.04651790112257004, -0.0049128602258861065, -0.0008223700569942594, 0.013043999671936035, -0.0008728040265850723, -0.01846475899219513, 0.03998640924692154, 0.007438117638230324, 0.011021895334124565, 0.009825720451772213, 0.006498266011476517, -0.020904576405882835, -0.02101849764585495, -0.0032989736646413803, 0.024967772886157036, 0.022461501881480217, -0.03770798072218895, -0.011211764067411423, -0.0024113361723721027, 0.0001906106626847759, -0.02155013009905815, -0.043631892651319504, -0.008904855698347092, -0.007808362133800983, 0.01772427000105381, 0.04632803425192833, -0.022081764414906502, -0.020581798627972603, -0.013623099774122238, 0.046973589807748795, -0.010794051922857761, -0.012294016778469086, -0.020429903641343117, -0.006821043323725462, -0.002115852665156126, -0.03396756201982498, -0.003892314387485385, 0.002425576327368617, 0.06877055019140244, -0.0242842435836792, 0.009070990607142448, 0.006939711514860392, -0.04947986081242561, -0.011857318691909313, -0.01468636654317379, 0.028290480375289917, -0.015379387885332108, -0.030720802024006844, 0.015550270676612854, 0.01848374679684639, -0.030189169570803642, 0.015236986801028252, -0.015607231296598911, -0.028936034068465233, -0.0121421217918396, 0.013604112900793552, -0.014743327163159847, -0.01251236628741026, -0.039606671780347824, -0.03292328491806984, -0.007428624201565981, 0.021189378574490547, -0.002700886456295848, -0.004245945252478123, -0.016281265765428543, 0.028214532881975174, -0.018179956823587418, 0.008140632882714272, -0.014847755432128906, 0.017354026436805725, 0.0070536332204937935, -0.008392209187150002, 0.03343592956662178, 0.04777103662490845, 0.021702025085687637, 0.03184102848172188, -0.011838331818580627, -0.048492539674043655, -0.014335108920931816, -0.008919095620512962, 0.011686436831951141, -0.016736950725317, 0.01720213145017624, -0.03089168481528759, 0.005249877460300922, 0.015123065561056137, 0.00987318716943264, -0.003970635123550892, 0.005919165909290314, -0.022689344361424446, -0.015873048454523087, 0.025423457846045494, 0.036606740206480026, 0.04070791229605675, 0.018910951912403107, -0.0029619561973959208, -0.059125203639268875, 0.0018951299134641886, 0.025176627561450005, 0.0023555620573461056, 0.003666844917461276, -0.038315560668706894, 0.02832845412194729, 0.0006882750894874334, 0.005444493144750595, -0.03233468905091286, 0.033853642642498016, -0.012635781429708004, 0.03856239095330238, 0.015768619254231453, -0.03258151933550835, -0.008188100531697273, -0.010556715540587902, 0.024208296090364456, -0.011657956056296825, 0.017600854858756065, 0.010082043707370758, -0.025708261877298355, 0.0032467597629874945, 0.010661143809556961, -0.01496167667210102, 0.022860227152705193, 0.022461501881480217, 0.038125693798065186, 0.0011469273595139384, -0.006023593712598085, -0.025632314383983612, -0.013471204787492752, -0.006384344771504402, 0.0018132488476112485, -0.012246550060808659, 0.002242827555164695, -0.01972738839685917, -0.05194815620779991, -0.008145379833877087, -0.022955160588026047, -0.02350578084588051, -0.003916047979146242, -0.029467666521668434, -0.022632384672760963, 0.00461856322363019, 0.055821482092142105, -0.018132489174604416, -0.04032817482948303, 0.001734927878715098, -0.05061907321214676, 0.0038804474752396345, 0.03146129101514816, -0.006664401385933161, 0.031005606055259705, -0.02684747613966465, -0.02306908182799816, 0.017914138734340668, -0.011553527787327766, 0.03292328491806984, 0.028442375361919403, -0.018578680232167244, -0.002175186527892947, 0.00010976800695061684, 0.01800907403230667, 0.0016221931437030435, 0.011202270165085793, 0.021607091650366783, 0.015085090883076191, -0.03138534352183342, 0.025480419397354126, 0.008805174380540848, 0.014971169643104076, -0.006749842781573534, 0.01039532758295536, 0.02530953660607338, -0.0014026571298018098, 0.0007683760486543179, 0.01504711713641882, 0.009540916420519352, 0.014382575638592243, 0.028195545077323914, -0.0019283569417893887, -0.01648062840104103, 0.0225184615701437, 0.017145169898867607, 0.04002438485622406, 0.0066216811537742615, -0.00550145423039794, -0.03537259250879288, -0.013452217914164066, 0.02960057556629181, -0.007191287819296122, -0.0029287291690707207, -0.003851967165246606, 0.00191649014595896, -0.0035458034835755825, 0.002651045797392726, 0.019338157027959824, 0.00782734900712967, -0.005738790147006512, -0.01672745868563652, -0.010509248822927475, 0.02635381557047367, -0.002985689789056778, -0.026733553037047386, -0.0059998598881065845, 0.015312934294342995, 0.007703934330493212, 0.02054382488131523, 0.01100290846079588, -0.021360261365771294, 0.02098052389919758, 0.022138724103569984, 0.016537589952349663, 0.04864443466067314, 0.02453107386827469, 0.006688135210424662, -0.017543895170092583, 0.03364478424191475, -0.019632453098893166, -0.03472703695297241, 0.021872907876968384, 0.008292527869343758, -0.024265257641673088, 0.020714707672595978, -0.023999439552426338, -0.02333489991724491, -0.008159619756042957, -0.004222211893647909, -0.00859157182276249, -0.013043999671936035, 0.039872489869594574, -0.0026629127096384764, 0.02785378135740757, -0.006659654900431633, 0.04044209420681, 0.017866672948002815, -0.029220838099718094, -0.012683248147368431, -0.026638619601726532, 0.004070316441357136, 0.06246689707040787, 0.02229061909019947, 0.028499335050582886, 0.00015515855920966715, 0.026448750868439674, 0.011458593420684338, -0.018853990361094475, -0.025195615366101265, -0.031499266624450684, 0.012987039051949978, -0.027948714792728424, 0.01038583368062973, -0.013774995692074299, 0.0556316152215004, -0.02177797257900238, 0.019186262041330338, -0.009526676498353481, 0.0022736811079084873, 0.024113362655043602, -0.013100960291922092, -0.02253744937479496, -0.004561602603644133, 0.05468226969242096, 0.005985619965940714, 0.035866253077983856, 0.004753844812512398, 0.012246550060808659, -0.014752821065485477, -0.0030355304479599, -0.0265816580504179, -0.006018847227096558, 0.03643586114048958, 0.0390370637178421, 0.010148497298359871, 0.02155013009905815, -0.007689693942666054, -0.01352816540747881, -0.00501254154369235, -0.010594689287245274, -0.005980873014777899, 0.03206887096166611, 0.03298024460673332, -0.02308806963264942, -0.025917116552591324, 0.024246269837021828, -0.006626427639275789, 0.0006870884099043906, 0.06755539029836655, -0.008890615776181221, -0.020581798627972603, 0.012854130938649178, -0.04659384861588478, 0.0037475391291081905, -0.03322707489132881, -0.03677762299776077, -0.01848374679684639, 0.005083742085844278, 0.029239824041724205, -0.020296994596719742, 0.024967772886157036, 0.0034247618168592453, -0.015863554552197456, 0.018104007467627525, -0.02810060977935791, 0.02046787738800049, 0.035543475300073624, 0.016585055738687515, 0.026676593348383904, -0.004568722564727068, -0.006911231204867363, -8.67018970893696e-05, -0.03877124935388565, -0.009635851718485355, -0.017619842663407326, -0.011572514660656452, 0.03360681235790253, 0.026258882135152817, 0.043669868260622025, 0.019091326743364334, -0.02308806963264942, -0.011154803447425365, 0.018122995272278786, 0.02303110808134079, -0.026201920583844185, -0.005292598158121109, -0.026144960895180702, -0.010945946909487247, 0.010689624585211277, -0.042150914669036865, -0.05855559557676315, 0.01999320462346077, 0.023410847410559654, 0.009664331562817097, 0.012322497554123402, 0.005772017408162355, 0.014942689798772335, -0.02941070683300495, -0.028746165335178375, -0.012094655074179173, 0.011173790320754051, -0.016898339614272118, -0.023600716143846512, -0.01566419191658497, 0.0120092136785388, 0.01919575408101082, 0.0039635151624679565, -0.028746165335178375, 0.002567978110164404, -0.0005221397150307894, -0.07017558068037033, 0.002508644014596939, -0.0260500255972147, -0.012854130938649178, -0.009688065387308598, -0.03525867313146591, -0.002074318705126643, 0.018787536770105362, 0.02684747613966465, 0.001267375540919602, 0.036587756127119064, 0.03643586114048958, -0.06527695804834366, 0.027132278308272362, 0.006811549887061119, 0.015075597912073135, -0.009256113320589066, 0.060644157230854034, 0.010832025669515133, -0.010034576058387756, -0.0010063056834042072, 0.01103138830512762, -0.0222526453435421, 0.00461856322363019, -0.025271562859416008, 0.008544104173779488, -0.005833724979311228, 0.006830536760389805, 0.02153114415705204, 0.0011849012225866318, 0.022727318108081818, -0.025651300325989723, 0.005942899268120527, 0.03172710910439491, 0.010338366962969303, 0.01049026194959879, 0.007618493400514126, 0.02760695107281208, -0.013613606803119183, -0.006275170017033815, -0.00335118779912591, 0.0340055376291275, -0.0034295087680220604, -0.0002557297993917018, -0.018787536770105362, 0.028803126886487007, 0.030018286779522896, 0.018891964107751846, 0.02356274239718914, -0.007998230867087841, 0.011610488407313824, 0.0019900642801076174, -0.06277068704366684, 0.025385484099388123, -0.021341275423765182, 0.05274560675024986, -0.0200501661747694, -0.003066384233534336, -0.029771458357572556, 0.01293007843196392, -0.02325895056128502, 0.011287711560726166, 0.04883430525660515, -0.003284733509644866, -0.014657885767519474, -0.019936244934797287, -0.036568768322467804, -0.023619702085852623, -0.01951853185892105, -0.013100960291922092, 0.019613467156887054, 0.032771386206150055, 0.024170322343707085, 0.02456904761493206, 0.00042127183405682445, 0.02635381557047367, 0.027531003579497337, -0.04401163384318352, -0.01052823569625616, 0.03195495158433914, 0.0003548176900949329, 0.01645214855670929, 0.003234892850741744, 0.03930288180708885, -0.03465108945965767, 0.028176559135317802, -0.02050585113465786, 0.010547222569584846, -0.00651725335046649, 0.035847265273332596, -0.005976126529276371, -0.007262488827109337, 0.011449100449681282, 0.007950764149427414, 0.021436208859086037, -0.018312864005565643, 0.042910393327474594, -0.026429763063788414, -0.013983851298689842, 0.04928999021649361, 0.01621481217443943, -0.013062986545264721, 0.014524977654218674, -0.04123954474925995, 0.02960057556629181, 0.016385693103075027, 0.0061944760382175446, -0.031992923468351364, 0.017287570983171463, 0.02075268141925335, 0.036872558295726776, 0.02331591211259365, -0.007608999963849783, -0.01228452380746603, 0.022195685654878616, -0.010566209442913532, 0.004058449529111385, -0.04739129915833473, 0.006593200843781233, -0.013357283547520638, -0.0019936244934797287, -0.006498266011476517, -0.0204868633300066, -0.030530933290719986, 0.015180026181042194, -0.0022119737695902586, -0.017344532534480095, -0.007713427767157555, -0.004509388469159603, -0.004162877798080444, 0.008349488489329815, 0.003552923444658518, 0.0029311026446521282, 0.02561332657933235, -0.04727737978100777, 0.016765432432293892, 0.03767000883817673, -0.039113011211156845, -0.033587824553251266, 0.012331990525126457, 0.005036274902522564, 0.03567638248205185, 0.011468087323009968, 0.015132558532059193, 0.028233518823981285, 0.01953751966357231, 0.028518322855234146, 0.01519901305437088, 0.021853920072317123, 0.024398164823651314, 0.0121421217918396, -0.018607161939144135, -0.008278287947177887, -0.017069222405552864, -0.02075268141925335, -0.003768899478018284, 0.027265187352895737, -0.0006781882839277387, 0.02561332657933235, 0.031081553548574448, -0.03142331913113594, -0.00011095469380961731, 0.04180915281176567, -0.00848714355379343, 0.022328592836856842, -0.012911091558635235, -0.02050585113465786, -0.005601135082542896, -0.03360681235790253, 0.026524698361754417, 0.02986639179289341, 0.006218209397047758, 0.018445773050189018, 0.00501254154369235, -0.0179711002856493, -0.01039532758295536, 0.01492370292544365, -0.006574213970452547, 0.003930287901312113, 0.023942479863762856, 0.01750592142343521, -0.01343323104083538, 0.00040228493162430823, -0.04093575477600098, 0.014069292694330215, 0.013651580549776554, 0.015901528298854828, -0.022480487823486328, 0.03839150816202164, 0.02101849764585495, -0.0047372314147651196, 0.006066314410418272, 0.01100290846079588, 0.005772017408162355, -0.02992335334420204, 0.013129441067576408, -0.04678371921181679, 0.015236986801028252, -0.008325755596160889, 0.002810060977935791, 0.00550145423039794, -0.012170602567493916, -0.01293007843196392, -0.01264527440071106, 0.0030046768952161074, -0.019651440903544426, 0.023752611130475998, -0.023126043379306793, 0.009863694198429585, 0.0037143121007829905, 0.0016221931437030435, -0.009294087067246437, -0.0034817226696759462, -0.009270353242754936, 0.01644265465438366, -0.012218069285154343, -0.04199901968240738, -0.02122735232114792, 0.0007363356999121606, -0.047733064740896225, 0.03210684657096863, 0.008691253140568733, -0.02910691685974598, -0.0225184615701437, 0.03537259250879288, -0.02046787738800049, 0.02409437485039234, -0.010983921587467194, -0.009422248229384422, 0.04541666433215141, 0.008762453682720661, 0.0013112827436998487, 0.008520371280610561, -0.01455345842987299, 0.0027222465723752975, 0.021322287619113922, 0.020657746121287346, 0.01874006912112236, -0.014562951400876045, 0.019081832841038704, -0.02760695107281208, 0.03419540449976921, 0.039113011211156845, 0.02760695107281208, -0.01872108317911625, -0.010907973162829876, 0.013793982565402985, 0.004447680898010731, 0.017325544729828835, 0.015502803027629852, -0.03218279406428337, -0.020107125863432884, 0.013262349180877209, -0.03520170971751213, -0.001308909384533763, -0.02156911790370941, -0.013993344269692898, -0.060606181621551514, -0.026942409574985504, 0.0062799169681966305, -0.01343323104083538, -0.004217464942485094, -0.0011724410578608513, -0.019879283383488655, -0.03130939602851868, 0.04287241771817207, -0.011686436831951141, -0.03514475002884865, -0.00676882965490222, 0.01644265465438366, 0.009294087067246437, 0.011468087323009968, -0.047467246651649475, -0.030037274584174156, -0.04902417212724686, -0.03706242889165878, -0.0007440490880981088, -0.012854130938649178, -0.0017812084406614304, 0.014781300909817219, 0.03136635571718216, -0.016803406178951263, 0.004298159386962652, 0.022081764414906502, -0.017382506281137466, 0.0001497443299740553, 0.019898271188139915, -0.02151215635240078, -0.03092965856194496, 0.003358307760208845, 0.04329013079404831, -0.0014465643325820565, 0.008287781849503517, 0.015531283803284168, -0.008563091047108173, -0.015303440392017365, -0.012540847063064575, 0.01051874179393053, -0.01643316075205803, -0.021967843174934387, -0.0005515100783668458, -0.00430053286254406, 0.012123134918510914, -0.012873117811977863, -0.01902487315237522, -0.006403331644833088, -0.0283474400639534, -0.0051691834814846516, -0.014752821065485477, 0.008847895078361034, 0.0052546244114637375, 0.006270423531532288, 0.014373082667589188, -0.00360276410356164, -0.0139079038053751, 0.016252785921096802, 0.0024944038596004248, 0.0013979104114696383, -0.015778113156557083, 0.0348789319396019, -0.00530683808028698, -0.020353956148028374, -0.04530274122953415, 0.022746305912733078, 0.021189378574490547, 0.020809641107916832, -0.021815946325659752, -0.025271562859416008, 0.02358172833919525, -0.023619702085852623, -0.006066314410418272, 0.016034435480833054, 0.01153454091399908, -0.028727177530527115, -0.018540706485509872, -0.044429343193769455, 0.044960975646972656, -0.008026711642742157, 0.008786187507212162, -0.012673755176365376, 0.006199222523719072, 0.008344742469489574, 0.00782734900712967, 0.0027198733296245337, 0.016812900081276894, -0.01556925754994154, -0.02046787738800049, 0.010006096214056015, -0.002492030616849661, -0.02382855862379074, 0.018578680232167244, -0.025784209370613098, 0.00029726364300586283, -0.020353956148028374, -0.00833999551832676, 0.03791683912277222, -0.025442445650696754, -0.012085161171853542, -0.003420015098527074, 0.010480768047273159, -0.014154733158648014, 0.03599916025996208, 0.00463043013587594, 0.01467687264084816, -0.01454396452754736, 0.02534751035273075, -0.015882540494203568, -0.004675523843616247, -0.010072549805045128, 0.02889806032180786, -0.006175489164888859, -0.019148288294672966, 0.023164017125964165, -0.00752355856820941, -0.0033416941296309233, 0.023619702085852623, -0.001483351457864046, -0.04560653120279312, 0.00836372934281826, 0.0017456080531701446, 0.01596798188984394, 0.03463210538029671, -0.002658165991306305, -0.06732754409313202, -0.018028059974312782, 0.00037143120425753295, 0.014857248403131962, 0.007442864589393139, 0.009303580969572067, -0.003503082785755396, -0.006887497846037149, -0.014373082667589188, -0.0019485305529087782, 0.004003862384706736, -0.011885798536241055, -0.006208715960383415, -0.010983921587467194, -0.04226483777165413, 0.005548921413719654, -0.014800287783145905, 0.0010763198370113969, 0.010082043707370758, 0.002995183225721121, 0.02986639179289341, 0.0005369732389226556, -0.028955021873116493, 0.018635641783475876, 0.014088279567658901, -0.006047327537089586, 0.02253744937479496, 0.014297135174274445, -0.03370174765586853, -0.04154333472251892, 0.020334968343377113, 0.03193596377968788, 0.0048369127325713634, -0.02990436553955078, 0.0415053628385067, -0.05779612064361572, 0.0023638689890503883, -0.025879142805933952, -0.029049955308437347, -0.0003123938222415745, -0.03692951798439026, 0.015873048454523087, 0.011933266185224056, -0.0068732574582099915, -0.0060046068392694, 0.02963854931294918, 0.0360371358692646, -0.009759265929460526, -0.010822532698512077, 0.0010899666231125593, -0.0032894802279770374, -0.0032871069852262735, 0.03892314434051514, 0.030967632308602333, -0.019594479352235794, 0.02810060977935791, 0.014610419049859047, -0.021474182605743408, -0.027929728850722313, -0.03516373783349991, 0.015142052434384823, -0.013765501789748669, -0.002133652800694108, 0.053581029176712036, 0.041201572865247726, -0.04541666433215141, 0.020581798627972603, 0.0319739393889904, -0.012588313780725002, 0.05213802680373192, -0.0009481582674197853, -0.025917116552591324, -0.03535360470414162, 0.005809991154819727, 0.031518250703811646, 0.04078385978937149, 0.04602424427866936, 0.003192172385752201, -0.001275682239793241, 0.005411266349256039, -0.022423528134822845, 0.005805244203656912, 0.02073369361460209, -0.009455475956201553, 0.007879562675952911, -0.032828349620103836, 0.003467482514679432, 0.031290408223867416, 0.015445842407643795, -0.02432221733033657, 0.026429763063788414, -0.02734113484621048, 0.034328315407037735, -0.02382855862379074, -0.03111952729523182, 0.011971239931881428, 0.0015320053789764643, -0.033037204295396805, -0.03286632150411606, 0.005249877460300922, 0.03503083065152168, -0.009047257713973522, 0.03873327374458313, -0.004775205161422491, -0.0018357958178967237, 0.009327313862740993, 0.011382645927369595, 0.010775065049529076, -0.006692882161587477, 0.05464429408311844, -0.011306698434054852, -0.010328873060643673, 0.01669897697865963, -0.004191358108073473, -0.0046114432625472546, 0.020202061161398888, -0.008202340453863144, 0.014714846387505531, 0.041125621646642685, -0.022423528134822845, -0.011695929802954197, -0.012958558276295662, 0.027208225801587105, 0.024682968854904175, 0.010803545825183392, 0.01624329201877117, 5.2473558753263205e-05, 0.027986688539385796, 0.018588174134492874, 0.022461501881480217, 0.03339795395731926, -0.009165925905108452, 0.0065314932726323605, -0.0039231679402291775, 0.027512017637491226, 0.011249737814068794, -0.029790444299578667, 0.01593000814318657, -0.006061567459255457, -0.018360331654548645, 0.02333489991724491, 0.007357423193752766, -0.01255034003406763, 0.020809641107916832, 0.007096353452652693, 0.01303450670093298, 0.025499405339360237, 0.02557535283267498, -0.013043999671936035, 0.038315560668706894, -0.018113501369953156, 0.021815946325659752, 0.0006870884099043906, -0.037366218864917755, 0.07720073312520981, 0.02479689009487629, -0.008990297093987465, 0.015312934294342995, -0.03415743261575699, -0.002361495513468981, 0.00873871985822916, -0.045682478696107864, 0.008107406087219715, 0.01431612204760313, 0.007789375260472298, -0.015616724267601967, -0.025423457846045494, -0.009806733578443527, -0.00690173776820302, -0.008705493062734604, 0.017040742561221123, -0.03626497834920883, 0.02333489991724491, -0.006033087149262428, 0.0240184273570776, -0.00033701746724545956, 0.006094794720411301, 0.0455685593187809, -0.0011493007186800241, -0.018369825556874275, -0.041429415345191956, -0.015626218169927597, 0.021075457334518433, -0.0034152683801949024, 0.013737021945416927, -0.038885168731212616, -0.010575702413916588, -0.0030521440785378218, 0.022119738161563873, 0.017040742561221123, 0.006564720533788204, -0.06212513521313667, 0.017562881112098694, -0.014942689798772335, -0.0120092136785388, -0.006721362471580505, -0.022423528134822845, 0.03899909183382988, -0.0053305719047784805, 0.012835144065320492, -0.025233589112758636, 0.012863623909652233, 0.025005746632814407, 0.01252186018973589, -0.02432221733033657, 0.030492959544062614, -0.04473313316702843, 0.0298474058508873, 0.008828908205032349, 0.023638689890503883, 0.004207971505820751, 0.010784558951854706, -0.0006372478092089295, 0.022157711908221245]\n"
     ]
    }
   ],
   "source": [
    "embedded_query_openai = embeddings_openai.embed_query(\"인공지능이란 무엇인가요?\")\n",
    "\n",
    "# 쿼리 임베딩 결과 출력\n",
    "print(f\"쿼리 임베딩 벡터의 차원: {len(embedded_query_openai)}\")\n",
    "print(embedded_query_openai)"
   ]
  },
  {
   "cell_type": "markdown",
   "id": "da63d0f4",
   "metadata": {},
   "source": [
    "`(4) 유사도 기반 검색`"
   ]
  },
  {
   "cell_type": "code",
   "execution_count": 67,
   "id": "7029f9f1",
   "metadata": {},
   "outputs": [
    {
     "name": "stdout",
     "output_type": "stream",
     "text": [
      "쿼리: 인공지능이란 무엇인가요?\n",
      "가장 유사한 문서: 인공지능은 컴퓨터 과학의 한 분야입니다.\n",
      "유사도: 0.7117\n",
      "\n",
      "쿼리: 딥러닝과 머신러닝의 관계는 어떻게 되나요?\n",
      "가장 유사한 문서: 딥러닝은 머신러닝의 한 종류입니다.\n",
      "유사도: 0.6815\n",
      "\n",
      "쿼리: 컴퓨터가 이미지를 이해하는 방법은?\n",
      "가장 유사한 문서: 컴퓨터 비전은 컴퓨터가 디지털 이미지나 비디오를 이해하는 방법을 연구합니다.\n",
      "유사도: 0.7051\n",
      "\n"
     ]
    }
   ],
   "source": [
    "from langchain_community.utils.math import cosine_similarity\n",
    "import numpy as np\n",
    "\n",
    "# 쿼리와 가장 유사한 문서 찾기 함수\n",
    "def find_most_similar(\n",
    "        query: str, \n",
    "        doc_embeddings: np.ndarray,\n",
    "        embeddings_model=OpenAIEmbeddings(model=\"text-embedding-3-small\")\n",
    "        ) -> tuple[str, float]:\n",
    "    \n",
    "    # 쿼리 임베딩: OpenAI 임베딩 사용 \n",
    "    query_embedding = embeddings_model.embed_query(query)\n",
    "\n",
    "    # 코사인 유사도 계산(코사인은 각도로 가까운것 1에 가까울수록 유사도가 높은것, 디폴트로 제일 많이 쓰는거는  Lucrid L2(거리계산))\n",
    "    similarities = cosine_similarity([query_embedding], doc_embeddings)[0]\n",
    "\n",
    "    # 가장 유사한 문서 인덱스 찾기\n",
    "    most_similar_idx = np.argmax(similarities)\n",
    "\n",
    "    # 가장 유사한 문서와 유사도 반환: 문서, 유사도\n",
    "    return documents[most_similar_idx], similarities[most_similar_idx]\n",
    "\n",
    "# 예제 쿼리\n",
    "queries = [\n",
    "    \"인공지능이란 무엇인가요?\",\n",
    "    \"딥러닝과 머신러닝의 관계는 어떻게 되나요?\",\n",
    "    \"컴퓨터가 이미지를 이해하는 방법은?\"\n",
    "]\n",
    "\n",
    "# 각 쿼리에 대해 가장 유사한 문서 찾기\n",
    "for query in queries:\n",
    "    most_similar_doc, similarity = find_most_similar(\n",
    "        query, \n",
    "        document_embeddings_openai, \n",
    "        embeddings_model=embeddings_openai\n",
    "        )\n",
    "    print(f\"쿼리: {query}\")\n",
    "    print(f\"가장 유사한 문서: {most_similar_doc}\")\n",
    "    print(f\"유사도: {similarity:.4f}\")\n",
    "    print()"
   ]
  },
  {
   "cell_type": "markdown",
   "id": "87c841a4",
   "metadata": {},
   "source": [
    "### 2. **Huggingface**\n",
    "\n",
    "- LangChain에서 오픈소스 기반의 대표적인 임베딩 모델\n",
    "\n",
    "- 주요 특징:\n",
    "    1. 로컬 환경에서 실행 가능\n",
    "    2. 다양한 사전학습 모델 지원\n",
    "    3. 커스텀 모델 학습 및 적용 가능\n",
    "    4. 무료 사용 가능 (API 비용 없음)\n",
    "\n",
    "- 사용시 주의사항:\n",
    "    1. 로컬 컴퓨팅 자원 필요 (CPU/GPU)\n",
    "    2. 초기 모델 다운로드 시간 소요\n",
    "    3. 메모리 사용량 고려 필요\n",
    "    4. transformers 라이브러리 설치 필요\n",
    "\n",
    "- 대표적인 임베딩 모델:\n",
    "    ```\n",
    "    모델                            차원      언어             특징      \n",
    "    all-MiniLM-L6-v2               384     다국어     빠른 속도, 적은 메모리\n",
    "    all-mpnet-base-v2              768     다국어     높은 성능, 중간 크기\n",
    "    multilingual-e5-large         1024     다국어     최고 성능, 큰 메모리\n",
    "    ```\n",
    "\n",
    "- 임베딩 벡터 특성:\n",
    "    1. 모델별로 다양한 차원 제공 (128 ~ 1024)\n",
    "    2. sentence-transformers 기반 구현\n",
    "    3. BERT 계열 모델 구조 사용\n",
    "    4. 코사인 유사도 기반 검색 최적화"
   ]
  },
  {
   "cell_type": "markdown",
   "id": "484e59a6",
   "metadata": {},
   "source": [
    "`(1) embedding 모델`\n",
    "\n",
    "- langchain_huggingface 설치 필요"
   ]
  },
  {
   "cell_type": "code",
   "execution_count": 73,
   "id": "d6bae91c",
   "metadata": {},
   "outputs": [
    {
     "data": {
      "text/plain": [
       "HuggingFaceEmbeddings(model_name='BAAI/bge-m3', cache_folder=None, model_kwargs={}, encode_kwargs={}, query_encode_kwargs={}, multi_process=False, show_progress=False)"
      ]
     },
     "execution_count": 73,
     "metadata": {},
     "output_type": "execute_result"
    }
   ],
   "source": [
    "from langchain_huggingface.embeddings import HuggingFaceEmbeddings  \n",
    "\n",
    "# Hugging Face의 임베딩 모델 생성\n",
    "embeddings_bgem3 = HuggingFaceEmbeddings(\n",
    "    model_name=\"BAAI/bge-m3\",          # 사용할 모델 이름 - BAAI BGE-m3 모델 (한국어 성능 우수)\n",
    "    # model_kwargs={'device': 'cuda'}  # GPU 사용시\n",
    "    # model_kwargs={'device': 'mps'}   # Mac M1 사용시\n",
    ")\n",
    "\n",
    "# 임베딩 객체 출력\n",
    "embeddings_bgem3"
   ]
  },
  {
   "cell_type": "markdown",
   "id": "63a5304f",
   "metadata": {},
   "source": [
    "`(2) embed_documents 사용`"
   ]
  },
  {
   "cell_type": "code",
   "execution_count": 74,
   "id": "e3645498",
   "metadata": {},
   "outputs": [
    {
     "name": "stdout",
     "output_type": "stream",
     "text": [
      "임베딩 벡터의 개수: 5\n",
      "임베딩 벡터의 차원: 1024\n",
      "[-0.03941445052623749, 0.008764867670834064, -0.012681610882282257, 0.002453203545883298, -0.00894474983215332, -0.007383695337921381, -0.005377365741878748, -0.009055882692337036, 0.03291523456573486, 0.006045476533472538, -0.027012886479496956, -0.027740905061364174, 0.0004441401397343725, 0.030136561021208763, 0.017242860049009323, 0.017090292647480965, 0.025524897500872612, -0.021856093779206276, -0.011341276578605175, -0.05702260136604309, -0.0003016749687958509, 0.01354310940951109, -0.007450083736330271, 0.01857442781329155, 0.002894638106226921, 0.0086306631565094, -0.0007444588700309396, -0.028904125094413757, 0.020727813243865967, -0.020500589162111282, 0.008069892413914204, -0.026754193007946014, 0.003963039256632328, -0.016303934156894684, -0.07406219840049744, -0.03365037217736244, -0.023871472105383873, -0.03455003350973129, -0.03478594869375229, 0.0054829963482916355, -0.05003359541296959, -0.002803554991260171, -0.02314687892794609, -0.0749114602804184, -0.011434364132583141, -0.02899264357984066, -0.034183017909526825, -0.025524696335196495, -0.061569128185510635, 0.013557911850512028, 0.02440119907259941, -0.03127628564834595, 0.05056964233517647, 0.012972594238817692, -0.06420665234327316, 0.02719489112496376, 0.006821540649980307, 0.0104055255651474, -0.06427168846130371, -0.016028206795454025, -0.020655417814850807, 0.030117657035589218, -0.006331701297312975, -0.013117486611008644, -0.0005491374176926911, 0.046959467232227325, 0.007765454705804586, 0.029756568372249603, -0.03474409133195877, -0.03635728731751442, 0.021413926035165787, 0.017580488696694374, -0.03352218493819237, 0.01369046326726675, -0.05232350900769234, 0.048478398472070694, -0.01338276732712984, -0.017212603241205215, -0.03435641527175903, 0.021086981520056725, -0.02280253916978836, -0.006211868021637201, -0.012333803810179234, -0.045899953693151474, -0.04362533614039421, -0.03322097286581993, -0.03090290166437626, 0.06267788261175156, -0.013041122816503048, 0.0030605702195316553, -0.03402102738618851, -0.011811492964625359, 0.06983613967895508, -0.06787187606096268, -0.0412171296775341, -0.04542520269751549, -0.05954751372337341, 0.026572179049253464, 0.021793361753225327, 0.016649404540657997, -0.004795440472662449, 0.05578603595495224, 0.005842198617756367, -0.004925672430545092, 0.005203370004892349, 0.012360340915620327, 0.015873590484261513, 0.013678347691893578, -0.004320620559155941, -0.016777485609054565, 0.02467341721057892, 0.07882758229970932, -0.003314934205263853, 0.027733050286769867, -0.014849909581243992, -0.0362965390086174, -0.007080197799950838, -0.005244849249720573, 0.031237946823239326, 0.028104566037654877, 0.02144520729780197, 0.026932435110211372, -0.018261317163705826, -0.03545692563056946, 0.02549435757100582, -0.014402545988559723, 0.04316097870469093, -0.006512579508125782, -0.002386910142377019, -0.025424890220165253, 0.007254288997501135, 0.001666962169110775, -0.06067401543259621, 0.002136940835043788, -0.0793343186378479, -0.03168249502778053, -0.026456231251358986, -0.034573253244161606, 0.0011898858938366175, -0.026784731075167656, 0.03188099339604378, 0.008707327768206596, -0.03449935093522072, -0.026013841852545738, 0.02824806421995163, 0.028849057853221893, 0.011804268695414066, 0.006611344404518604, -0.04028216004371643, 0.006594957783818245, -0.04195797070860863, 0.001875912887044251, -0.01684918999671936, -0.00032439205097034574, 0.008593734353780746, 0.05727250501513481, 0.0345127172768116, 0.018291309475898743, -0.0362715907394886, 0.019243363291025162, -0.011026417836546898, -0.05107647925615311, -0.011925872415304184, 0.034413959830999374, 0.02501547709107399, 0.005875383038073778, 0.0022539165802299976, 0.05663302540779114, -0.02504448965191841, -0.05167197436094284, -0.04070145636796951, -0.0038236607797443867, -0.08939450234174728, 0.013491128571331501, 0.03287689760327339, 0.020798640325665474, 0.04125237464904785, 0.031184004619717598, 0.01035955362021923, -0.032930511981248856, -0.024386415258049965, -0.015635915100574493, -0.01784442737698555, 0.01631949096918106, -0.0033740319777280092, -0.008289550431072712, 0.007997725158929825, 0.017579950392246246, 0.005814941134303808, -0.0015096307033672929, 0.03361957147717476, -0.02357892505824566, 0.018168536946177483, -0.013307614251971245, -0.010974681936204433, -0.06073546037077904, 0.03531361743807793, 0.03325324133038521, 0.0035984208807349205, -0.00952876452356577, -0.03346243500709534, 0.026455916464328766, 0.004845184739679098, -0.0052327970042824745, -0.028605110943317413, 0.03523759916424751, -0.0023234128020703793, -0.033424701541662216, 0.02069602720439434, -0.0166467372328043, 0.050313934683799744, 0.00538290711119771, 0.006805273704230785, -0.04224151000380516, -0.05043681710958481, -0.0236665029078722, -0.0003812677168752998, 0.017486941069364548, -0.021624596789479256, -0.0511527918279171, -0.005384444259107113, -0.007931975647807121, 0.01259658858180046, 0.04038446024060249, 0.02364312671124935, 0.011450341902673244, -0.012604201212525368, -0.02401760406792164, 0.0593751035630703, 0.022747060284018517, -0.014662856236100197, 0.02844359539449215, 0.0028610466979444027, -0.0274338461458683, 0.0026597953401505947, -0.012619078159332275, -0.01932600513100624, 0.0012929788790643215, 0.024065805599093437, 0.005560099612921476, 0.0004692685906775296, -0.012332878075540066, 0.008361481130123138, 0.007104414515197277, -0.014163892716169357, -0.025789648294448853, -0.009067066945135593, 0.011334899812936783, -0.03867325931787491, 0.012458671815693378, -0.01484669279307127, -0.053380172699689865, 0.0007011156994849443, -0.037628188729286194, 0.024404345080256462, -0.022411486133933067, -0.003127620555460453, 0.005926246754825115, 0.029243437573313713, 0.012872275896370411, -0.025251492857933044, -0.017893923446536064, -0.032658811658620834, 0.01578877493739128, 0.0368376225233078, -0.019260192289948463, 0.004153439775109291, -0.008615199476480484, 0.02560020424425602, 0.031416237354278564, 0.013882135041058064, 0.016615934669971466, 0.02648588828742504, 0.01651475392282009, 0.03710551559925079, 0.01717045158147812, 0.016321685165166855, -0.022120635956525803, 0.027622047811746597, 0.024099627509713173, -0.024875948205590248, -0.03490517660975456, 0.01085947547107935, 0.03753617778420448, 0.03244507685303688, -0.002951034577563405, -0.021300796419382095, -0.0008491670014336705, -0.049433011561632156, -0.0502716526389122, -0.05571754649281502, -0.03578628972172737, 0.0516538992524147, -0.026500346139073372, -0.02994459867477417, 0.04084893688559532, -0.0027764702681452036, -0.15416254103183746, 0.05287329852581024, -0.04403993487358093, 0.024527784436941147, 0.0007717472617514431, -0.02312583662569523, 0.028217779472470284, 0.02060615085065365, -0.06491443514823914, 0.05870116502046585, -0.015259619802236557, -0.05291959270834923, -0.026743700727820396, -0.016040164977312088, 0.03513457626104355, 0.036927301436662674, 0.018241016194224358, -0.0001441195054212585, -0.025382108986377716, -0.004293600097298622, -0.040960364043712616, -0.050586022436618805, 0.01501429732888937, -0.0358155332505703, 0.02978992462158203, -0.04509026184678078, -0.02097088284790516, -0.02369893714785576, -0.029049711301922798, -0.03439382463693619, -0.018698520958423615, -0.00941397249698639, -0.02136843465268612, 0.041909847408533096, 0.022590262815356255, 0.008137846365571022, 0.0034019234590232372, -0.03497292846441269, 0.05352340638637543, 0.006330602802336216, -0.009400768205523491, 0.0340353362262249, 0.013987448997795582, 0.00509557593613863, -0.0004018492472823709, -0.022481204941868782, 0.03870444744825363, 0.0006443458260037005, -0.013815914280712605, 0.009313322603702545, -0.024370459839701653, -0.05039580166339874, 0.04627165198326111, -0.021217284724116325, -0.033464591950178146, 0.006026166025549173, 0.010226242244243622, 0.0693257749080658, 0.02263229340314865, 0.012568912468850613, -0.04025677591562271, -0.03471682220697403, 0.019841749221086502, 0.014833953231573105, 0.01384139247238636, -0.046720895916223526, 0.055473264306783676, 0.011165855452418327, 0.021457137539982796, -0.02226230874657631, 0.03648185357451439, -0.0014091995544731617, 0.05106929689645767, -0.01689680479466915, -0.00025811814703047276, 0.04926151782274246, 0.00779405701905489, -0.07784522324800491, -0.05160043016076088, -0.08172135055065155, 0.0001815028372220695, -0.0027509115170687437, -0.00911609549075365, -0.004651390016078949, -0.04209814593195915, -0.002211005659773946, -0.010076196864247322, -0.027880776673555374, 0.05060309171676636, 0.20529000461101532, 0.026444371789693832, -0.0002254993887618184, -0.026649249717593193, 0.03717314079403877, -0.008842229843139648, -0.014338348060846329, -0.01930874213576317, 0.01748104766011238, -0.010157172568142414, 0.009985258802771568, -0.02210446260869503, -0.001215783879160881, 0.006270245183259249, 0.013725180178880692, 0.025201871991157532, -0.0338592454791069, -0.0011371378786861897, 0.08596234768629074, 0.021859385073184967, -0.007644921075552702, -0.0030850092880427837, 0.04453148692846298, -0.0013037091121077538, -0.0288956630975008, -0.02633531577885151, 0.0028093201108276844, 0.01079726405441761, -0.019451351836323738, -0.036453697830438614, 0.00508820079267025, 0.029914095997810364, -0.01068191509693861, 0.0066849649883806705, 0.02388142980635166, 0.01771291345357895, 0.0014703799970448017, -0.01895173080265522, 0.009166165255010128, 0.0076647670939564705, -0.02050994150340557, -0.015714963898062706, -0.0014613025123253465, 0.007429533638060093, 0.009566866792738438, 0.010711225681006908, 0.006898309104144573, -0.009391154162585735, -0.019545534625649452, -0.03545309230685234, -0.06176719442009926, -0.022272856906056404, -0.043118398636579514, 0.018352776765823364, -0.0023402292281389236, -0.004222738090902567, -0.04327486827969551, 0.025858180597424507, 0.017618432641029358, 0.00878942757844925, 0.039438921958208084, 0.008824596181511879, 0.03327031433582306, 0.025980571284890175, -0.009331362321972847, -0.005428999662399292, -0.03740309923887253, -0.05824074521660805, 0.05887572467327118, -0.0037428440991789103, 0.013187001459300518, 0.014792920090258121, -0.046682585030794144, -0.02210737019777298, 0.0064716702327132225, 0.0035058418288826942, 0.03154466301202774, 0.026691218838095665, 0.028576407581567764, 0.028033744543790817, -0.029319947585463524, 0.010856646113097668, -0.027783183380961418, 0.03786865249276161, 0.0077422186732292175, -0.051455266773700714, -0.014120884239673615, 0.05561646446585655, 0.017498552799224854, -0.024795707315206528, 0.01381833665072918, 0.008258537389338017, -0.00909510813653469, 0.044248390942811966, -0.013298439793288708, 0.022851193323731422, 0.007554663345217705, -0.005556178744882345, -0.026851441711187363, 0.04283799231052399, -0.030624572187662125, -0.04370550438761711, -0.009680391289293766, -0.006718826945871115, 0.016627749428153038, 0.020827841013669968, 0.020590972155332565, 0.05548372492194176, 0.009113767184317112, 0.048021454364061356, 0.0028951577842235565, 0.026987779885530472, -0.05199022963643074, -0.04606880247592926, 0.014079607091844082, -0.01025676541030407, 0.02094569429755211, 0.020687095820903778, 0.006968600209802389, 0.014875832945108414, -0.03136388212442398, 0.001248744549229741, 0.018802408128976822, 0.03199203312397003, 0.000287856935756281, -0.02722770906984806, 0.04708469286561012, 0.033834073692560196, -0.01576898992061615, 0.019647089764475822, 0.06061580032110214, 0.001848181476816535, 0.004004721995443106, 0.04876019060611725, 0.022826801985502243, 0.014284416101872921, -0.014066209085285664, 0.021967440843582153, 0.059862177819013596, 0.00028341737925074995, 0.014908602461218834, 0.007023279555141926, 0.024416375905275345, 0.00801575556397438, 0.01087253913283348, 0.0016236278461292386, -0.013646871782839298, 0.048476070165634155, -0.023516230285167694, -0.006223456468433142, 0.0007701621507294476, -0.022264229133725166, 0.058263808488845825, -0.042533282190561295, -0.008776973001658916, -0.029511036351323128, -0.021039282903075218, -0.005618699360638857, 0.03724321350455284, -0.022321166470646858, 0.02959318272769451, 0.022220874205231667, 0.060007695108652115, 0.0543372817337513, -0.013108935207128525, 0.046754226088523865, -0.004019578453153372, -0.02003682218492031, -0.009979202412068844, -0.05236510932445526, 0.012971555814146996, -0.023964006453752518, -0.04701245203614235, 0.01768026314675808, -0.06316708773374557, -0.012216237373650074, -0.051538754254579544, 0.016716154292225838, 0.0028964951634407043, 0.0023543699644505978, 0.046984318643808365, 0.005236110184341669, 0.0286058709025383, 0.018033556640148163, 0.0026883617974817753, 0.012599202804267406, 0.043125808238983154, -0.012468750588595867, 0.016190804541110992, -0.035035233944654465, -0.013990483246743679, 0.0850161537528038, -0.0006754017085768282, -0.03510754555463791, 0.01890823431313038, -0.043884120881557465, 0.01817837730050087, -0.014595232903957367, 0.05074281617999077, -0.014598777517676353, -0.012248411774635315, -0.053821712732315063, 0.00917732808738947, -0.013291004113852978, -0.026121487841010094, 0.019020933657884598, -0.009157833643257618, 0.015958454459905624, -0.012059276923537254, 0.023945899680256844, 0.010822107084095478, 0.0012781574623659253, -0.04741381108760834, 0.028183547779917717, -0.03028205595910549, 0.03450251370668411, -0.03545203432440758, 0.010610676370561123, 0.02175796777009964, -0.07106904685497284, -0.011429190635681152, -0.0007577334181405604, 0.0009730088640935719, -0.06687965244054794, 0.0017512999475002289, 0.030838068574666977, -0.01364524383097887, -0.02012292668223381, -0.0196966752409935, 0.04643264785408974, -0.004844079725444317, -0.08160027861595154, 0.04044304043054581, 0.004950473550707102, 0.031064769253134727, 0.0052509186789393425, -0.00610312120988965, 0.014033714309334755, -0.02118191123008728, -0.019575390964746475, 0.025881558656692505, -0.026794644072651863, 0.06484146416187286, 0.01743645779788494, 0.025304069742560387, 0.012567223981022835, 0.006157856900244951, -0.015259130857884884, -0.002980077639222145, 0.004574261140078306, -0.01168545987457037, -0.04778236150741577, 0.04852066934108734, 0.02730189450085163, 0.01990864984691143, -0.046112317591905594, 0.04947085678577423, -0.015534104779362679, -0.022958848625421524, 0.007057514972984791, 0.011417134664952755, 0.028111206367611885, -0.0009655295871198177, 0.0052147069945931435, 0.0058796703815460205, 0.040908802300691605, 0.04670417308807373, 0.013859497383236885, -0.04856494814157486, -0.03641865774989128, 0.03055660054087639, -0.0033170930109918118, -0.03998246043920517, -0.0323239304125309, 0.032081663608551025, -0.002212329301983118, -0.037438198924064636, 0.04703686386346817, 0.04756614565849304, -0.003721176413819194, -0.00484991492703557, 0.05456386134028435, 0.00876217894256115, 0.014281706884503365, 0.01304144412279129, -0.0057755121961236, 0.011362372897565365, 0.005727226380258799, 0.028392244130373, -0.03743186593055725, 0.017423409968614578, 0.009146065451204777, -0.04311312735080719, 0.010060473345220089, -0.013028779998421669, 0.026313522830605507, -0.008787086233496666, 0.048813145607709885, -0.02394179068505764, -0.008417521603405476, -0.030199911445379257, -0.011565573513507843, -0.008227531798183918, -0.0007780012674629688, 0.036086179316043854, 0.019429698586463928, 0.01580185443162918, -0.06475584208965302, 0.03227159380912781, -0.01971474476158619, 0.012444721534848213, 0.0005196327110752463, 0.037241194397211075, 0.04861577972769737, -0.030769051983952522, -0.011096968315541744, 0.030283838510513306, -0.049534671008586884, 0.05492839589715004, -0.0020628205966204405, 0.04958370327949524, 0.0007331368396990001, -0.006119845900684595, -0.023130156099796295, 0.009980842471122742, 0.02388335019350052, -0.019458580762147903, -0.032001424580812454, 0.02911379560828209, -0.05370789393782616, -0.012846685945987701, 0.03300856426358223, -0.0024578168522566557, 0.025622421875596046, 0.0028969645500183105, -0.016086366027593613, -0.01989271678030491, -0.03626827150583267, 0.05153733491897583, 0.025978298857808113, -0.023754620924592018, -0.0021326879505068064, 0.056630536913871765, -0.021224915981292725, 0.026157818734645844, -0.030654877424240112, -0.009088541381061077, -0.0013654616195708513, 0.007371792569756508, 0.014015528373420238, -0.038815710693597794, -0.005175889004021883, -0.020652420818805695, -0.08542812615633011, 0.032869815826416016, -0.02112164907157421, -0.0017047012224793434, -0.023852869868278503, 0.01019336935132742, 0.0031528575345873833, -0.046267617493867874, 0.004378558602184057, 0.012766247615218163, 0.03188915550708771, -0.006445381790399551, 0.061730459332466125, 0.02729329839348793, -0.04018533229827881, 0.012747298926115036, -0.043413933366537094, -0.03434225916862488, 0.024028968065977097, 0.045110832899808884, -0.0642278715968132, -0.002670848509296775, 0.01576581597328186, -0.046336013823747635, 0.015471884980797768, -0.012263954617083073, 0.004063988570123911, 0.0028699967078864574, -0.05909788981080055, -0.04977875575423241, -0.03188014030456543, 0.004282364156097174, -0.04063797369599342, -0.010036945343017578, -0.020495139062404633, 0.04349435865879059, 0.009183084592223167, -0.02145693264901638, -0.03666561841964722, 0.03871415555477142, -0.028577027842402458, -0.12108994275331497, 0.011257979087531567, -0.021855859085917473, 0.03847646340727806, -0.02077888511121273, 0.026198504492640495, -0.005205580033361912, 0.007620599586516619, 0.023885345086455345, -0.06817089766263962, -0.010705290362238884, 0.03838725388050079, 0.020878396928310394, -0.013643755577504635, -0.001299050753004849, 0.018895788118243217, -0.01062721572816372, 0.019094303250312805, 0.007303009741008282, 0.025121107697486877, -0.003089873818680644, 0.019350560382008553, 0.045457515865564346, -0.006982727907598019, 0.016584400087594986, -0.004083533771336079, 0.006178648676723242, 0.010033605620265007, -0.06160513311624527, 0.008099183440208435, 0.05615949630737305, -0.057078372687101364, 0.005859647411853075, 0.002649553120136261, -0.052220419049263, -0.029950210824608803, -0.04529864713549614, 0.004038635641336441, -0.027648018673062325, 0.03871118649840355, -0.03272446617484093, 0.02715749479830265, 0.03960350900888443, -0.011242448352277279, 0.015820497646927834, 0.08895585685968399, -0.031501587480306625, -0.016731763258576393, -0.014683905988931656, -0.02074110321700573, 0.029698286205530167, -0.026172656565904617, -0.012390896677970886, 0.05219876393675804, -0.012780040502548218, 0.016312656924128532, -0.050875190645456314, 0.009121485985815525, -0.00313632027246058, 0.07734204828739166, -0.041934784501791, 0.0007514365133829415, -0.03058452717959881, 0.013006364926695824, -0.0074104019440710545, 0.030986033380031586, -0.05732092633843422, -0.010988336987793446, -0.015135074034333229, 0.006888874340802431, 0.008642609231173992, 0.06573329865932465, 0.033710915595293045, -0.03401574119925499, 0.029345441609621048, 0.011673962697386742, 0.05105678737163544, 0.0070651136338710785, 0.019810913130640984, -0.03461390733718872, 0.016095615923404694, 0.01248474046587944, -0.04676216095685959, -0.027515798807144165, 0.010376639664173126, -0.02294723503291607, -0.03412250056862831, -0.003230014117434621, -0.008177150972187519, -0.023371756076812744, -0.04848465323448181, -0.011113792657852173, -0.019519340246915817, -0.003848863299936056, -0.047343507409095764, 0.013848789036273956, 0.0020970883779227734, 0.012429004535079002, -0.016072360798716545, -0.012233722023665905, -0.007150513119995594, -0.005227208137512207, 0.009924709796905518, -0.002352415816858411, -0.020415939390659332, 0.03459922596812248, 0.06643096357584, -0.010721652768552303, 0.054809872061014175, -0.03403066471219063, 0.009117682464420795, -0.014219500124454498, -0.051660142838954926, 0.039497654885053635, -0.002909438917413354, -0.012116189114749432, 0.016222812235355377, 0.0620235949754715, 0.015340396203100681, 0.03206440433859825, 0.046687860041856766, -0.026615357026457787, 0.0022646214347332716, -0.018055330961942673, 0.06148133426904678, 0.0034601003862917423, 0.000789548852480948, 0.04581804201006889, 0.049780040979385376, 4.5016543026576983e-07, 0.015820646658539772, -0.028666410595178604, 0.0513312891125679, -0.019402451813220978, 0.0501457080245018, 0.0012630122946575284, 0.06666199862957001, 0.03221099078655243, -0.07578133791685104, -0.02677564136683941, -0.02279249206185341, -0.01389915868639946, -0.0027472826186567545, -0.01722530834376812, -0.05203040689229965, -0.0063860067166388035, 0.02829091064631939, -0.059221621602773666, -0.006042562425136566, -0.010329854674637318, -0.020534342154860497, -0.025234166532754898, 0.006485000252723694, 0.05987749621272087, -0.06461495161056519, 0.039172276854515076, -0.039359234273433685, 0.011597109027206898, -0.0050013428553938866, -0.021776609122753143, 0.02479618974030018, -0.021055860444903374, -0.014341406524181366, 0.005037359893321991, -0.026903092861175537, -0.015666211023926735, -0.020005522295832634, -0.01751844212412834, -0.0021191316191107035, 0.031801626086235046, 0.03315677493810654, 0.06110074743628502, -0.02178020030260086, -0.007200463674962521, 0.02345706894993782, 0.0045004114508628845, -0.033949095755815506, 0.030627746134996414, 0.0505833737552166, 0.019436290487647057, 0.030365247279405594, -0.00849819090217352, 0.038616131991147995, 0.024106798693537712, -0.029866766184568405, -0.02248375304043293, -0.029365157708525658, 0.05913858115673065, 0.02399423159658909, -0.05173461511731148, -0.021445652469992638, -0.008028711192309856, -0.04587537422776222, 0.018533948808908463, -0.01298090722411871, 0.06204555183649063, 0.025514408946037292, 0.030436046421527863, -0.013861756771802902, 0.011499200016260147, -0.0768980160355568, -0.015685729682445526, 0.03136920556426048, -0.01009242795407772, -0.00492860609665513, 0.005839568097144365, -0.05361056327819824, -0.0019884761422872543, -0.023305796086788177, -0.012968518771231174, 0.008794055320322514, 0.018897265195846558, 0.0008403664105571806, -0.0075892792083323, 0.04887891933321953, -0.05043143406510353, 0.012651997618377209, -0.0050495704635977745, -0.0155519163236022, 0.00367421074770391, 0.0029689816292375326, 0.007681491319090128, -0.026818856596946716, -0.010751407593488693, 0.01396102923899889, -0.031508371233940125, 0.010267539881169796, 0.05015924572944641, -0.03511190041899681, -0.0008258200832642615, -0.02818342298269272, -0.02412126027047634, 0.0028528282418847084, 0.020421721041202545, -0.013471666723489761, -0.014262329787015915, 0.022602224722504616, 0.038974639028310776, -0.00824047066271305, -0.015732215717434883, 0.05449068546295166, 0.00834171287715435, 0.03494139015674591, -0.017748042941093445]\n"
     ]
    }
   ],
   "source": [
    "# 문서 임베딩\n",
    "document_embeddings_bgem3 = embeddings_bgem3.embed_documents(documents)\n",
    "\n",
    "# 임베딩 결과 출력\n",
    "print(f\"임베딩 벡터의 개수: {len(document_embeddings_bgem3)}\")\n",
    "print(f\"임베딩 벡터의 차원: {len(document_embeddings_bgem3[0])}\")\n",
    "print(document_embeddings_bgem3[0])"
   ]
  },
  {
   "cell_type": "markdown",
   "id": "447c8889",
   "metadata": {},
   "source": [
    "`(3) embed_query 사용`"
   ]
  },
  {
   "cell_type": "code",
   "execution_count": 75,
   "id": "7cbc1b43",
   "metadata": {},
   "outputs": [
    {
     "name": "stdout",
     "output_type": "stream",
     "text": [
      "쿼리 임베딩 벡터의 차원: 1024\n",
      "[-0.037039123475551605, -0.004837991204112768, 0.002937293378636241, -0.015514614060521126, -0.0009441909496672451, -0.041501596570014954, -0.006574478466063738, 0.011289610527455807, 0.02161403000354767, 0.004928704351186752, -0.020340578630566597, 0.016905196011066437, -0.012874152511358261, 0.005518927704542875, 0.014988312497735023, 0.024228768423199654, 0.007369134575128555, -0.028049901127815247, -0.014939001761376858, -0.05185187608003616, -0.006705061998218298, -0.009251521900296211, -0.016980797052383423, 0.006491500418633223, 0.052931781858205795, 0.04813731461763382, -0.008069497533142567, -0.023171763867139816, 0.01814303547143936, -0.011328127235174179, -0.004240373149514198, -0.00635470962151885, -0.002271746750921011, 0.01432944368571043, -0.035636838525533676, -0.008155819028615952, -0.011798230931162834, -0.04542408138513565, -0.040732864290475845, 0.0022139030043035746, -0.012132258154451847, 0.017896121367812157, -0.019144656136631966, -0.04192440211772919, 0.0009190759737975895, -0.03915587440133095, -0.024359628558158875, -0.024489058181643486, -0.022189177572727203, -0.004594773985445499, 0.031455013900995255, -0.04872862994670868, 0.01798146590590477, 0.0249920841306448, 0.002237538807094097, 0.048493195325136185, -0.008275475353002548, 0.02803465910255909, -0.07396607846021652, -0.020461754873394966, -0.026336669921875, -0.007573057897388935, -0.03894694149494171, -0.017513755708932877, 0.019220862537622452, 0.0637216791510582, 0.020348936319351196, -0.011644059792160988, -0.01854124292731285, -0.04083118960261345, 0.002421597484499216, 0.04151126742362976, -0.057807158678770065, 0.05268526449799538, -0.04598039388656616, 0.011361484415829182, 0.020731983706355095, 0.006215646397322416, -0.034680869430303574, 0.017564866691827774, 0.04858105257153511, -0.011552060954272747, -0.029530879110097885, -0.01328027993440628, -0.0061004143208265305, -0.00190250005107373, -0.01976134441792965, 0.06854035705327988, -0.010715009644627571, 0.0023071118630468845, -0.042589638382196426, -0.001590083003975451, 0.05118926614522934, -0.10599071532487869, -0.018659507855772972, -0.08233024179935455, -0.03328851982951164, 0.010936757549643517, 0.014399342238903046, 0.0320371650159359, -0.005423126742243767, 0.04439565911889076, 0.016004206612706184, -0.026697099208831787, 0.029552793130278587, 0.005722426809370518, 0.0007927489350549877, 0.009445477277040482, -0.037956081330776215, -0.006559086497873068, 0.038131747394800186, 0.03867703676223755, 0.01900191232562065, 0.032001249492168427, -0.04679049178957939, -0.05345741659402847, 0.008922789245843887, 0.0013820527819916606, 0.023152265697717667, 0.040909115225076675, -0.007746899034827948, 0.020619843155145645, -0.03608466684818268, -0.042336609214544296, -0.00893730204552412, -0.016762113198637962, 0.033050961792469025, 0.034577786922454834, -0.006106724496930838, -0.014311699196696281, 0.02695603109896183, -0.01739502139389515, -0.07625307887792587, -0.006047271192073822, -0.05990395322442055, -0.02036604844033718, 0.00690590450540185, -0.0312081016600132, 0.02491195872426033, -0.03327041491866112, 0.0343724749982357, 0.006274079438298941, -0.03359515219926834, -0.028891736641526222, 0.018341276794672012, 0.006629306823015213, 0.004403312690556049, -0.007898855023086071, -0.010449203662574291, 0.024499058723449707, -0.01784862019121647, -0.023140735924243927, -0.026498032733798027, -0.00970399845391512, 0.008640210144221783, 0.046334799379110336, 0.010182308964431286, 0.023935405537486076, -0.052029117941856384, 0.034543342888355255, 0.042555976659059525, -0.0006984470528550446, 0.006904140580445528, 0.02455480583012104, -0.009249888360500336, 0.00375000131316483, 0.0019923208747059107, 0.022435255348682404, -0.007651497144252062, -0.026824617758393288, -0.037184249609708786, 0.010140053927898407, -0.03330320492386818, 0.03516094386577606, 0.014152996242046356, 0.001517971744760871, 0.06473015993833542, 0.03341676667332649, -0.009922732599079609, -0.008217395283281803, -0.05553996190428734, -0.017524655908346176, -0.011371004395186901, 0.0038229909259825945, -0.003737528109923005, 0.011147843673825264, 0.015892621129751205, 0.011535941623151302, 0.01930191181600094, 6.5928979893215e-05, -0.01662611775100231, -0.02188459224998951, 0.013342291116714478, -0.004614574834704399, -0.0013086313847452402, -0.029976166784763336, 0.03368759527802467, 0.04602939635515213, -0.004229733254760504, -0.04002342000603676, -0.027000155299901962, 0.028471942991018295, 0.016615090891718864, 0.0074339513666927814, -0.04309450834989548, 0.013872237876057625, 0.004785218741744757, -0.04215671867132187, 0.011164241470396519, -0.03745198994874954, 0.018990466371178627, 0.04842603951692581, 0.049872253090143204, -0.023933248594403267, -0.05517074093222618, -0.008649075403809547, -0.019167348742485046, 0.04419615864753723, -0.007545452564954758, -0.01242662314325571, -0.013597340323030949, 0.019231392070651054, 0.0015145166544243693, 0.02555161900818348, 0.03561320900917053, -0.0017695315182209015, 0.037005651742219925, -0.01934419758617878, 0.02111251838505268, 0.010621186345815659, 0.0018154532881453633, 0.058873772621154785, 0.0162171833217144, -0.03262634575366974, 0.0010106679983437061, -0.014767293818295002, -0.037835847586393356, -0.02151407115161419, 0.006840208545327187, 0.01949603669345379, -0.024711281061172485, 0.002176497131586075, -0.032640207558870316, 0.02691698633134365, -0.011721797287464142, -0.01311167236417532, -0.016775257885456085, -0.025881528854370117, -0.012007090263068676, 0.025429416447877884, -0.001238986267708242, -0.038785431534051895, 0.005284701008349657, -0.012242455966770649, 0.05315488204360008, 0.014017338864505291, -0.01020788960158825, 0.005708552431315184, 0.007218072656542063, 0.03655289113521576, 0.010486885905265808, -0.02365611493587494, 0.0005250406102277339, 0.03281537815928459, 0.0539558082818985, 0.010052734054625034, 0.0018818125827237964, -0.03236310929059982, 0.01933571882545948, 0.03375539183616638, -0.014729133807122707, -0.020189423114061356, -0.020224420353770256, 0.0033614139538258314, 0.03844420984387398, -0.01458846963942051, -0.008461087010800838, -0.015727438032627106, 0.025323055684566498, 0.009637243114411831, -0.021265948191285133, -0.05622909218072891, -0.014719415456056595, 0.04648503661155701, 0.02474283054471016, -0.02521609701216221, -0.031498707830905914, 0.0021102833561599255, -0.0018524363404139876, -0.03766107186675072, -0.010685303248465061, -0.021195508539676666, 0.05994449183344841, -0.017540927976369858, -0.029294462874531746, -0.016515031456947327, -0.03334275633096695, -0.1345064640045166, 0.014861912466585636, -0.030510181561112404, 0.023870935663580894, -0.008990784175693989, -0.030506964772939682, 0.019909881055355072, -0.012342064641416073, 0.0009846208849921823, 0.029325369745492935, 0.008167718537151814, -0.04651207476854324, -0.049962811172008514, -0.03237045928835869, 0.03154980018734932, 0.005826599430292845, 0.017247986048460007, -0.012478492222726345, -0.03253526985645294, -0.04868706315755844, -0.016888249665498734, -0.06612596660852432, 0.008022107183933258, -0.051493532955646515, 0.056620385497808456, -0.011946983635425568, 0.014184625819325447, -0.003226294880732894, -0.04714842140674591, -0.057101305574178696, -0.013619945384562016, -0.04022352397441864, -0.009091481566429138, 0.053464729338884354, 0.051880281418561935, 0.0058720773085951805, -0.003309080610051751, -0.024142464622855186, 0.04166967049241066, -0.006590448319911957, 0.0012395876692607999, 0.004078471567481756, 0.02711060829460621, 0.04170547053217888, 0.004624213092029095, 0.017327412962913513, 0.03122676908969879, -0.01880442537367344, 0.02211291529238224, -0.0014157555997371674, -0.0316413938999176, -0.003841651836410165, 0.04987509548664093, -0.04317934811115265, 0.019453613087534904, -0.004618047270923853, 0.03876296803355217, 0.0749245285987854, 0.04673222079873085, -0.01282190065830946, -0.049266450107097626, 0.03639501333236694, -0.016499236226081848, 0.023837504908442497, -0.01405634731054306, -0.008350412361323833, 0.0763549655675888, 0.0216106865555048, -0.006471710745245218, -0.029888402670621872, 0.042987581342458725, -0.006319603882730007, 0.0034829657524824142, -0.011994467116892338, 0.01896720379590988, 0.03665362671017647, 0.011891369707882404, -0.05531254783272743, -0.043616123497486115, -0.07883050292730331, 0.026639578863978386, -0.016894184052944183, -0.0008406933629885316, -0.0007740960572846234, -0.02035103179514408, -0.019341707229614258, -0.0019194061169400811, 0.0029372547287493944, 0.01631167344748974, 0.24095183610916138, -0.020462950691580772, 0.016002869233489037, -0.02317243069410324, -0.00974917970597744, -0.0055515579879283905, -0.022992296144366264, -0.021734090521931648, 0.010987704619765282, -0.02273484319448471, 0.005074255168437958, -0.016033999621868134, 0.00748205604031682, 0.0038968855515122414, 0.024994485080242157, 0.06091337651014328, -0.034541577100753784, 0.008022163063287735, 0.06798815727233887, 0.011886132881045341, 0.0013998639769852161, 0.012132993899285793, 0.033472321927547455, 0.012255764566361904, -0.02356661856174469, -0.006584821734577417, 0.016387883573770523, 0.032310158014297485, -0.012116351164877415, -0.02072175405919552, -0.0006229509017430246, 0.006029605865478516, 0.015111151151359081, -0.00542251393198967, 0.002463559852913022, 0.00805119052529335, -0.01281439047306776, -0.02607821486890316, 0.01674751192331314, -0.0022051616106182337, -0.029849650338292122, -0.021296124905347824, 0.03523918613791466, -0.0066303107887506485, 0.009591863490641117, 0.018282264471054077, 0.017618738114833832, 0.01873532310128212, -0.06494813412427902, -0.019880017265677452, -0.03368113562464714, -0.002116331597790122, -0.05129687488079071, 0.0022100480273365974, -0.01108013279736042, -0.02089052088558674, -0.015042435377836227, 0.03895006701350212, 0.01661725901067257, -0.017477521672844887, 0.06690280139446259, -0.004562917165458202, 0.023438800126314163, -0.027877969667315483, 0.008510115556418896, -0.016472838819026947, -0.0329514741897583, -0.08128269016742706, -0.011990657076239586, 0.0058660986833274364, 5.373934254748747e-05, -0.0034926149528473616, -0.03506447374820709, -0.005048452876508236, 0.023774076253175735, 0.029240330681204796, 0.030662555247545242, 0.038219328969717026, 0.007099452894181013, 0.010195697657763958, 0.0158676840364933, 0.003633909858763218, -0.0426153764128685, 0.01466070394963026, 0.00944962352514267, -0.0394296832382679, -0.028074204921722412, 0.04945937916636467, 0.028142331168055534, -0.0447281077504158, 0.04677305370569229, -0.018533222377300262, -0.040078409016132355, 0.031544484198093414, 0.01186834555119276, -0.012655260972678661, 0.0657903403043747, 0.013060864992439747, 0.010287107899785042, 0.04188521206378937, -0.03937184065580368, -0.022850612178444862, 0.00016454444266855717, 0.0556056946516037, 0.049515459686517715, -0.00817536935210228, 0.010815403424203396, 0.06870774179697037, 0.007081443443894386, 0.09678665548563004, -0.017001144587993622, -0.005990344099700451, -0.03747908025979996, -0.0028822661843150854, 0.02453654818236828, 0.0067351385951042175, 0.028513984754681587, -0.02395448461174965, 0.008569274097681046, 0.014626262709498405, -0.04774687811732292, 0.027444014325737953, -0.000999676645733416, -0.023877499625086784, 0.024636898189783096, -0.03217219561338425, 0.03437191992998123, -0.010820277966558933, -0.013791010715067387, 0.015677308663725853, 0.0397120863199234, 0.007031152956187725, 0.03324788063764572, 0.0676274374127388, 0.04346626251935959, 0.01006978191435337, -0.006054616998881102, 0.033415403217077255, 0.023479754105210304, 0.022209635004401207, -0.010580621659755707, -0.006418743170797825, -0.000964256701990962, 0.020537370815873146, 0.004917801357805729, 0.006863143295049667, 0.026144690811634064, 0.03087618388235569, -0.03568340837955475, -0.03693291172385216, -0.03490952029824257, -0.01622273214161396, -0.007834140211343765, -0.08086275309324265, -0.002636223565787077, -0.026474688202142715, -0.0013029561378061771, -0.03466774523258209, -0.0015012803487479687, -0.03400755301117897, 0.02987048402428627, -0.02357438951730728, 0.05143371969461441, 0.10243328660726547, 0.016947399824857712, 0.0738985612988472, 0.04954981058835983, 0.011109049431979656, 0.008857868611812592, -0.06901865452528, 0.046070829033851624, -0.03176076337695122, -0.043508127331733704, 0.006947516463696957, -0.028536859899759293, -0.02870977483689785, -0.028362322598695755, 0.0007430787081830204, 0.009753094986081123, -0.05102904886007309, 0.01608182117342949, 0.019987262785434723, 0.02581094391644001, 0.05375564843416214, -0.005319280084222555, 0.003931448794901371, 0.053991980850696564, -0.0051290239207446575, 0.01410908717662096, -0.015200198628008366, -0.0002676559961400926, 0.07187125086784363, 0.011996839195489883, -0.006194999907165766, 0.020591972395777702, -0.039722688496112823, 0.007841470651328564, -0.020624704658985138, 0.04603109136223793, 0.028482520952820778, 0.033692117780447006, -0.05101742222905159, -0.0006113619892857969, -0.0005768104456365108, 0.020632075145840645, 0.00931626558303833, -0.023178743198513985, -0.0013654817594215274, -0.01855292357504368, 0.044818952679634094, 0.026425613090395927, -0.0054453713819384575, -0.03083128295838833, -0.007227368652820587, -0.03326850011944771, 0.018092410638928413, -0.042531631886959076, 0.03340943902730942, 0.022858308628201485, -0.056652747094631195, -0.033027391880750656, 0.030000634491443634, 0.01242824550718069, -0.07073479890823364, 0.00037813305971212685, 0.052930302917957306, -0.028434891253709793, -0.021334771066904068, 0.02561727538704872, 0.037739235907793045, 0.008760223165154457, -0.06261827051639557, 0.02034136652946472, 0.03599682077765465, 0.012768251821398735, -0.015243896283209324, -0.021516690030694008, -0.016208594664931297, -0.014530639164149761, -0.030245481058955193, 0.03425876051187515, -0.01340131089091301, 0.06385199725627899, 0.02114606834948063, 0.017921501770615578, -0.019347283989191055, 0.01133694127202034, -0.008723491802811623, -0.015219803899526596, 0.028517618775367737, -0.032641053199768066, -0.010743845254182816, 0.041790079325437546, 0.002668234519660473, 0.009615384042263031, -0.01281389407813549, 0.03967619314789772, 0.001359692309051752, -0.011945161037147045, -0.002205200493335724, 0.002957327989861369, 0.02780294604599476, -0.030607186257839203, 0.0018586445366963744, -0.00244968943297863, 0.021612202748656273, 0.0075338007882237434, 0.00335278850980103, -0.05431552231311798, -0.04692956805229187, 0.03315075859427452, 0.01905076391994953, -0.02316315844655037, -0.04460866004228592, -0.028425132855772972, 0.025952912867069244, -0.04476160556077957, 0.018117744475603104, 0.006036265753209591, 0.04835161566734314, -0.018086077645421028, 0.07059591263532639, -0.012845815159380436, 0.03550199419260025, -0.028405683115124702, -0.0042905863374471664, 0.009981371462345123, -0.02503240294754505, 0.00034162006340920925, -0.07229295372962952, -0.007575966417789459, -0.01706046052277088, -0.05374092608690262, 0.017092812806367874, -0.006584619637578726, 0.058475811034440994, -0.019886890426278114, 0.03939032554626465, -0.024408867582678795, -0.02269762009382248, -0.03535723686218262, 0.0014931238256394863, -0.0142778055742383, 0.01902516558766365, -0.0010354126570746303, 0.024349723011255264, 0.012797103263437748, -0.031896770000457764, 0.024282272905111313, -0.0005900473915971816, -0.018702266737818718, 0.0062789311632514, 0.02822841890156269, 0.029838625341653824, -0.045945342630147934, -0.016823964193463326, 0.047541458159685135, -0.07021928578615189, 0.02510424144566059, 0.023485662415623665, 0.05767753720283508, 0.02342899516224861, 0.0015275705372914672, -0.04584287479519844, 0.030835388228297234, 0.0004904603702016175, -0.0209508053958416, -0.030310746282339096, 0.026045260950922966, -0.07034263759851456, -0.01583988033235073, 0.04656243696808815, -0.0070927864871919155, -0.003866099053993821, -0.00879648420959711, 0.0005151146906428039, -0.030279234051704407, -0.024433644488453865, 0.03805074095726013, -0.01650290936231613, 0.042450033128261566, 0.005689399782568216, 0.04680785909295082, -0.01727033033967018, -0.016238773241639137, -0.05630577728152275, 0.008184346370398998, 0.020044377073645592, -0.0024435340892523527, 0.03499758243560791, 0.009682789444923401, 0.04170861467719078, -0.047173209488391876, -0.05711451917886734, 0.03945716470479965, 0.01671980693936348, -0.03055378794670105, -0.025327617302536964, 0.02032642811536789, 0.010175016708672047, -0.040363576263189316, 0.031642794609069824, 0.014100966043770313, 0.0356171615421772, 0.013648366555571556, 0.013169455341994762, 0.0028140631038695574, -0.024342939257621765, 0.013845612294971943, -0.014623390510678291, -0.010815788060426712, 0.014875129796564579, 0.05588505044579506, -0.03753671422600746, -0.024807611480355263, 0.016538484022021294, -0.016592441126704216, -0.019737500697374344, -0.010183054022490978, -0.023496877402067184, -0.011645345017313957, -0.06232384964823723, -0.03916677460074425, -0.03645595163106918, -0.011060030199587345, -0.023356175050139427, 2.159148243663367e-05, -0.044603753834962845, 0.04020139202475548, -0.055025871843099594, -0.034017112106084824, -0.03588028997182846, -0.012097512371838093, -0.006962580140680075, -0.12520676851272583, 0.02568046562373638, -0.0006912063108757138, -0.005511797498911619, -0.040344443172216415, 0.012482860125601292, -0.02308870293200016, -0.0004981461679562926, 0.014127637259662151, -0.023778701201081276, -0.022780029103159904, 0.05018452927470207, -0.04474737495183945, -0.014800110831856728, -0.004711471498012543, 0.028020374476909637, -0.016769656911492348, 0.016406236216425896, -0.01632559671998024, -0.0217816811054945, -0.042400214821100235, -0.012077473104000092, 0.028010839596390724, -0.02755485475063324, 0.05169367417693138, 0.02230638638138771, 0.025189917534589767, 0.043324120342731476, -0.0388321578502655, -0.014297828078269958, 0.017593571916222572, -0.06939604133367538, 0.041472721844911575, -0.0013704282464459538, -0.051027245819568634, -0.027104686945676804, -0.025515036657452583, -0.019199684262275696, -0.004185936413705349, 0.0009279082296416163, -0.004753049463033676, 0.017131246626377106, 0.0052074287086725235, -0.02561449073255062, -0.03588829189538956, 0.0458889901638031, -0.027583841234445572, -0.027078988030552864, -0.024635184556245804, 0.004591132048517466, 0.026804663240909576, -0.019332122057676315, 0.001126498100347817, 0.019270429387688637, -0.00684039480984211, 0.024125097319483757, -0.05452210456132889, 0.025098679587244987, -0.002562633017078042, 0.09898557513952255, -0.002052202122285962, -0.0008181370794773102, -0.027206934988498688, 0.028830425813794136, -0.02365422435104847, 0.01934932731091976, -0.035168662667274475, 0.00542127201333642, 0.02439751848578453, 0.006299017462879419, -0.011892050504684448, 0.0053064278326928616, 0.011678394861519337, -0.017512740567326546, 0.03408223018050194, 0.011782774701714516, 0.03477012366056442, 0.01595100201666355, -0.017956139519810677, -0.028450578451156616, 0.03562707453966141, 0.006755811162292957, -0.04474261403083801, -0.012436765246093273, -0.01788581721484661, 0.006770850624889135, -0.03011416457593441, 0.014468454755842686, 0.01238388940691948, -0.010364174842834473, -0.07452560216188431, -0.013963386416435242, 0.004212408326566219, 0.010386237874627113, -0.05068020895123482, 0.005435174331068993, -0.021549981087446213, 0.004790769889950752, -0.03258197382092476, -0.016719186678528786, -0.017220983281731606, -0.0008278167806565762, 0.017261845991015434, 0.026830071583390236, -0.015174465253949165, 0.008098185993731022, 0.0670638307929039, -0.018373612314462662, 0.006587129086256027, -0.004388136323541403, 0.01556369662284851, -0.007881865836679935, 0.004045040346682072, 0.035040318965911865, 0.0011945985024794936, -0.010163339786231518, 0.029281727969646454, 0.03393738344311714, 0.0009082634351216257, 0.026278486475348473, -0.010453017428517342, -0.009190737269818783, -0.02163030207157135, -0.012689609080553055, 0.04191263020038605, 0.05326980724930763, 0.0040600174106657505, 0.01584009826183319, 0.09813228249549866, -0.0013113967142999172, 0.026166265830397606, -0.06436088681221008, 0.015403511002659798, -0.009460688568651676, 0.029180660843849182, -0.035122279077768326, 0.030463209375739098, 0.04443252459168434, -0.03815362602472305, -0.06943001598119736, -0.012108906172215939, 0.023328490555286407, -0.02252822555601597, -0.0024424821604043245, -0.0498543307185173, -0.03089968115091324, 0.017584770917892456, -0.010001719929277897, -0.05021364986896515, -0.05402825027704239, -0.007201656233519316, -0.01813683845102787, 0.0014227429637685418, 0.025819558650255203, -0.0021002006251364946, 0.037133410573005676, -0.023976335301995277, 0.008912057615816593, -0.027604226022958755, 0.028801899403333664, 0.010518449358642101, -0.01337382197380066, -0.029343420639634132, -0.004075953736901283, -0.03959452360868454, -0.024744557216763496, -0.009986333549022675, -0.012933139689266682, -0.0171048566699028, 0.021259352564811707, 0.005327804479748011, 0.06360168009996414, -0.035000041127204895, 0.04053354263305664, 0.03943653032183647, -0.011726207099854946, -0.0027182300109416246, 0.0628650039434433, 0.012967749498784542, -0.018978098407387733, 0.025848932564258575, -0.029939105734229088, 0.014617024920880795, 0.020571177825331688, -0.029358798637986183, -0.04000374674797058, -0.012205005623400211, 0.06588023900985718, 0.03213939443230629, -0.0048506297171115875, -0.006377001293003559, 0.006935077253729105, 0.012511450797319412, -0.009101977571845055, 0.03476706147193909, 0.038523633033037186, 0.03456319868564606, 0.03191705793142319, -0.027388501912355423, 0.027580346912145615, -0.05587901547551155, -0.014389998279511929, 0.04932107776403427, -0.015086092986166477, -0.012660959735512733, -0.003120935056358576, -0.040989093482494354, -0.010736668482422829, -0.018655024468898773, 0.0017576967366039753, -0.015417583286762238, -0.024930963292717934, 0.016272157430648804, 0.00830402597784996, 0.012492232955992222, -0.026104329153895378, 0.028651556000113487, -0.006774320732802153, -0.02106936275959015, -0.012413241900503635, -0.004087935201823711, -0.011877220124006271, -0.010481787845492363, -0.022585246711969376, 0.013596597127616405, -0.05835200473666191, 0.007541242055594921, 0.048690635710954666, -0.024091772735118866, 0.006596383173018694, 0.026851382106542587, -0.05219601094722748, -0.045458000153303146, 0.045182228088378906, 0.015354667790234089, -0.01658996194601059, 0.05032368376851082, 0.012740335427224636, -0.008616270497441292, -0.037519317120313644, 0.05184701085090637, -0.01824270375072956, 0.001251744688488543, -0.025500066578388214]\n"
     ]
    }
   ],
   "source": [
    "embedded_query = embeddings_bgem3.embed_query(\"인공지능이란 무엇인가요?\")\n",
    "\n",
    "# 쿼리 임베딩 결과 출력\n",
    "print(f\"쿼리 임베딩 벡터의 차원: {len(embedded_query)}\")\n",
    "print(embedded_query)"
   ]
  },
  {
   "cell_type": "markdown",
   "id": "62990788",
   "metadata": {},
   "source": [
    "`(4) 유사도 기반 검색`"
   ]
  },
  {
   "cell_type": "code",
   "execution_count": 76,
   "id": "8476a423",
   "metadata": {},
   "outputs": [
    {
     "name": "stdout",
     "output_type": "stream",
     "text": [
      "쿼리: 인공지능이란 무엇인가요?\n",
      "가장 유사한 문서: 인공지능은 컴퓨터 과학의 한 분야입니다.\n",
      "유사도: 0.7269\n",
      "\n",
      "쿼리: 딥러닝과 머신러닝의 관계는 어떻게 되나요?\n",
      "가장 유사한 문서: 딥러닝은 머신러닝의 한 종류입니다.\n",
      "유사도: 0.7057\n",
      "\n",
      "쿼리: 컴퓨터가 이미지를 이해하는 방법은?\n",
      "가장 유사한 문서: 컴퓨터 비전은 컴퓨터가 디지털 이미지나 비디오를 이해하는 방법을 연구합니다.\n",
      "유사도: 0.6843\n",
      "\n"
     ]
    }
   ],
   "source": [
    "# 예제 쿼리\n",
    "queries = [\n",
    "    \"인공지능이란 무엇인가요?\",\n",
    "    \"딥러닝과 머신러닝의 관계는 어떻게 되나요?\",\n",
    "    \"컴퓨터가 이미지를 이해하는 방법은?\"\n",
    "]\n",
    "\n",
    "# 각 쿼리에 대해 가장 유사한 문서 찾기\n",
    "for query in queries:\n",
    "    most_similar_doc, similarity = find_most_similar(query, document_embeddings_bgem3, embeddings_model=embeddings_bgem3) \n",
    "    print(f\"쿼리: {query}\")\n",
    "    print(f\"가장 유사한 문서: {most_similar_doc}\")\n",
    "    print(f\"유사도: {similarity:.4f}\")\n",
    "    print()"
   ]
  },
  {
   "cell_type": "markdown",
   "id": "36aeea6b",
   "metadata": {},
   "source": [
    "### 3. **Ollama**\n",
    "\n",
    "- LangChain에서 로컬 실행에 최적화된 경량 임베딩 모델\n",
    "\n",
    "- 주요 특징:\n",
    "    1. 완전한 로컬 실행 환경 제공\n",
    "    2. 빠른 추론 속도\n",
    "    3. 간단한 설치 및 실행 과정\n",
    "    4. Docker 기반 손쉬운 배포\n",
    "\n",
    "- 사용시 주의사항:\n",
    "    1. Ollama 서버 실행 필요\n",
    "    2. 모델별 시스템 요구사항 확인\n",
    "    3. API 엔드포인트 설정 필요\n",
    "    4. 동시 요청 처리량 고려\n",
    "\n",
    "- 대표적인 임베딩 모델:\n",
    "    ```\n",
    "    모델                차원       언어        특징\n",
    "    llama2              4096      영어       범용성 높은 기본 모델\n",
    "    nomic-embed-text    768       영어       경량화된 고성능 모델\n",
    "    codellama          2048       다국어     코드 특화 임베딩\n",
    "    ```\n",
    "\n",
    "- 임베딩 벡터 특성:\n",
    "    1. 모델별 고정 차원 사용\n",
    "    2. 최적화된 양자화 지원\n",
    "    3. 배치 처리 최적화"
   ]
  },
  {
   "cell_type": "markdown",
   "id": "54b36e5a",
   "metadata": {},
   "source": [
    "`(1) embedding 모델`\n",
    "\n",
    "- langchain_ollama 설치 필요"
   ]
  },
  {
   "cell_type": "code",
   "execution_count": 80,
   "id": "3b86cf30",
   "metadata": {},
   "outputs": [
    {
     "data": {
      "text/plain": [
       "OllamaEmbeddings(model='bge-m3', base_url=None, client_kwargs={}, async_client_kwargs={}, sync_client_kwargs={}, mirostat=None, mirostat_eta=None, mirostat_tau=None, num_ctx=None, num_gpu=None, keep_alive=None, num_thread=None, repeat_last_n=None, repeat_penalty=None, temperature=None, stop=None, tfs_z=None, top_k=None, top_p=None)"
      ]
     },
     "execution_count": 80,
     "metadata": {},
     "output_type": "execute_result"
    }
   ],
   "source": [
    "from langchain_ollama import OllamaEmbeddings \n",
    "\n",
    "# OllamaEmbeddings 모델 생성\n",
    "embeddings_ollama = OllamaEmbeddings(\n",
    "    model=\"nomic-embed-text\",          # 사용할 모델 이름\n",
    "    base_url=\"http://localhost:11434\"  # Ollama 서버 주소\n",
    ")\n",
    "embeddings_ollama = OllamaEmbeddings(model=\"bge-m3\")\n",
    "\n",
    "# 임베딩 객체 출력\n",
    "embeddings_ollama"
   ]
  },
  {
   "cell_type": "markdown",
   "id": "e70b54cb",
   "metadata": {},
   "source": [
    "`(2) embed_documents 사용`"
   ]
  },
  {
   "cell_type": "code",
   "execution_count": 83,
   "id": "bf52f1fa",
   "metadata": {},
   "outputs": [
    {
     "ename": "ResponseError",
     "evalue": "model \"bge-m3\" not found, try pulling it first (status code: 404)",
     "output_type": "error",
     "traceback": [
      "\u001b[31m---------------------------------------------------------------------------\u001b[39m",
      "\u001b[31mResponseError\u001b[39m                             Traceback (most recent call last)",
      "\u001b[36mCell\u001b[39m\u001b[36m \u001b[39m\u001b[32mIn[83]\u001b[39m\u001b[32m, line 11\u001b[39m\n\u001b[32m      2\u001b[39m documents = [\n\u001b[32m      3\u001b[39m     \u001b[33m\"\u001b[39m\u001b[33m인공지능은 컴퓨터 과학의 한 분야입니다.\u001b[39m\u001b[33m\"\u001b[39m,\n\u001b[32m      4\u001b[39m     \u001b[33m\"\u001b[39m\u001b[33m머신러닝은 인공지능의 하위 분야입니다.\u001b[39m\u001b[33m\"\u001b[39m,\n\u001b[32m   (...)\u001b[39m\u001b[32m      7\u001b[39m     \u001b[33m\"\u001b[39m\u001b[33m컴퓨터 비전은 컴퓨터가 디지털 이미지나 비디오를 이해하는 방법을 연구합니다.\u001b[39m\u001b[33m\"\u001b[39m\n\u001b[32m      8\u001b[39m ]\n\u001b[32m     10\u001b[39m \u001b[38;5;66;03m# 문서 임베딩\u001b[39;00m\n\u001b[32m---> \u001b[39m\u001b[32m11\u001b[39m document_embeddings_ollama = \u001b[43membeddings_ollama\u001b[49m\u001b[43m.\u001b[49m\u001b[43membed_documents\u001b[49m\u001b[43m(\u001b[49m\u001b[43mdocuments\u001b[49m\u001b[43m)\u001b[49m\n\u001b[32m     13\u001b[39m \u001b[38;5;66;03m# 임베딩 결과 출력\u001b[39;00m\n\u001b[32m     14\u001b[39m \u001b[38;5;28mprint\u001b[39m(\u001b[33mf\u001b[39m\u001b[33m\"\u001b[39m\u001b[33m임베딩 벡터의 개수: \u001b[39m\u001b[38;5;132;01m{\u001b[39;00m\u001b[38;5;28mlen\u001b[39m(document_embeddings_ollama)\u001b[38;5;132;01m}\u001b[39;00m\u001b[33m\"\u001b[39m)\n",
      "\u001b[36mFile \u001b[39m\u001b[32mc:\\Users\\User\\kt-ds\\.venv\\Lib\\site-packages\\langchain_ollama\\embeddings.py:265\u001b[39m, in \u001b[36mOllamaEmbeddings.embed_documents\u001b[39m\u001b[34m(self, texts)\u001b[39m\n\u001b[32m    263\u001b[39m \u001b[38;5;28;01mdef\u001b[39;00m\u001b[38;5;250m \u001b[39m\u001b[34membed_documents\u001b[39m(\u001b[38;5;28mself\u001b[39m, texts: \u001b[38;5;28mlist\u001b[39m[\u001b[38;5;28mstr\u001b[39m]) -> \u001b[38;5;28mlist\u001b[39m[\u001b[38;5;28mlist\u001b[39m[\u001b[38;5;28mfloat\u001b[39m]]:\n\u001b[32m    264\u001b[39m \u001b[38;5;250m    \u001b[39m\u001b[33;03m\"\"\"Embed search docs.\"\"\"\u001b[39;00m\n\u001b[32m--> \u001b[39m\u001b[32m265\u001b[39m     embedded_docs = \u001b[38;5;28;43mself\u001b[39;49m\u001b[43m.\u001b[49m\u001b[43m_client\u001b[49m\u001b[43m.\u001b[49m\u001b[43membed\u001b[49m\u001b[43m(\u001b[49m\n\u001b[32m    266\u001b[39m \u001b[43m        \u001b[49m\u001b[38;5;28;43mself\u001b[39;49m\u001b[43m.\u001b[49m\u001b[43mmodel\u001b[49m\u001b[43m,\u001b[49m\u001b[43m \u001b[49m\u001b[43mtexts\u001b[49m\u001b[43m,\u001b[49m\u001b[43m \u001b[49m\u001b[43moptions\u001b[49m\u001b[43m=\u001b[49m\u001b[38;5;28;43mself\u001b[39;49m\u001b[43m.\u001b[49m\u001b[43m_default_params\u001b[49m\u001b[43m,\u001b[49m\u001b[43m \u001b[49m\u001b[43mkeep_alive\u001b[49m\u001b[43m=\u001b[49m\u001b[38;5;28;43mself\u001b[39;49m\u001b[43m.\u001b[49m\u001b[43mkeep_alive\u001b[49m\n\u001b[32m    267\u001b[39m \u001b[43m    \u001b[49m\u001b[43m)\u001b[49m[\u001b[33m\"\u001b[39m\u001b[33membeddings\u001b[39m\u001b[33m\"\u001b[39m]\n\u001b[32m    268\u001b[39m     \u001b[38;5;28;01mreturn\u001b[39;00m embedded_docs\n",
      "\u001b[36mFile \u001b[39m\u001b[32mc:\\Users\\User\\kt-ds\\.venv\\Lib\\site-packages\\ollama\\_client.py:357\u001b[39m, in \u001b[36mClient.embed\u001b[39m\u001b[34m(self, model, input, truncate, options, keep_alive)\u001b[39m\n\u001b[32m    349\u001b[39m \u001b[38;5;28;01mdef\u001b[39;00m\u001b[38;5;250m \u001b[39m\u001b[34membed\u001b[39m(\n\u001b[32m    350\u001b[39m   \u001b[38;5;28mself\u001b[39m,\n\u001b[32m    351\u001b[39m   model: \u001b[38;5;28mstr\u001b[39m = \u001b[33m'\u001b[39m\u001b[33m'\u001b[39m,\n\u001b[32m   (...)\u001b[39m\u001b[32m    355\u001b[39m   keep_alive: Optional[Union[\u001b[38;5;28mfloat\u001b[39m, \u001b[38;5;28mstr\u001b[39m]] = \u001b[38;5;28;01mNone\u001b[39;00m,\n\u001b[32m    356\u001b[39m ) -> EmbedResponse:\n\u001b[32m--> \u001b[39m\u001b[32m357\u001b[39m   \u001b[38;5;28;01mreturn\u001b[39;00m \u001b[38;5;28;43mself\u001b[39;49m\u001b[43m.\u001b[49m\u001b[43m_request\u001b[49m\u001b[43m(\u001b[49m\n\u001b[32m    358\u001b[39m \u001b[43m    \u001b[49m\u001b[43mEmbedResponse\u001b[49m\u001b[43m,\u001b[49m\n\u001b[32m    359\u001b[39m \u001b[43m    \u001b[49m\u001b[33;43m'\u001b[39;49m\u001b[33;43mPOST\u001b[39;49m\u001b[33;43m'\u001b[39;49m\u001b[43m,\u001b[49m\n\u001b[32m    360\u001b[39m \u001b[43m    \u001b[49m\u001b[33;43m'\u001b[39;49m\u001b[33;43m/api/embed\u001b[39;49m\u001b[33;43m'\u001b[39;49m\u001b[43m,\u001b[49m\n\u001b[32m    361\u001b[39m \u001b[43m    \u001b[49m\u001b[43mjson\u001b[49m\u001b[43m=\u001b[49m\u001b[43mEmbedRequest\u001b[49m\u001b[43m(\u001b[49m\n\u001b[32m    362\u001b[39m \u001b[43m      \u001b[49m\u001b[43mmodel\u001b[49m\u001b[43m=\u001b[49m\u001b[43mmodel\u001b[49m\u001b[43m,\u001b[49m\n\u001b[32m    363\u001b[39m \u001b[43m      \u001b[49m\u001b[38;5;28;43minput\u001b[39;49m\u001b[43m=\u001b[49m\u001b[38;5;28;43minput\u001b[39;49m\u001b[43m,\u001b[49m\n\u001b[32m    364\u001b[39m \u001b[43m      \u001b[49m\u001b[43mtruncate\u001b[49m\u001b[43m=\u001b[49m\u001b[43mtruncate\u001b[49m\u001b[43m,\u001b[49m\n\u001b[32m    365\u001b[39m \u001b[43m      \u001b[49m\u001b[43moptions\u001b[49m\u001b[43m=\u001b[49m\u001b[43moptions\u001b[49m\u001b[43m,\u001b[49m\n\u001b[32m    366\u001b[39m \u001b[43m      \u001b[49m\u001b[43mkeep_alive\u001b[49m\u001b[43m=\u001b[49m\u001b[43mkeep_alive\u001b[49m\u001b[43m,\u001b[49m\n\u001b[32m    367\u001b[39m \u001b[43m    \u001b[49m\u001b[43m)\u001b[49m\u001b[43m.\u001b[49m\u001b[43mmodel_dump\u001b[49m\u001b[43m(\u001b[49m\u001b[43mexclude_none\u001b[49m\u001b[43m=\u001b[49m\u001b[38;5;28;43;01mTrue\u001b[39;49;00m\u001b[43m)\u001b[49m\u001b[43m,\u001b[49m\n\u001b[32m    368\u001b[39m \u001b[43m  \u001b[49m\u001b[43m)\u001b[49m\n",
      "\u001b[36mFile \u001b[39m\u001b[32mc:\\Users\\User\\kt-ds\\.venv\\Lib\\site-packages\\ollama\\_client.py:178\u001b[39m, in \u001b[36mClient._request\u001b[39m\u001b[34m(self, cls, stream, *args, **kwargs)\u001b[39m\n\u001b[32m    174\u001b[39m         \u001b[38;5;28;01myield\u001b[39;00m \u001b[38;5;28mcls\u001b[39m(**part)\n\u001b[32m    176\u001b[39m   \u001b[38;5;28;01mreturn\u001b[39;00m inner()\n\u001b[32m--> \u001b[39m\u001b[32m178\u001b[39m \u001b[38;5;28;01mreturn\u001b[39;00m \u001b[38;5;28mcls\u001b[39m(**\u001b[38;5;28;43mself\u001b[39;49m\u001b[43m.\u001b[49m\u001b[43m_request_raw\u001b[49m\u001b[43m(\u001b[49m\u001b[43m*\u001b[49m\u001b[43margs\u001b[49m\u001b[43m,\u001b[49m\u001b[43m \u001b[49m\u001b[43m*\u001b[49m\u001b[43m*\u001b[49m\u001b[43mkwargs\u001b[49m\u001b[43m)\u001b[49m.json())\n",
      "\u001b[36mFile \u001b[39m\u001b[32mc:\\Users\\User\\kt-ds\\.venv\\Lib\\site-packages\\ollama\\_client.py:122\u001b[39m, in \u001b[36mClient._request_raw\u001b[39m\u001b[34m(self, *args, **kwargs)\u001b[39m\n\u001b[32m    120\u001b[39m   \u001b[38;5;28;01mreturn\u001b[39;00m r\n\u001b[32m    121\u001b[39m \u001b[38;5;28;01mexcept\u001b[39;00m httpx.HTTPStatusError \u001b[38;5;28;01mas\u001b[39;00m e:\n\u001b[32m--> \u001b[39m\u001b[32m122\u001b[39m   \u001b[38;5;28;01mraise\u001b[39;00m ResponseError(e.response.text, e.response.status_code) \u001b[38;5;28;01mfrom\u001b[39;00m\u001b[38;5;250m \u001b[39m\u001b[38;5;28;01mNone\u001b[39;00m\n\u001b[32m    123\u001b[39m \u001b[38;5;28;01mexcept\u001b[39;00m httpx.ConnectError:\n\u001b[32m    124\u001b[39m   \u001b[38;5;28;01mraise\u001b[39;00m \u001b[38;5;167;01mConnectionError\u001b[39;00m(CONNECTION_ERROR_MESSAGE) \u001b[38;5;28;01mfrom\u001b[39;00m\u001b[38;5;250m \u001b[39m\u001b[38;5;28;01mNone\u001b[39;00m\n",
      "\u001b[31mResponseError\u001b[39m: model \"bge-m3\" not found, try pulling it first (status code: 404)"
     ]
    }
   ],
   "source": [
    "# 문서 컬렉션\n",
    "documents = [\n",
    "    \"인공지능은 컴퓨터 과학의 한 분야입니다.\",\n",
    "    \"머신러닝은 인공지능의 하위 분야입니다.\",\n",
    "    \"딥러닝은 머신러닝의 한 종류입니다.\",\n",
    "    \"자연어 처리는 컴퓨터가 인간의 언어를 이해하고 생성하는 기술입니다.\",\n",
    "    \"컴퓨터 비전은 컴퓨터가 디지털 이미지나 비디오를 이해하는 방법을 연구합니다.\"\n",
    "]\n",
    "\n",
    "# 문서 임베딩\n",
    "document_embeddings_ollama = embeddings_ollama.embed_documents(documents)\n",
    "\n",
    "# 임베딩 결과 출력\n",
    "print(f\"임베딩 벡터의 개수: {len(document_embeddings_ollama)}\")\n",
    "print(f\"임베딩 벡터의 차원: {len(document_embeddings_ollama[0])}\")\n",
    "print(document_embeddings_ollama[0])"
   ]
  },
  {
   "cell_type": "markdown",
   "id": "0e637cb4",
   "metadata": {},
   "source": [
    "`(3) embed_query 사용`"
   ]
  },
  {
   "cell_type": "code",
   "execution_count": 84,
   "id": "54504e7f",
   "metadata": {},
   "outputs": [
    {
     "ename": "ResponseError",
     "evalue": "model \"bge-m3\" not found, try pulling it first (status code: 404)",
     "output_type": "error",
     "traceback": [
      "\u001b[31m---------------------------------------------------------------------------\u001b[39m",
      "\u001b[31mResponseError\u001b[39m                             Traceback (most recent call last)",
      "\u001b[36mCell\u001b[39m\u001b[36m \u001b[39m\u001b[32mIn[84]\u001b[39m\u001b[32m, line 1\u001b[39m\n\u001b[32m----> \u001b[39m\u001b[32m1\u001b[39m embedded_query = \u001b[43membeddings_ollama\u001b[49m\u001b[43m.\u001b[49m\u001b[43membed_query\u001b[49m\u001b[43m(\u001b[49m\u001b[33;43m\"\u001b[39;49m\u001b[33;43m인공지능이란 무엇인가요?\u001b[39;49m\u001b[33;43m\"\u001b[39;49m\u001b[43m)\u001b[49m\n\u001b[32m      3\u001b[39m \u001b[38;5;66;03m# 쿼리 임베딩 결과 출력\u001b[39;00m\n\u001b[32m      4\u001b[39m \u001b[38;5;28mprint\u001b[39m(\u001b[33mf\u001b[39m\u001b[33m\"\u001b[39m\u001b[33m쿼리 임베딩 벡터의 차원: \u001b[39m\u001b[38;5;132;01m{\u001b[39;00m\u001b[38;5;28mlen\u001b[39m(embedded_query)\u001b[38;5;132;01m}\u001b[39;00m\u001b[33m\"\u001b[39m)\n",
      "\u001b[36mFile \u001b[39m\u001b[32mc:\\Users\\User\\kt-ds\\.venv\\Lib\\site-packages\\langchain_ollama\\embeddings.py:272\u001b[39m, in \u001b[36mOllamaEmbeddings.embed_query\u001b[39m\u001b[34m(self, text)\u001b[39m\n\u001b[32m    270\u001b[39m \u001b[38;5;28;01mdef\u001b[39;00m\u001b[38;5;250m \u001b[39m\u001b[34membed_query\u001b[39m(\u001b[38;5;28mself\u001b[39m, text: \u001b[38;5;28mstr\u001b[39m) -> \u001b[38;5;28mlist\u001b[39m[\u001b[38;5;28mfloat\u001b[39m]:\n\u001b[32m    271\u001b[39m \u001b[38;5;250m    \u001b[39m\u001b[33;03m\"\"\"Embed query text.\"\"\"\u001b[39;00m\n\u001b[32m--> \u001b[39m\u001b[32m272\u001b[39m     \u001b[38;5;28;01mreturn\u001b[39;00m \u001b[38;5;28;43mself\u001b[39;49m\u001b[43m.\u001b[49m\u001b[43membed_documents\u001b[49m\u001b[43m(\u001b[49m\u001b[43m[\u001b[49m\u001b[43mtext\u001b[49m\u001b[43m]\u001b[49m\u001b[43m)\u001b[49m[\u001b[32m0\u001b[39m]\n",
      "\u001b[36mFile \u001b[39m\u001b[32mc:\\Users\\User\\kt-ds\\.venv\\Lib\\site-packages\\langchain_ollama\\embeddings.py:265\u001b[39m, in \u001b[36mOllamaEmbeddings.embed_documents\u001b[39m\u001b[34m(self, texts)\u001b[39m\n\u001b[32m    263\u001b[39m \u001b[38;5;28;01mdef\u001b[39;00m\u001b[38;5;250m \u001b[39m\u001b[34membed_documents\u001b[39m(\u001b[38;5;28mself\u001b[39m, texts: \u001b[38;5;28mlist\u001b[39m[\u001b[38;5;28mstr\u001b[39m]) -> \u001b[38;5;28mlist\u001b[39m[\u001b[38;5;28mlist\u001b[39m[\u001b[38;5;28mfloat\u001b[39m]]:\n\u001b[32m    264\u001b[39m \u001b[38;5;250m    \u001b[39m\u001b[33;03m\"\"\"Embed search docs.\"\"\"\u001b[39;00m\n\u001b[32m--> \u001b[39m\u001b[32m265\u001b[39m     embedded_docs = \u001b[38;5;28;43mself\u001b[39;49m\u001b[43m.\u001b[49m\u001b[43m_client\u001b[49m\u001b[43m.\u001b[49m\u001b[43membed\u001b[49m\u001b[43m(\u001b[49m\n\u001b[32m    266\u001b[39m \u001b[43m        \u001b[49m\u001b[38;5;28;43mself\u001b[39;49m\u001b[43m.\u001b[49m\u001b[43mmodel\u001b[49m\u001b[43m,\u001b[49m\u001b[43m \u001b[49m\u001b[43mtexts\u001b[49m\u001b[43m,\u001b[49m\u001b[43m \u001b[49m\u001b[43moptions\u001b[49m\u001b[43m=\u001b[49m\u001b[38;5;28;43mself\u001b[39;49m\u001b[43m.\u001b[49m\u001b[43m_default_params\u001b[49m\u001b[43m,\u001b[49m\u001b[43m \u001b[49m\u001b[43mkeep_alive\u001b[49m\u001b[43m=\u001b[49m\u001b[38;5;28;43mself\u001b[39;49m\u001b[43m.\u001b[49m\u001b[43mkeep_alive\u001b[49m\n\u001b[32m    267\u001b[39m \u001b[43m    \u001b[49m\u001b[43m)\u001b[49m[\u001b[33m\"\u001b[39m\u001b[33membeddings\u001b[39m\u001b[33m\"\u001b[39m]\n\u001b[32m    268\u001b[39m     \u001b[38;5;28;01mreturn\u001b[39;00m embedded_docs\n",
      "\u001b[36mFile \u001b[39m\u001b[32mc:\\Users\\User\\kt-ds\\.venv\\Lib\\site-packages\\ollama\\_client.py:357\u001b[39m, in \u001b[36mClient.embed\u001b[39m\u001b[34m(self, model, input, truncate, options, keep_alive)\u001b[39m\n\u001b[32m    349\u001b[39m \u001b[38;5;28;01mdef\u001b[39;00m\u001b[38;5;250m \u001b[39m\u001b[34membed\u001b[39m(\n\u001b[32m    350\u001b[39m   \u001b[38;5;28mself\u001b[39m,\n\u001b[32m    351\u001b[39m   model: \u001b[38;5;28mstr\u001b[39m = \u001b[33m'\u001b[39m\u001b[33m'\u001b[39m,\n\u001b[32m   (...)\u001b[39m\u001b[32m    355\u001b[39m   keep_alive: Optional[Union[\u001b[38;5;28mfloat\u001b[39m, \u001b[38;5;28mstr\u001b[39m]] = \u001b[38;5;28;01mNone\u001b[39;00m,\n\u001b[32m    356\u001b[39m ) -> EmbedResponse:\n\u001b[32m--> \u001b[39m\u001b[32m357\u001b[39m   \u001b[38;5;28;01mreturn\u001b[39;00m \u001b[38;5;28;43mself\u001b[39;49m\u001b[43m.\u001b[49m\u001b[43m_request\u001b[49m\u001b[43m(\u001b[49m\n\u001b[32m    358\u001b[39m \u001b[43m    \u001b[49m\u001b[43mEmbedResponse\u001b[49m\u001b[43m,\u001b[49m\n\u001b[32m    359\u001b[39m \u001b[43m    \u001b[49m\u001b[33;43m'\u001b[39;49m\u001b[33;43mPOST\u001b[39;49m\u001b[33;43m'\u001b[39;49m\u001b[43m,\u001b[49m\n\u001b[32m    360\u001b[39m \u001b[43m    \u001b[49m\u001b[33;43m'\u001b[39;49m\u001b[33;43m/api/embed\u001b[39;49m\u001b[33;43m'\u001b[39;49m\u001b[43m,\u001b[49m\n\u001b[32m    361\u001b[39m \u001b[43m    \u001b[49m\u001b[43mjson\u001b[49m\u001b[43m=\u001b[49m\u001b[43mEmbedRequest\u001b[49m\u001b[43m(\u001b[49m\n\u001b[32m    362\u001b[39m \u001b[43m      \u001b[49m\u001b[43mmodel\u001b[49m\u001b[43m=\u001b[49m\u001b[43mmodel\u001b[49m\u001b[43m,\u001b[49m\n\u001b[32m    363\u001b[39m \u001b[43m      \u001b[49m\u001b[38;5;28;43minput\u001b[39;49m\u001b[43m=\u001b[49m\u001b[38;5;28;43minput\u001b[39;49m\u001b[43m,\u001b[49m\n\u001b[32m    364\u001b[39m \u001b[43m      \u001b[49m\u001b[43mtruncate\u001b[49m\u001b[43m=\u001b[49m\u001b[43mtruncate\u001b[49m\u001b[43m,\u001b[49m\n\u001b[32m    365\u001b[39m \u001b[43m      \u001b[49m\u001b[43moptions\u001b[49m\u001b[43m=\u001b[49m\u001b[43moptions\u001b[49m\u001b[43m,\u001b[49m\n\u001b[32m    366\u001b[39m \u001b[43m      \u001b[49m\u001b[43mkeep_alive\u001b[49m\u001b[43m=\u001b[49m\u001b[43mkeep_alive\u001b[49m\u001b[43m,\u001b[49m\n\u001b[32m    367\u001b[39m \u001b[43m    \u001b[49m\u001b[43m)\u001b[49m\u001b[43m.\u001b[49m\u001b[43mmodel_dump\u001b[49m\u001b[43m(\u001b[49m\u001b[43mexclude_none\u001b[49m\u001b[43m=\u001b[49m\u001b[38;5;28;43;01mTrue\u001b[39;49;00m\u001b[43m)\u001b[49m\u001b[43m,\u001b[49m\n\u001b[32m    368\u001b[39m \u001b[43m  \u001b[49m\u001b[43m)\u001b[49m\n",
      "\u001b[36mFile \u001b[39m\u001b[32mc:\\Users\\User\\kt-ds\\.venv\\Lib\\site-packages\\ollama\\_client.py:178\u001b[39m, in \u001b[36mClient._request\u001b[39m\u001b[34m(self, cls, stream, *args, **kwargs)\u001b[39m\n\u001b[32m    174\u001b[39m         \u001b[38;5;28;01myield\u001b[39;00m \u001b[38;5;28mcls\u001b[39m(**part)\n\u001b[32m    176\u001b[39m   \u001b[38;5;28;01mreturn\u001b[39;00m inner()\n\u001b[32m--> \u001b[39m\u001b[32m178\u001b[39m \u001b[38;5;28;01mreturn\u001b[39;00m \u001b[38;5;28mcls\u001b[39m(**\u001b[38;5;28;43mself\u001b[39;49m\u001b[43m.\u001b[49m\u001b[43m_request_raw\u001b[49m\u001b[43m(\u001b[49m\u001b[43m*\u001b[49m\u001b[43margs\u001b[49m\u001b[43m,\u001b[49m\u001b[43m \u001b[49m\u001b[43m*\u001b[49m\u001b[43m*\u001b[49m\u001b[43mkwargs\u001b[49m\u001b[43m)\u001b[49m.json())\n",
      "\u001b[36mFile \u001b[39m\u001b[32mc:\\Users\\User\\kt-ds\\.venv\\Lib\\site-packages\\ollama\\_client.py:122\u001b[39m, in \u001b[36mClient._request_raw\u001b[39m\u001b[34m(self, *args, **kwargs)\u001b[39m\n\u001b[32m    120\u001b[39m   \u001b[38;5;28;01mreturn\u001b[39;00m r\n\u001b[32m    121\u001b[39m \u001b[38;5;28;01mexcept\u001b[39;00m httpx.HTTPStatusError \u001b[38;5;28;01mas\u001b[39;00m e:\n\u001b[32m--> \u001b[39m\u001b[32m122\u001b[39m   \u001b[38;5;28;01mraise\u001b[39;00m ResponseError(e.response.text, e.response.status_code) \u001b[38;5;28;01mfrom\u001b[39;00m\u001b[38;5;250m \u001b[39m\u001b[38;5;28;01mNone\u001b[39;00m\n\u001b[32m    123\u001b[39m \u001b[38;5;28;01mexcept\u001b[39;00m httpx.ConnectError:\n\u001b[32m    124\u001b[39m   \u001b[38;5;28;01mraise\u001b[39;00m \u001b[38;5;167;01mConnectionError\u001b[39;00m(CONNECTION_ERROR_MESSAGE) \u001b[38;5;28;01mfrom\u001b[39;00m\u001b[38;5;250m \u001b[39m\u001b[38;5;28;01mNone\u001b[39;00m\n",
      "\u001b[31mResponseError\u001b[39m: model \"bge-m3\" not found, try pulling it first (status code: 404)"
     ]
    }
   ],
   "source": [
    "embedded_query = embeddings_ollama.embed_query(\"인공지능이란 무엇인가요?\")\n",
    "\n",
    "# 쿼리 임베딩 결과 출력\n",
    "print(f\"쿼리 임베딩 벡터의 차원: {len(embedded_query)}\")\n",
    "print(embedded_query)"
   ]
  },
  {
   "cell_type": "markdown",
   "id": "88021a49",
   "metadata": {},
   "source": [
    "`(4) 유사도 기반 검색`"
   ]
  },
  {
   "cell_type": "code",
   "execution_count": 68,
   "id": "6a671a10",
   "metadata": {},
   "outputs": [
    {
     "ename": "NameError",
     "evalue": "name 'document_embeddings_ollama' is not defined",
     "output_type": "error",
     "traceback": [
      "\u001b[31m---------------------------------------------------------------------------\u001b[39m",
      "\u001b[31mNameError\u001b[39m                                 Traceback (most recent call last)",
      "\u001b[36mCell\u001b[39m\u001b[36m \u001b[39m\u001b[32mIn[68]\u001b[39m\u001b[32m, line 10\u001b[39m\n\u001b[32m      8\u001b[39m \u001b[38;5;66;03m# 각 쿼리에 대해 가장 유사한 문서 찾기\u001b[39;00m\n\u001b[32m      9\u001b[39m \u001b[38;5;28;01mfor\u001b[39;00m query \u001b[38;5;129;01min\u001b[39;00m queries:\n\u001b[32m---> \u001b[39m\u001b[32m10\u001b[39m     most_similar_doc, similarity = find_most_similar(query, \u001b[43mdocument_embeddings_ollama\u001b[49m, embeddings_model=embeddings_ollama) \n\u001b[32m     11\u001b[39m     \u001b[38;5;28mprint\u001b[39m(\u001b[33mf\u001b[39m\u001b[33m\"\u001b[39m\u001b[33m쿼리: \u001b[39m\u001b[38;5;132;01m{\u001b[39;00mquery\u001b[38;5;132;01m}\u001b[39;00m\u001b[33m\"\u001b[39m)\n\u001b[32m     12\u001b[39m     \u001b[38;5;28mprint\u001b[39m(\u001b[33mf\u001b[39m\u001b[33m\"\u001b[39m\u001b[33m가장 유사한 문서: \u001b[39m\u001b[38;5;132;01m{\u001b[39;00mmost_similar_doc\u001b[38;5;132;01m}\u001b[39;00m\u001b[33m\"\u001b[39m)\n",
      "\u001b[31mNameError\u001b[39m: name 'document_embeddings_ollama' is not defined"
     ]
    }
   ],
   "source": [
    "# 예제 쿼리\n",
    "queries = [\n",
    "    \"인공지능이란 무엇인가요?\",\n",
    "    \"딥러닝과 머신러닝의 관계는 어떻게 되나요?\",\n",
    "    \"컴퓨터가 이미지를 이해하는 방법은?\"\n",
    "]\n",
    "\n",
    "# 각 쿼리에 대해 가장 유사한 문서 찾기\n",
    "for query in queries:\n",
    "    most_similar_doc, similarity = find_most_similar(query, document_embeddings_ollama, embeddings_model=embeddings_ollama) \n",
    "    print(f\"쿼리: {query}\")\n",
    "    print(f\"가장 유사한 문서: {most_similar_doc}\")\n",
    "    print(f\"유사도: {similarity:.4f}\")\n",
    "    print()"
   ]
  },
  {
   "cell_type": "markdown",
   "id": "add0a7f4",
   "metadata": {},
   "source": [
    "# title\n"
   ]
  },
  {
   "cell_type": "markdown",
   "id": "a8edee46",
   "metadata": {},
   "source": [
    "# 벡터 저장소 (Vector Store)\n",
    "\n",
    "- 개념:\n",
    "    - 벡터화된 데이터를 효율적으로 저장하고 검색하기 위한 특수 데이터베이스 시스템\n",
    "    - 텍스트나 이미지 등의 비정형 데이터를 고차원 벡터 공간에 매핑하여 저장\n",
    "    - 유사도 기반 검색을 통해 의미적으로 가까운 데이터를 빠르게 검색 가능 \n",
    "\n",
    "- LangChain의 벡터 저장소 종류:\n",
    "    - **Chroma**: 경량화된 임베딩 데이터베이스로 로컬 개발에 적합\n",
    "    - **FAISS**: Facebook AI가 개발한 고성능 유사도 검색 라이브러리\n",
    "    - **Pinecone**: 완전 관리형 벡터 데이터베이스 서비스\n",
    "    - Milvus: 분산 벡터 데이터베이스로 대규모 데이터 처리에 적합\n",
    "    - PostgreSQL: pgvector 확장을 통해 벡터 저장 및 검색 기능을 제공\n",
    "\n",
    "- 주요 기능:\n",
    "    - 벡터 색인화: 효율적인 검색을 위한 데이터 구조화를 수행\n",
    "    - 근접 이웃 검색: 주어진 쿼리와 가장 유사한 벡터들을 검색 \n",
    "    - 메타데이터 관리: 벡터와 관련된 부가 정보를 함께 저장하고 검색\n",
    "\n",
    "- 사용 사례:\n",
    "    - 시맨틱 문서 검색: 문서의 의미를 이해하여 검색\n",
    "    - 추천 시스템: 유사한 아이템을 추천\n",
    "    - 중복 데이터 감지: 유사한 콘텐츠를 검색 \n",
    "    - 질의응답 시스템: 관련 문서에서 답변을 생성하는데 필요한 근거를 검색 "
   ]
  },
  {
   "cell_type": "markdown",
   "id": "6f8fed68",
   "metadata": {},
   "source": [
    "### **1. Chroma**\n",
    "\n",
    "- 사용자 편의성이 우수한 오픈소스 벡터 저장소\n",
    "- `langchain-chroma` 패키지 설치"
   ]
  },
  {
   "cell_type": "markdown",
   "id": "c0f7da6e",
   "metadata": {},
   "source": [
    "`(1) 벡터 저장소 초기화`"
   ]
  },
  {
   "cell_type": "code",
   "execution_count": 27,
   "id": "ebb3bea0",
   "metadata": {},
   "outputs": [
    {
     "name": "stdout",
     "output_type": "stream",
     "text": [
      "PDF 문서 개수: 20\n"
     ]
    },
    {
     "data": {
      "text/plain": [
       "20"
      ]
     },
     "execution_count": 27,
     "metadata": {},
     "output_type": "execute_result"
    }
   ],
   "source": [
    "from langchain_community.document_loaders import PyPDFLoader\n",
    "\n",
    "# PDF 로더 초기화 (근로기준법 문서)\n",
    "pdf_loader = PyPDFLoader('./data/labor_law.pdf')\n",
    "\n",
    "# 동기 로딩\n",
    "pdf_docs = pdf_loader.load()\n",
    "print(f'PDF 문서 개수: {len(pdf_docs)}')\n",
    "\n",
    "len(pdf_docs)"
   ]
  },
  {
   "cell_type": "code",
   "execution_count": 28,
   "id": "fffc0d7a",
   "metadata": {},
   "outputs": [
    {
     "name": "stdout",
     "output_type": "stream",
     "text": [
      "생성된 청크 수: 95\n",
      "각 청크의 길이: [620, 476, 473, 468, 99, 627, 459, 517, 358, 607, 478, 472, 517, 387, 631, 541, 501, 474, 204, 558, 463, 459, 535, 432, 583, 497, 488, 463, 209, 609, 477, 504, 459, 512, 612, 483, 491, 476, 168, 633, 501, 471, 502, 193, 655, 509, 488, 465, 472, 637, 508, 493, 331, 589, 481, 537, 545, 496, 89, 593, 448, 473, 511, 318, 660, 528, 536, 505, 204, 624, 522, 489, 509, 129, 595, 485, 542, 530, 630, 482, 493, 379, 573, 511, 467, 196, 557, 494, 570, 550, 151, 671, 574, 480, 274]\n",
      "법제처                                                            1                                    ... 제1장 총칙\n",
      " \n",
      "제1조(목적) 이 법은 헌법에 따라 근로조건의 기준을 정함으로써 근로자의 기본적 생활을 보장, 향상시키며 균형 있는\n",
      "국민경제의 발전을 꾀하는 것을 목적으로 한다.\n",
      "====================================================================================================\n",
      "제1조(목적) 이 법은 헌법에 따라 근로조건의 기준을 정함으로써 근로자의 기본적 생활을 보장, 향상시키며 균형 있는\n",
      "국민경제의 발전을 꾀하는 것을 목적으로 한다.\n",
      " \n",
      "제2조(정의)...임금을 지급하는 것을 목적으로 체\n",
      "결된 계약을 말한다.\n",
      "5. “임금”이란 사용자가 근로의 대가로 근로자에게 임금, 봉급, 그 밖에 어떠한 명칭으로든지 지급하는 모든 금품을\n",
      "말한다.\n",
      "====================================================================================================\n",
      "결된 계약을 말한다.\n",
      "5. “임금”이란 사용자가 근로의 대가로 근로자에게 임금, 봉급, 그 밖에 어떠한 명칭으로든지 지급하는 모든 금품을\n",
      "말한다.\n",
      "6. “평균임금”이란 이를 산정하...는 통상 근로자의 1주\n",
      "동안의 소정근로시간에 비하여 짧은 근로자를 말한다.\n",
      "② 제1항제6호에 따라 산출된 금액이 그 근로자의 통상임금보다 적으면 그 통상임금액을 평균임금으로 한다.\n",
      "====================================================================================================\n",
      "동안의 소정근로시간에 비하여 짧은 근로자를 말한다.\n",
      "② 제1항제6호에 따라 산출된 금액이 그 근로자의 통상임금보다 적으면 그 통상임금액을 평균임금으로 한다.\n",
      " \n",
      "제3조(근로조건의 ...을 이유로 근로조건에 대한 차별적 처우를 하지 못한다.\n",
      " \n",
      "제7조(강제 근로의 금지) 사용자는 폭행, 협박, 감금, 그 밖에 정신상 또는 신체상의 자유를 부당하게 구속하는 수단으로\n",
      "====================================================================================================\n",
      "제7조(강제 근로의 금지) 사용자는 폭행, 협박, 감금, 그 밖에 정신상 또는 신체상의 자유를 부당하게 구속하는 수단으로\n",
      "써 근로자의 자유의사에 어긋나는 근로를 강요하지 못한다....제7조(강제 근로의 금지) 사용자는 폭행, 협박, 감금, 그 밖에 정신상 또는 신체상의 자유를 부당하게 구속하는 수단으로\n",
      "써 근로자의 자유의사에 어긋나는 근로를 강요하지 못한다.\n",
      "====================================================================================================\n"
     ]
    }
   ],
   "source": [
    "from langchain_text_splitters import RecursiveCharacterTextSplitter\n",
    "\n",
    "# TikToken 인코더를 사용하여 재귀적 텍스트 분할기 초기화 (토큰 수 기준 분할)\n",
    "text_splitter = RecursiveCharacterTextSplitter.from_tiktoken_encoder(\n",
    "    encoding_name=\"cl100k_base\", \n",
    "    chunk_size=500, \n",
    "    chunk_overlap=100,\n",
    ")\n",
    "\n",
    "# split_documents() 메서드 사용 : Document 객체를 여러 개의 작은 청크 문서로 분할\n",
    "chunks = text_splitter.split_documents(pdf_docs) \n",
    "\n",
    "print(f\"생성된 청크 수: {len(chunks)}\")\n",
    "print(f\"각 청크의 길이: {list(len(chunk.page_content) for chunk in chunks)}\")\n",
    "\n",
    "# 각 청크의 시작 부분과 끝 부분 확인\n",
    "for chunk in chunks[:5]:\n",
    "    print(f\"{chunk.page_content[:100]}...{chunk.page_content[-100:]}\")\n",
    "    print(\"=\"*100)"
   ]
  },
  {
   "cell_type": "code",
   "execution_count": 38,
   "id": "aa19c207",
   "metadata": {},
   "outputs": [
    {
     "ename": "ImportError",
     "evalue": "Could not import chromadb python package. Please install it with `pip install chromadb`.",
     "output_type": "error",
     "traceback": [
      "\u001b[31m---------------------------------------------------------------------------\u001b[39m",
      "\u001b[31mModuleNotFoundError\u001b[39m                       Traceback (most recent call last)",
      "\u001b[36mFile \u001b[39m\u001b[32mc:\\Users\\User\\kt-ds\\.venv\\Lib\\site-packages\\langchain_community\\vectorstores\\chroma.py:83\u001b[39m, in \u001b[36mChroma.__init__\u001b[39m\u001b[34m(self, collection_name, embedding_function, persist_directory, client_settings, collection_metadata, client, relevance_score_fn)\u001b[39m\n\u001b[32m     82\u001b[39m \u001b[38;5;28;01mtry\u001b[39;00m:\n\u001b[32m---> \u001b[39m\u001b[32m83\u001b[39m     \u001b[38;5;28;01mimport\u001b[39;00m\u001b[38;5;250m \u001b[39m\u001b[34;01mchromadb\u001b[39;00m\n\u001b[32m     84\u001b[39m     \u001b[38;5;28;01mimport\u001b[39;00m\u001b[38;5;250m \u001b[39m\u001b[34;01mchromadb\u001b[39;00m\u001b[34;01m.\u001b[39;00m\u001b[34;01mconfig\u001b[39;00m\n",
      "\u001b[31mModuleNotFoundError\u001b[39m: No module named 'chromadb'",
      "\nDuring handling of the above exception, another exception occurred:\n",
      "\u001b[31mImportError\u001b[39m                               Traceback (most recent call last)",
      "\u001b[36mCell\u001b[39m\u001b[36m \u001b[39m\u001b[32mIn[38]\u001b[39m\u001b[32m, line 13\u001b[39m\n\u001b[32m      8\u001b[39m embeddings_openai = OpenAIEmbeddings(\n\u001b[32m      9\u001b[39m     model=\u001b[33m\"\u001b[39m\u001b[33mtext-embedding-3-small\u001b[39m\u001b[33m\"\u001b[39m,  \u001b[38;5;66;03m# 사용할 모델 이름)\u001b[39;00m\n\u001b[32m     10\u001b[39m )\n\u001b[32m     12\u001b[39m \u001b[38;5;66;03m# Chroma 벡터 저장소 생성하기\u001b[39;00m\n\u001b[32m---> \u001b[39m\u001b[32m13\u001b[39m chroma_db = \u001b[43mChroma\u001b[49m\u001b[43m.\u001b[49m\u001b[43mfrom_documents\u001b[49m\u001b[43m(\u001b[49m\u001b[43m  \u001b[49m\n\u001b[32m     14\u001b[39m \u001b[43m    \u001b[49m\u001b[43mdocuments\u001b[49m\u001b[43m=\u001b[49m\u001b[43mchunks\u001b[49m\u001b[43m,\u001b[49m\n\u001b[32m     15\u001b[39m \u001b[43m    \u001b[49m\u001b[43membedding\u001b[49m\u001b[43m=\u001b[49m\u001b[43membeddings_openai\u001b[49m\u001b[43m,\u001b[49m\u001b[43m    \u001b[49m\u001b[38;5;66;43;03m# OpenAI 임베딩 사용\u001b[39;49;00m\n\u001b[32m     16\u001b[39m \u001b[43m    \u001b[49m\u001b[43mcollection_name\u001b[49m\u001b[43m=\u001b[49m\u001b[33;43m\"\u001b[39;49m\u001b[33;43mlabor_law\u001b[39;49m\u001b[33;43m\"\u001b[39;49m\u001b[43m,\u001b[49m\u001b[43m    \u001b[49m\u001b[38;5;66;43;03m# 컬렉션 이름\u001b[39;49;00m\n\u001b[32m     17\u001b[39m \u001b[43m    \u001b[49m\u001b[43mpersist_directory\u001b[49m\u001b[43m=\u001b[49m\u001b[33;43m\"\u001b[39;49m\u001b[33;43m./chroma_db\u001b[39;49m\u001b[33;43m\"\u001b[39;49m\u001b[43m,\u001b[49m\n\u001b[32m     18\u001b[39m \u001b[43m    \u001b[49m\u001b[43mcollection_metadata\u001b[49m\u001b[43m \u001b[49m\u001b[43m=\u001b[49m\u001b[43m \u001b[49m\u001b[43m{\u001b[49m\u001b[33;43m'\u001b[39;49m\u001b[33;43mhnsw:space\u001b[39;49m\u001b[33;43m'\u001b[39;49m\u001b[43m:\u001b[49m\u001b[43m \u001b[49m\u001b[33;43m'\u001b[39;49m\u001b[33;43mcosine\u001b[39;49m\u001b[33;43m'\u001b[39;49m\u001b[43m}\u001b[49m\u001b[43m,\u001b[49m\u001b[43m \u001b[49m\u001b[38;5;66;43;03m# l2, ip, cosine 중에서 선택 \u001b[39;49;00m\n\u001b[32m     19\u001b[39m \u001b[43m)\u001b[49m\n",
      "\u001b[36mFile \u001b[39m\u001b[32mc:\\Users\\User\\kt-ds\\.venv\\Lib\\site-packages\\langchain_community\\vectorstores\\chroma.py:887\u001b[39m, in \u001b[36mChroma.from_documents\u001b[39m\u001b[34m(cls, documents, embedding, ids, collection_name, persist_directory, client_settings, client, collection_metadata, **kwargs)\u001b[39m\n\u001b[32m    885\u001b[39m texts = [doc.page_content \u001b[38;5;28;01mfor\u001b[39;00m doc \u001b[38;5;129;01min\u001b[39;00m documents]\n\u001b[32m    886\u001b[39m metadatas = [doc.metadata \u001b[38;5;28;01mfor\u001b[39;00m doc \u001b[38;5;129;01min\u001b[39;00m documents]\n\u001b[32m--> \u001b[39m\u001b[32m887\u001b[39m \u001b[38;5;28;01mreturn\u001b[39;00m \u001b[38;5;28;43mcls\u001b[39;49m\u001b[43m.\u001b[49m\u001b[43mfrom_texts\u001b[49m\u001b[43m(\u001b[49m\n\u001b[32m    888\u001b[39m \u001b[43m    \u001b[49m\u001b[43mtexts\u001b[49m\u001b[43m=\u001b[49m\u001b[43mtexts\u001b[49m\u001b[43m,\u001b[49m\n\u001b[32m    889\u001b[39m \u001b[43m    \u001b[49m\u001b[43membedding\u001b[49m\u001b[43m=\u001b[49m\u001b[43membedding\u001b[49m\u001b[43m,\u001b[49m\n\u001b[32m    890\u001b[39m \u001b[43m    \u001b[49m\u001b[43mmetadatas\u001b[49m\u001b[43m=\u001b[49m\u001b[43mmetadatas\u001b[49m\u001b[43m,\u001b[49m\n\u001b[32m    891\u001b[39m \u001b[43m    \u001b[49m\u001b[43mids\u001b[49m\u001b[43m=\u001b[49m\u001b[43mids\u001b[49m\u001b[43m,\u001b[49m\n\u001b[32m    892\u001b[39m \u001b[43m    \u001b[49m\u001b[43mcollection_name\u001b[49m\u001b[43m=\u001b[49m\u001b[43mcollection_name\u001b[49m\u001b[43m,\u001b[49m\n\u001b[32m    893\u001b[39m \u001b[43m    \u001b[49m\u001b[43mpersist_directory\u001b[49m\u001b[43m=\u001b[49m\u001b[43mpersist_directory\u001b[49m\u001b[43m,\u001b[49m\n\u001b[32m    894\u001b[39m \u001b[43m    \u001b[49m\u001b[43mclient_settings\u001b[49m\u001b[43m=\u001b[49m\u001b[43mclient_settings\u001b[49m\u001b[43m,\u001b[49m\n\u001b[32m    895\u001b[39m \u001b[43m    \u001b[49m\u001b[43mclient\u001b[49m\u001b[43m=\u001b[49m\u001b[43mclient\u001b[49m\u001b[43m,\u001b[49m\n\u001b[32m    896\u001b[39m \u001b[43m    \u001b[49m\u001b[43mcollection_metadata\u001b[49m\u001b[43m=\u001b[49m\u001b[43mcollection_metadata\u001b[49m\u001b[43m,\u001b[49m\n\u001b[32m    897\u001b[39m \u001b[43m    \u001b[49m\u001b[43m*\u001b[49m\u001b[43m*\u001b[49m\u001b[43mkwargs\u001b[49m\u001b[43m,\u001b[49m\n\u001b[32m    898\u001b[39m \u001b[43m\u001b[49m\u001b[43m)\u001b[49m\n",
      "\u001b[36mFile \u001b[39m\u001b[32mc:\\Users\\User\\kt-ds\\.venv\\Lib\\site-packages\\langchain_community\\vectorstores\\chroma.py:817\u001b[39m, in \u001b[36mChroma.from_texts\u001b[39m\u001b[34m(cls, texts, embedding, metadatas, ids, collection_name, persist_directory, client_settings, client, collection_metadata, **kwargs)\u001b[39m\n\u001b[32m    784\u001b[39m \u001b[38;5;129m@classmethod\u001b[39m\n\u001b[32m    785\u001b[39m \u001b[38;5;28;01mdef\u001b[39;00m\u001b[38;5;250m \u001b[39m\u001b[34mfrom_texts\u001b[39m(\n\u001b[32m    786\u001b[39m     \u001b[38;5;28mcls\u001b[39m: Type[Chroma],\n\u001b[32m   (...)\u001b[39m\u001b[32m    796\u001b[39m     **kwargs: Any,\n\u001b[32m    797\u001b[39m ) -> Chroma:\n\u001b[32m    798\u001b[39m \u001b[38;5;250m    \u001b[39m\u001b[33;03m\"\"\"Create a Chroma vectorstore from a raw documents.\u001b[39;00m\n\u001b[32m    799\u001b[39m \n\u001b[32m    800\u001b[39m \u001b[33;03m    If a persist_directory is specified, the collection will be persisted there.\u001b[39;00m\n\u001b[32m   (...)\u001b[39m\u001b[32m    815\u001b[39m \u001b[33;03m        Chroma: Chroma vectorstore.\u001b[39;00m\n\u001b[32m    816\u001b[39m \u001b[33;03m    \"\"\"\u001b[39;00m\n\u001b[32m--> \u001b[39m\u001b[32m817\u001b[39m     chroma_collection = \u001b[38;5;28;43mcls\u001b[39;49m\u001b[43m(\u001b[49m\n\u001b[32m    818\u001b[39m \u001b[43m        \u001b[49m\u001b[43mcollection_name\u001b[49m\u001b[43m=\u001b[49m\u001b[43mcollection_name\u001b[49m\u001b[43m,\u001b[49m\n\u001b[32m    819\u001b[39m \u001b[43m        \u001b[49m\u001b[43membedding_function\u001b[49m\u001b[43m=\u001b[49m\u001b[43membedding\u001b[49m\u001b[43m,\u001b[49m\n\u001b[32m    820\u001b[39m \u001b[43m        \u001b[49m\u001b[43mpersist_directory\u001b[49m\u001b[43m=\u001b[49m\u001b[43mpersist_directory\u001b[49m\u001b[43m,\u001b[49m\n\u001b[32m    821\u001b[39m \u001b[43m        \u001b[49m\u001b[43mclient_settings\u001b[49m\u001b[43m=\u001b[49m\u001b[43mclient_settings\u001b[49m\u001b[43m,\u001b[49m\n\u001b[32m    822\u001b[39m \u001b[43m        \u001b[49m\u001b[43mclient\u001b[49m\u001b[43m=\u001b[49m\u001b[43mclient\u001b[49m\u001b[43m,\u001b[49m\n\u001b[32m    823\u001b[39m \u001b[43m        \u001b[49m\u001b[43mcollection_metadata\u001b[49m\u001b[43m=\u001b[49m\u001b[43mcollection_metadata\u001b[49m\u001b[43m,\u001b[49m\n\u001b[32m    824\u001b[39m \u001b[43m        \u001b[49m\u001b[43m*\u001b[49m\u001b[43m*\u001b[49m\u001b[43mkwargs\u001b[49m\u001b[43m,\u001b[49m\n\u001b[32m    825\u001b[39m \u001b[43m    \u001b[49m\u001b[43m)\u001b[49m\n\u001b[32m    826\u001b[39m     \u001b[38;5;28;01mif\u001b[39;00m ids \u001b[38;5;129;01mis\u001b[39;00m \u001b[38;5;28;01mNone\u001b[39;00m:\n\u001b[32m    827\u001b[39m         ids = [\u001b[38;5;28mstr\u001b[39m(uuid.uuid4()) \u001b[38;5;28;01mfor\u001b[39;00m _ \u001b[38;5;129;01min\u001b[39;00m texts]\n",
      "\u001b[36mFile \u001b[39m\u001b[32mc:\\Users\\User\\kt-ds\\.venv\\Lib\\site-packages\\langchain_core\\_api\\deprecation.py:224\u001b[39m, in \u001b[36mdeprecated.<locals>.deprecate.<locals>.finalize.<locals>.warn_if_direct_instance\u001b[39m\u001b[34m(self, *args, **kwargs)\u001b[39m\n\u001b[32m    222\u001b[39m     warned = \u001b[38;5;28;01mTrue\u001b[39;00m\n\u001b[32m    223\u001b[39m     emit_warning()\n\u001b[32m--> \u001b[39m\u001b[32m224\u001b[39m \u001b[38;5;28;01mreturn\u001b[39;00m \u001b[43mwrapped\u001b[49m\u001b[43m(\u001b[49m\u001b[38;5;28;43mself\u001b[39;49m\u001b[43m,\u001b[49m\u001b[43m \u001b[49m\u001b[43m*\u001b[49m\u001b[43margs\u001b[49m\u001b[43m,\u001b[49m\u001b[43m \u001b[49m\u001b[43m*\u001b[49m\u001b[43m*\u001b[49m\u001b[43mkwargs\u001b[49m\u001b[43m)\u001b[49m\n",
      "\u001b[36mFile \u001b[39m\u001b[32mc:\\Users\\User\\kt-ds\\.venv\\Lib\\site-packages\\langchain_community\\vectorstores\\chroma.py:86\u001b[39m, in \u001b[36mChroma.__init__\u001b[39m\u001b[34m(self, collection_name, embedding_function, persist_directory, client_settings, collection_metadata, client, relevance_score_fn)\u001b[39m\n\u001b[32m     84\u001b[39m     \u001b[38;5;28;01mimport\u001b[39;00m\u001b[38;5;250m \u001b[39m\u001b[34;01mchromadb\u001b[39;00m\u001b[34;01m.\u001b[39;00m\u001b[34;01mconfig\u001b[39;00m\n\u001b[32m     85\u001b[39m \u001b[38;5;28;01mexcept\u001b[39;00m \u001b[38;5;167;01mImportError\u001b[39;00m:\n\u001b[32m---> \u001b[39m\u001b[32m86\u001b[39m     \u001b[38;5;28;01mraise\u001b[39;00m \u001b[38;5;167;01mImportError\u001b[39;00m(\n\u001b[32m     87\u001b[39m         \u001b[33m\"\u001b[39m\u001b[33mCould not import chromadb python package. \u001b[39m\u001b[33m\"\u001b[39m\n\u001b[32m     88\u001b[39m         \u001b[33m\"\u001b[39m\u001b[33mPlease install it with `pip install chromadb`.\u001b[39m\u001b[33m\"\u001b[39m\n\u001b[32m     89\u001b[39m     )\n\u001b[32m     91\u001b[39m \u001b[38;5;28;01mif\u001b[39;00m client \u001b[38;5;129;01mis\u001b[39;00m \u001b[38;5;129;01mnot\u001b[39;00m \u001b[38;5;28;01mNone\u001b[39;00m:\n\u001b[32m     92\u001b[39m     \u001b[38;5;28mself\u001b[39m._client_settings = client_settings\n",
      "\u001b[31mImportError\u001b[39m: Could not import chromadb python package. Please install it with `pip install chromadb`."
     ]
    }
   ],
   "source": [
    "# from langchain_chroma import Chroma\n",
    "# from langchain_openai import OpenAIEmbeddings\n",
    "\n",
    "from langchain.vectorstores import Chroma\n",
    "from langchain.embeddings import OpenAIEmbeddings\n",
    "\n",
    "# OpenAI 임베딩 모델 생성\n",
    "embeddings_openai = OpenAIEmbeddings(\n",
    "    model=\"text-embedding-3-small\",  # 사용할 모델 이름)\n",
    ")\n",
    "\n",
    "# Chroma 벡터 저장소 생성하기\n",
    "chroma_db = Chroma.from_documents(  \n",
    "    documents=chunks,\n",
    "    embedding=embeddings_openai,    # OpenAI 임베딩 사용\n",
    "    collection_name=\"labor_law\",    # 컬렉션 이름\n",
    "    persist_directory=\"./chroma_db\",\n",
    "    collection_metadata = {'hnsw:space': 'cosine'}, # l2, ip, cosine 중에서 선택 \n",
    ")"
   ]
  },
  {
   "cell_type": "code",
   "execution_count": null,
   "id": "aa705465",
   "metadata": {},
   "outputs": [],
   "source": [
    "# 문서 개수 확인\n",
    "chroma_db._collection.count()"
   ]
  },
  {
   "cell_type": "markdown",
   "id": "3368e198",
   "metadata": {},
   "source": [
    "`(2) 벡터 저장소 로드`  "
   ]
  },
  {
   "cell_type": "code",
   "execution_count": 37,
   "id": "c39e5cfb",
   "metadata": {},
   "outputs": [
    {
     "ename": "ModuleNotFoundError",
     "evalue": "No module named 'langchain_chroma'",
     "output_type": "error",
     "traceback": [
      "\u001b[31m---------------------------------------------------------------------------\u001b[39m",
      "\u001b[31mModuleNotFoundError\u001b[39m                       Traceback (most recent call last)",
      "\u001b[36mCell\u001b[39m\u001b[36m \u001b[39m\u001b[32mIn[37]\u001b[39m\u001b[32m, line 1\u001b[39m\n\u001b[32m----> \u001b[39m\u001b[32m1\u001b[39m \u001b[38;5;28;01mfrom\u001b[39;00m\u001b[38;5;250m \u001b[39m\u001b[34;01mlangchain_chroma\u001b[39;00m\u001b[38;5;250m \u001b[39m\u001b[38;5;28;01mimport\u001b[39;00m Chroma\n\u001b[32m      3\u001b[39m \u001b[38;5;66;03m# 저장된 벡터 저장소를 가져오기\u001b[39;00m\n\u001b[32m      4\u001b[39m chroma_db = Chroma(\n\u001b[32m      5\u001b[39m     collection_name=\u001b[33m\"\u001b[39m\u001b[33mlabor_law\u001b[39m\u001b[33m\"\u001b[39m,\n\u001b[32m      6\u001b[39m     embedding_function=embeddings_openai,\n\u001b[32m      7\u001b[39m     persist_directory=\u001b[33m\"\u001b[39m\u001b[33m./chroma_db\u001b[39m\u001b[33m\"\u001b[39m,\n\u001b[32m      8\u001b[39m )\n",
      "\u001b[31mModuleNotFoundError\u001b[39m: No module named 'langchain_chroma'"
     ]
    }
   ],
   "source": [
    "from langchain_chroma import Chroma\n",
    "\n",
    "# 저장된 벡터 저장소를 가져오기\n",
    "chroma_db = Chroma(\n",
    "    collection_name=\"labor_law\",\n",
    "    embedding_function=embeddings_openai,\n",
    "    persist_directory=\"./chroma_db\",\n",
    ")"
   ]
  },
  {
   "cell_type": "code",
   "execution_count": null,
   "id": "05e0b822",
   "metadata": {},
   "outputs": [],
   "source": [
    "# 문서 개수 확인\n",
    "chroma_db._collection.count()"
   ]
  },
  {
   "cell_type": "markdown",
   "id": "04aefca3",
   "metadata": {},
   "source": [
    "`(3) 문서 검색`  \n",
    "- 유사도 검색\n",
    "    - 주어진 쿼리와 가장 유사한 문서를 반환\n",
    "    -  k=5는 상위 5개의 결과를 반환하도록 지정\n",
    "    - filter를 사용하여 특정 출처의 문서만 검색 가능"
   ]
  },
  {
   "cell_type": "code",
   "execution_count": null,
   "id": "90c36347",
   "metadata": {},
   "outputs": [],
   "source": [
    "query = \"'탄력 근로에 대해서 설명해주세요\"\n",
    "results = chroma_db.similarity_search(\n",
    "    query,\n",
    "    k=5,\n",
    "    filter={\"source\": \"./data/labor_law.pdf\"}\n",
    ")\n",
    "\n",
    "print(\"유사도 검색 결과:\")\n",
    "for doc in results:\n",
    "    print(f\"- {doc.page_content} [출처: {doc.metadata['source']}]\")\n",
    "    print(\"=\" * 100)"
   ]
  },
  {
   "cell_type": "markdown",
   "id": "a7cfc931",
   "metadata": {},
   "source": [
    "- 유사도 점수가 포함된 검색\n",
    "    - 유사도 점수를 함께 반환\n",
    "    - 점수가 낮을수록 더 유사한 것을 의미 (거리 기준으로 점수가 산정되기 때문)"
   ]
  },
  {
   "cell_type": "code",
   "execution_count": null,
   "id": "66f05840",
   "metadata": {},
   "outputs": [],
   "source": [
    "query = \"'탄력 근로에 대해서 설명해주세요\"\n",
    "results = chroma_db.similarity_search_with_score(\n",
    "    query,\n",
    "    k=5,\n",
    ")\n",
    "\n",
    "print(\"점수가 포함된 유사도 검색 결과:\\n\")\n",
    "for doc, score in results:\n",
    "    print(f\"- 점수: {score:.4f}\")\n",
    "    print(f\"  내용: {doc.page_content}\")\n",
    "    print(f\" 메타데이터: {doc.metadata}\")\n",
    "    print(\"=\" * 100)"
   ]
  },
  {
   "cell_type": "markdown",
   "id": "4c8d545d",
   "metadata": {},
   "source": [
    "### **2. FAISS(Facebook AI Similarity Search)**\n",
    "\n",
    "- 효율적인 벡터 유사도 검색 및 클러스터링을 위한 오픈소스 벡터 저장소 \n",
    "- `faiss-cpu` 패키지 설치"
   ]
  },
  {
   "cell_type": "markdown",
   "id": "deb7c5d5",
   "metadata": {},
   "source": [
    "`(1) 벡터 저장소 초기화`"
   ]
  },
  {
   "cell_type": "code",
   "execution_count": 15,
   "id": "31ab81cb",
   "metadata": {},
   "outputs": [
    {
     "ename": "ModuleNotFoundError",
     "evalue": "No module named 'faiss'",
     "output_type": "error",
     "traceback": [
      "\u001b[31m---------------------------------------------------------------------------\u001b[39m",
      "\u001b[31mModuleNotFoundError\u001b[39m                       Traceback (most recent call last)",
      "\u001b[36mCell\u001b[39m\u001b[36m \u001b[39m\u001b[32mIn[15]\u001b[39m\u001b[32m, line 2\u001b[39m\n\u001b[32m      1\u001b[39m \u001b[38;5;66;03m# 벡터 저장소 생성\u001b[39;00m\n\u001b[32m----> \u001b[39m\u001b[32m2\u001b[39m \u001b[38;5;28;01mimport\u001b[39;00m\u001b[38;5;250m \u001b[39m\u001b[34;01mfaiss\u001b[39;00m \n\u001b[32m      3\u001b[39m \u001b[38;5;28;01mfrom\u001b[39;00m\u001b[38;5;250m \u001b[39m\u001b[34;01mlangchain_community\u001b[39;00m\u001b[34;01m.\u001b[39;00m\u001b[34;01mdocstore\u001b[39;00m\u001b[34;01m.\u001b[39;00m\u001b[34;01min_memory\u001b[39;00m\u001b[38;5;250m \u001b[39m\u001b[38;5;28;01mimport\u001b[39;00m InMemoryDocstore\n\u001b[32m      4\u001b[39m \u001b[38;5;28;01mfrom\u001b[39;00m\u001b[38;5;250m \u001b[39m\u001b[34;01mlangchain_community\u001b[39;00m\u001b[34;01m.\u001b[39;00m\u001b[34;01mvectorstores\u001b[39;00m\u001b[38;5;250m \u001b[39m\u001b[38;5;28;01mimport\u001b[39;00m FAISS\n",
      "\u001b[31mModuleNotFoundError\u001b[39m: No module named 'faiss'"
     ]
    }
   ],
   "source": [
    "# 벡터 저장소 생성\n",
    "import faiss \n",
    "from langchain_community.docstore.in_memory import InMemoryDocstore\n",
    "from langchain_community.vectorstores import FAISS\n",
    "\n",
    "# FAISS 인덱스 초기화 (유클리드 거리 사용)\n",
    "faiss_index = faiss.IndexFlatL2(len(embeddings_openai.embed_query(\"안녕하세요.\"))) \n",
    "print(\"FAISS 인덱스 초기화 완료\")"
   ]
  },
  {
   "cell_type": "code",
   "execution_count": null,
   "id": "ab0312a4",
   "metadata": {},
   "outputs": [],
   "source": [
    "from langchain_community.vectorstores import FAISS\n",
    "\n",
    "# 문서로부터 FAISS 벡터 저장소 생성\n",
    "faiss_db = FAISS.from_documents(\n",
    "    documents=chunks,\n",
    "    embedding=embeddings_openai,\n",
    ")\n",
    "\n",
    "# 저장된 문서의 갯수 확인\n",
    "print(f\"저장된 문서 수: {faiss_db.index.ntotal}\")"
   ]
  },
  {
   "cell_type": "code",
   "execution_count": null,
   "id": "bcb0ae99",
   "metadata": {},
   "outputs": [],
   "source": [
    "# FAISS 인덱스 저장하기\n",
    "faiss_db.save_local(\"./faiss_index\", index_name=\"labor_law_pdf\")\n",
    "print(\"FAISS 인덱스 저장 완료\")"
   ]
  },
  {
   "cell_type": "markdown",
   "id": "27650173",
   "metadata": {},
   "source": [
    "`(2) 벡터 저장소 로드`  "
   ]
  },
  {
   "cell_type": "code",
   "execution_count": null,
   "id": "064807f1",
   "metadata": {},
   "outputs": [],
   "source": [
    "from langchain_community.vectorstores import FAISS\n",
    "    \n",
    "# FAISS 인덱스 불러오기\n",
    "faiss_db = FAISS.load_local(\n",
    "    \"./faiss_index\", \n",
    "    embeddings=embeddings_openai, \n",
    "    index_name=\"labor_law_pdf\",\n",
    "    allow_dangerous_deserialization=True,  \n",
    ")\n",
    "\n",
    "print(\"FAISS 인덱스 불러오기 완료\")"
   ]
  },
  {
   "cell_type": "code",
   "execution_count": null,
   "id": "55fb241f",
   "metadata": {},
   "outputs": [],
   "source": [
    "# 저장된 문서의 갯수 확인\n",
    "print(f\"저장된 문서 수: {faiss_db.index.ntotal}\")"
   ]
  },
  {
   "cell_type": "markdown",
   "id": "6006cd4d",
   "metadata": {},
   "source": [
    "`(3) 문서 검색`  \n",
    "- 유사도 검색\n",
    "    - 주어진 쿼리와 가장 유사한 문서를 반환\n",
    "    -  k=5는 상위 5개의 결과를 반환하도록 지정\n",
    "    - filter를 사용하여 특정 출처의 문서만 검색 가능"
   ]
  },
  {
   "cell_type": "code",
   "execution_count": null,
   "id": "7752de8e",
   "metadata": {},
   "outputs": [],
   "source": [
    "query = \"'탄력 근로에 대해서 설명해주세요\"\n",
    "results = faiss_db.similarity_search(\n",
    "    query,\n",
    "    k=5,\n",
    "    filter={\"source\": \"./data/labor_law.pdf\"}\n",
    ")\n",
    "\n",
    "print(\"유사도 검색 결과:\")\n",
    "for doc in results:\n",
    "    print(f\"- {doc.page_content} [출처: {doc.metadata['source']}]\")\n",
    "    print(\"=\" * 100)"
   ]
  },
  {
   "cell_type": "markdown",
   "id": "cda1ba35",
   "metadata": {},
   "source": [
    "- 유사도 점수가 포함된 검색\n",
    "    - 유사도 점수를 함께 반환\n",
    "    - 점수가 낮을수록 더 유사한 것을 의미 (거리 기준으로 점수가 산정되기 때문)"
   ]
  },
  {
   "cell_type": "code",
   "execution_count": null,
   "id": "5b4a5ca2",
   "metadata": {},
   "outputs": [],
   "source": [
    "query = \"'탄력 근로에 대해서 설명해주세요\"\n",
    "results = faiss_db.similarity_search_with_score(\n",
    "    query,\n",
    "    k=5,\n",
    ")\n",
    "\n",
    "print(\"점수가 포함된 유사도 검색 결과:\\n\")\n",
    "for doc, score in results:\n",
    "    print(f\"- 점수: {score:.4f}\")\n",
    "    print(f\"  내용: {doc.page_content}\")\n",
    "    print(f\" 메타데이터: {doc.metadata}\")\n",
    "    print(\"=\" * 100)"
   ]
  },
  {
   "cell_type": "markdown",
   "id": "fd1114cf",
   "metadata": {},
   "source": [
    "# 벡터 저장소 기반 RAG 검색기 (Retriever)\n",
    "\n"
   ]
  },
  {
   "cell_type": "markdown",
   "id": "5cbd1b80",
   "metadata": {},
   "source": [
    "`(1) Top K`"
   ]
  },
  {
   "cell_type": "code",
   "execution_count": 25,
   "id": "978859b4",
   "metadata": {},
   "outputs": [
    {
     "ename": "NameError",
     "evalue": "name 'faiss_db' is not defined",
     "output_type": "error",
     "traceback": [
      "\u001b[31m---------------------------------------------------------------------------\u001b[39m",
      "\u001b[31mNameError\u001b[39m                                 Traceback (most recent call last)",
      "\u001b[36mCell\u001b[39m\u001b[36m \u001b[39m\u001b[32mIn[25]\u001b[39m\u001b[32m, line 2\u001b[39m\n\u001b[32m      1\u001b[39m \u001b[38;5;66;03m# 이 as_retriever 객체는 러너블이 된다.\u001b[39;00m\n\u001b[32m----> \u001b[39m\u001b[32m2\u001b[39m retriever = \u001b[43mfaiss_db\u001b[49m.as_retriever(\n\u001b[32m      3\u001b[39m     search_kwargs={\u001b[33m\"\u001b[39m\u001b[33mk\u001b[39m\u001b[33m\"\u001b[39m: \u001b[32m2\u001b[39m},\n\u001b[32m      4\u001b[39m )\n\u001b[32m      6\u001b[39m query = \u001b[33m\"\u001b[39m\u001b[33m탄력 근로에 대해서 설명해주세요\u001b[39m\u001b[33m\"\u001b[39m\n\u001b[32m      7\u001b[39m retrieved_docs = retriever.invoke(query) \u001b[38;5;66;03m# retriever 러너블이기때문에 invoke가능\u001b[39;00m\n",
      "\u001b[31mNameError\u001b[39m: name 'faiss_db' is not defined"
     ]
    }
   ],
   "source": [
    "# 이 as_retriever 객체는 러너블이 된다.\n",
    "retriever = faiss_db.as_retriever(\n",
    "    search_kwargs={\"k\": 2},\n",
    ")\n",
    "\n",
    "query = \"탄력 근로에 대해서 설명해주세요\"\n",
    "retrieved_docs = retriever.invoke(query) # retriever 러너블이기때문에 invoke가능\n",
    "\n",
    "print(f\"쿼리: {query}\")\n",
    "print(\"검색 결과:\")\n",
    "for i, doc in enumerate(retrieved_docs, 1):\n",
    "    print(f\"-{i}-\\n{doc.page_content}\\n[출처: {doc.metadata['source']}]\")\n",
    "    print(\"-\" * 100)"
   ]
  },
  {
   "cell_type": "markdown",
   "id": "e25ee428",
   "metadata": {},
   "source": [
    "`(2) 임계값 지정`\n",
    "- Similarity score threshold (기준 스코어 이상인 문서를 대상으로 추출)"
   ]
  },
  {
   "cell_type": "code",
   "execution_count": null,
   "id": "2a8987f4",
   "metadata": {},
   "outputs": [],
   "source": [
    "from langchain_community.utils.math import cosine_similarity\n",
    "\n",
    "retriever = faiss_db.as_retriever(\n",
    "    search_type='similarity_score_threshold',       # cosine 유사도\n",
    "    search_kwargs={'score_threshold': 0.3, 'k':5},  # 0.3 이상인 문서를 추출\n",
    ")\n",
    "\n",
    "query = \"탄력 근로에 대해서 설명해주세요\"\n",
    "\n",
    "# 쿼리와 유사한 문서 검색\n",
    "retrieved_docs = retriever.invoke(query)\n",
    "\n",
    "print(f\"쿼리: {query}\")\n",
    "print(\"검색 결과:\")\n",
    "for i, doc in enumerate(retrieved_docs, 1):\n",
    "    score = cosine_similarity(\n",
    "        [embeddings_openai.embed_query(query)], \n",
    "        [embeddings_openai.embed_query(doc.page_content)]\n",
    "        )[0][0]\n",
    "    print(f\"-{i}-\\n{doc.page_content}\\n[유사도: {score}]\")\n",
    "    print(\"-\" * 100)"
   ]
  },
  {
   "cell_type": "markdown",
   "id": "5f6d4655",
   "metadata": {},
   "source": [
    "`(3) MMR(Maximal Marginal Relevance) 검색`"
   ]
  },
  {
   "cell_type": "code",
   "execution_count": null,
   "id": "730ccc73",
   "metadata": {},
   "outputs": [],
   "source": [
    "# MMR - 다양성 고려 (lambda_mult 작을수록 더 다양하게 추출)\n",
    "retriever = faiss_db.as_retriever(\n",
    "    search_type='mmr',\n",
    "    search_kwargs={\n",
    "        'k': 3,                 # 검색할 문서의 수\n",
    "        'fetch_k': 8,           # mmr 알고리즘에 전달할 문서의 수 (fetch_k > k)\n",
    "        'lambda_mult': 0.5,     # 다양성을 고려하는 정도 (1은 최소 다양성, 0은 최대 다양성을 의미. 기본값은 0.5)\n",
    "        },\n",
    ")\n",
    "\n",
    "\n",
    "query = \"탄력 근로에 대해서 설명해주세요\"\n",
    "\n",
    "# 쿼리와 유사한 문서 검색\n",
    "retrieved_docs = retriever.invoke(query)\n",
    "\n",
    "print(f\"쿼리: {query}\")\n",
    "print(\"검색 결과:\")\n",
    "for i, doc in enumerate(retrieved_docs, 1):\n",
    "    score = cosine_similarity(\n",
    "        [embeddings_openai.embed_query(query)], \n",
    "        [embeddings_openai.embed_query(doc.page_content)]\n",
    "        )[0][0]\n",
    "    print(f\"-{i}-\\n{doc.page_content}\\n[유사도: {score}]\")\n",
    "    print(\"-\" * 100)"
   ]
  },
  {
   "cell_type": "markdown",
   "id": "3cc95823",
   "metadata": {},
   "source": [
    "# Naive RAG 구현 "
   ]
  },
  {
   "cell_type": "markdown",
   "id": "5d70691e",
   "metadata": {},
   "source": [
    "`(1) 벡터 저장소 로드`\n",
    "- `Chroma` 벡터 저장소를 로드"
   ]
  },
  {
   "cell_type": "code",
   "execution_count": null,
   "id": "3b684474",
   "metadata": {},
   "outputs": [],
   "source": [
    "from langchain_chroma import Chroma\n",
    "from langchain_openai import OpenAIEmbeddings\n",
    "\n",
    "# OpenAI 임베딩 모델 생성\n",
    "embeddings_openai = OpenAIEmbeddings(\n",
    "    model=\"text-embedding-3-small\",  # 사용할 모델 이름\n",
    "    )\n",
    "\n",
    "# 저장된 벡터 저장소를 가져오기\n",
    "chroma_db = Chroma(\n",
    "    collection_name=\"labor_law\",\n",
    "    embedding_function=embeddings_openai,\n",
    "    persist_directory=\"./chroma_db\",\n",
    ")\n",
    "\n",
    "# 문서 개수 확인\n",
    "print(f\"저장된 문서 수: {chroma_db._collection.count()}\")"
   ]
  },
  {
   "cell_type": "markdown",
   "id": "428b2f7d",
   "metadata": {},
   "source": [
    "`(2) 검색기(Retriever) 초기화`\n",
    "\n",
    "- mmr 검색을 사용하는 Retriever 사용\n",
    "- 다양성을 높이는 설정을 사용"
   ]
  },
  {
   "cell_type": "code",
   "execution_count": null,
   "id": "ad3b280f",
   "metadata": {},
   "outputs": [],
   "source": [
    "# mmr 검색기 생성\n",
    "retriever = chroma_db.as_retriever(\n",
    "    search_type='mmr',\n",
    "    search_kwargs={\n",
    "        'k': 5,                  # 검색할 문서의 수\n",
    "        'fetch_k': 10,           # mmr 알고리즘에 전달할 문서의 수 (fetch_k > k)\n",
    "        'lambda_mult': 0.3,      # 다양성을 고려하는 정도 (1은 최소 다양성, 0은 최대 다양성을 의미. 기본값은 0.5)\n",
    "        },\n",
    ")"
   ]
  },
  {
   "cell_type": "code",
   "execution_count": null,
   "id": "36743877",
   "metadata": {},
   "outputs": [],
   "source": [
    "# 검색 테스트 \n",
    "query = \"탄력 근로에 대해서 설명해주세요\"\n",
    "\n",
    "# 쿼리와 유사한 문서 검색\n",
    "retrieved_docs = retriever.invoke(query)\n",
    "\n",
    "print(f\"쿼리: {query}\")\n",
    "print(\"검색 결과:\")\n",
    "for i, doc in enumerate(retrieved_docs, 1):\n",
    "    print(f\"-{i}-\\n{doc.page_content}\\n[출처: {doc.metadata['source']}]\")\n",
    "    print(\"-\" * 100)"
   ]
  },
  {
   "cell_type": "markdown",
   "id": "3024d5d9",
   "metadata": {},
   "source": [
    "`(3) RAG 프롬프트 구성`\n",
    "\n",
    "- 작성 기준: \n",
    "    - LangChain의 ChatPromptTemplate 클래스 사용\n",
    "    - 변수 처리는 {context}, {question} 형식 사용\n",
    "    - 답변은 한글로 출력되도록 프롬프트 작성\n",
    "    \n",
    "- 아래 템플릿 코드를 기반으로 다음 내용을 참고하여 작성합니다. \n",
    "\n",
    "    1. 프롬프트 구성요소:\n",
    "        - 작업 지침\n",
    "        - 컨텍스트 영역\n",
    "        - 질문 영역\n",
    "        - 답변 형식 가이드\n",
    "\n",
    "    2. 작업 지침:\n",
    "        - 컨텍스트 기반 답변 원칙\n",
    "        - 외부 지식 사용 제한\n",
    "        - 불확실성 처리 방법\n",
    "        - 답변 불가능한 경우의 처리 방법\n",
    "\n",
    "    3. 답변 형식:\n",
    "        - 핵심 답변 섹션\n",
    "        - 근거 제시 섹션\n",
    "        - 추가 설명 섹션 (필요시)\n",
    "\n",
    "    4. 제약사항 반영:\n",
    "        - 답변은 사실에 기반해야 함\n",
    "        - 추측이나 가정을 최소화해야 함\n",
    "        - 명확한 근거 제시가 필요함\n",
    "        - 구조화된 형태로 작성되어야 함"
   ]
  },
  {
   "cell_type": "code",
   "execution_count": null,
   "id": "f14c1634",
   "metadata": {},
   "outputs": [],
   "source": [
    "# Prompt 템플릿 (기본 예시)\n",
    "from langchain_core.prompts import ChatPromptTemplate\n",
    "\n",
    "template = \"\"\"Answer the question based only on the following context.\n",
    "\n",
    "[Context]\n",
    "{context}\n",
    "\n",
    "[Question] \n",
    "{question}\n",
    "\n",
    "[Answer]\n",
    "\"\"\"\n",
    "\n",
    "prompt = ChatPromptTemplate.from_template(template)\n",
    "\n",
    "# 템플릿 출력\n",
    "prompt.pretty_print()"
   ]
  },
  {
   "cell_type": "code",
   "execution_count": null,
   "id": "367b455b",
   "metadata": {},
   "outputs": [],
   "source": [
    "# Prompt 템플릿 (커스텀 예시)\n",
    "from langchain_core.prompts import ChatPromptTemplate\n",
    "\n",
    "template = \"\"\"주어진 컨텍스트를 기반으로 질문에 답변하시오.\n",
    "\n",
    "[지침]\n",
    "- 컨텍스트에 있는 정보만을 사용하여 답변할 것\n",
    "- 외부 지식이나 정보를 사용하지 말 것\n",
    "- 컨텍스트에서 답을 찾을 수 없는 경우 \"주어진 정보만으로는 답변하기 어렵습니다.\"라고 응답할 것\n",
    "- 불확실한 경우 명확히 그 불확실성을 표현할 것\n",
    "- 답변은 논리적이고 구조화된 형태로 제공할 것\n",
    "- 답변은 한국어를 사용할 것 \n",
    "\n",
    "[컨텍스트]\n",
    "{context}\n",
    "\n",
    "[질문]\n",
    "{question}\n",
    "\n",
    "[답변 형식]\n",
    "1. 핵심 답변: (질문에 대한 직접적인 답변)\n",
    "2. 근거: (컨텍스트에서 발견된 관련 정보)\n",
    "3. 추가 설명: (필요한 경우 부연 설명 제공)\n",
    "\n",
    "[답변]\n",
    "\"\"\"\n",
    "\n",
    "prompt = ChatPromptTemplate.from_template(template)\n",
    "\n",
    "# 템플릿 출력\n",
    "prompt.pretty_print()"
   ]
  },
  {
   "cell_type": "markdown",
   "id": "ad0f5cf5",
   "metadata": {},
   "source": [
    "`(4) RAG 체인 구성`\n",
    "- LangChain의 LCEL 문법을 사용\n",
    "- 검색 결과를 프롬프트의 'context'로 전달하고,\n",
    "- 사용자가 입력한 질문을 그래도 프롬프트의 'question'에 전달\n",
    "- LLM 설정:\n",
    "    - ChatOpenAI 사용 ('gpt-4.1-mini' 모델)\n",
    "    - temperature: 답변의 일관성을 가져가는 설정값을 사용 \n",
    "    - 기타 필요한 설정 \n",
    "- 출력 파서: 문자열 부분만 출력되도록 구성 "
   ]
  },
  {
   "cell_type": "code",
   "execution_count": null,
   "id": "2e4121f9",
   "metadata": {},
   "outputs": [],
   "source": [
    "from langchain_core.runnables import RunnablePassthrough, RunnableParallel\n",
    "from langchain_core.output_parsers import StrOutputParser\n",
    "from langchain_openai import ChatOpenAI\n",
    "\n",
    "# LLM 설정\n",
    "llm = ChatOpenAI(\n",
    "    model=\"gpt-4.1-mini\",\n",
    "    temperature=0.7,\n",
    "    top_p=0.9,\n",
    ")\n",
    "\n",
    "# 문서 포맷팅\n",
    "def format_docs(docs):\n",
    "    return \"\\n\\n\".join([f\"{doc.page_content}\" for doc in docs])\n",
    "\n",
    "# RAG 체인 생성\n",
    "rag_chain = (\n",
    "    RunnableParallel(\n",
    "        {\n",
    "            \"context\": retriever | format_docs, \n",
    "            \"question\": RunnablePassthrough()\n",
    "        }\n",
    "    )\n",
    "    | prompt\n",
    "    | llm\n",
    "    | StrOutputParser()\n",
    ")\n",
    "\n",
    "# 체인 실행\n",
    "query = \"탄력 근로에 대해서 설명해주세요\"\n",
    "output = rag_chain.invoke(query)\n",
    "\n",
    "print(f\"쿼리: {query}\")\n",
    "print(\"답변:\")\n",
    "print(output)"
   ]
  },
  {
   "cell_type": "markdown",
   "id": "a614b56a",
   "metadata": {},
   "source": [
    "![LangServe Screenshot](https://raw.githubusercontent.com/tsdata/image_files/main/202505/rag_screenshot_0001.png)"
   ]
  },
  {
   "cell_type": "markdown",
   "id": "4bca2de1",
   "metadata": {},
   "source": [
    "`(5) LangServe 서버 구성`\n",
    "- app/rag.py 파일을 생성하여 RAG 체인과 관련된 코드를 작성함.\n",
    "\n",
    "    ```python\n",
    "    # app/rag.py\n",
    "    from dotenv import load_dotenv\n",
    "\n",
    "    from langchain_core.runnables import RunnablePassthrough\n",
    "    from langchain_core.output_parsers import StrOutputParser\n",
    "    from langchain_openai import ChatOpenAI, OpenAIEmbeddings\n",
    "    from langchain_chroma import Chroma\n",
    "    from langchain_core.prompts import ChatPromptTemplate\n",
    "\n",
    "    # 환경변수 로드\n",
    "    load_dotenv()\n",
    "\n",
    "\n",
    "    ######################\n",
    "    #  RAG 체인 구성\n",
    "    ######################\n",
    "\n",
    "    # OpenAI 임베딩 모델 생성\n",
    "    embeddings_openai = OpenAIEmbeddings(\n",
    "        model=\"text-embedding-3-small\",  # 사용할 모델 이름\n",
    "        )\n",
    "\n",
    "    # 저장된 벡터 저장소를 가져오기\n",
    "    chroma_db = Chroma(\n",
    "        collection_name=\"labor_law\",\n",
    "        embedding_function=embeddings_openai,\n",
    "        persist_directory=\"./chroma_db\",\n",
    "    )\n",
    "\n",
    "    print(\"Chroma DB loaded\")\n",
    "    print(chroma_db._collection.count())  # 벡터 저장소에 있는 문서 수 출력\n",
    "\n",
    "    # 검색기 초기화å\n",
    "    retriever = chroma_db.as_retriever(\n",
    "        search_type='mmr',\n",
    "        search_kwargs={\n",
    "            'k': 5,                  # 검색할 문서의 수\n",
    "            'fetch_k': 10,           # mmr 알고리즘에 전달할 문서의 수 (fetch_k > k)\n",
    "            'lambda_mult': 0.3,      # 다양성을 고려하는 정도 (1은 최소 다양성, 0은 최대 다양성을 의미. 기본값은 0.5)\n",
    "            },\n",
    "    )\n",
    "\n",
    "    # Prompt 템플릿 생성\n",
    "    template = \"\"\"주어진 컨텍스트를 기반으로 질문에 답변하시오.\n",
    "\n",
    "    [지침]\n",
    "    - 컨텍스트에 있는 정보만을 사용하여 답변할 것\n",
    "    - 외부 지식이나 정보를 사용하지 말 것\n",
    "    - 컨텍스트에서 답을 찾을 수 없는 경우 \"주어진 정보만으로는 답변하기 어렵습니다.\"라고 응답할 것\n",
    "    - 불확실한 경우 명확히 그 불확실성을 표현할 것\n",
    "    - 답변은 논리적이고 구조화된 형태로 제공할 것\n",
    "    - 답변은 한국어를 사용할 것 \n",
    "\n",
    "    [컨텍스트]\n",
    "    {context}\n",
    "\n",
    "    [질문]\n",
    "    {question}\n",
    "\n",
    "    [답변 형식]\n",
    "    1. 핵심 답변: (질문에 대한 직접적인 답변)\n",
    "    2. 근거: (컨텍스트에서 발견된 관련 정보)\n",
    "    3. 추가 설명: (필요한 경우 부연 설명 제공)\n",
    "\n",
    "    [답변]\n",
    "    \"\"\"\n",
    "\n",
    "    prompt = ChatPromptTemplate.from_template(template)\n",
    "\n",
    "    # LLM 설정\n",
    "    llm = ChatOpenAI(\n",
    "        model=\"gpt-4.1-mini\",\n",
    "        temperature=0.7,\n",
    "        top_p=0.9,\n",
    "    )\n",
    "\n",
    "    # 문서 포맷팅\n",
    "    def format_docs(docs):\n",
    "        return \"\\n\\n\".join([f\"{doc.page_content}\" for doc in docs])\n",
    "\n",
    "    # RAG 체인 생성\n",
    "\n",
    "    rag_chain = (\n",
    "        {\"context\": retriever | format_docs, \"question\": RunnablePassthrough()}\n",
    "        | prompt\n",
    "        | llm\n",
    "        | StrOutputParser()\n",
    "    )\n",
    "\n",
    "    ```\n",
    "\n",
    "\n",
    "- server.py 파일에 새로운 엔드포인트를 추가하여 RAG 체인을 호출하도록 설정함.\n",
    "\n",
    "    ```python\n",
    "    # app/server.py\n",
    "    from fastapi import FastAPI\n",
    "    from dotenv import load_dotenv\n",
    "    from app.rag import rag_chain\n",
    "    from langchain_openai import ChatOpenAI\n",
    "    from langserve import add_routes\n",
    "\n",
    "    # 환경변수 로드\n",
    "    load_dotenv()\n",
    "\n",
    "    # FastAPI 서버를 설정\n",
    "    app = FastAPI(\n",
    "        title=\"LangChain Server\",\n",
    "        version=\"1.0\",\n",
    "        description=\"Spin up a simple api server using Langchain's Runnable interfaces\",\n",
    "    )\n",
    "\n",
    "    # 라우팅 설정\n",
    "    add_routes(\n",
    "        app,\n",
    "        ChatOpenAI(model=\"gpt-4.1-mini\"),\n",
    "        path=\"/openai\",   # OpenAI 모델에 대한 경로\n",
    "    )\n",
    "\n",
    "    add_routes(\n",
    "        app,\n",
    "        rag_chain,\n",
    "        path=\"/rag\",  # RAG 체인에 대한 경로\n",
    "    )\n",
    "\n",
    "    # FastAPI 서버 실행\n",
    "    if __name__ == \"__main__\":\n",
    "        import uvicorn\n",
    "\n",
    "        uvicorn.run(app, host=\"localhost\", port=8000)\n",
    "    ```"
   ]
  },
  {
   "cell_type": "markdown",
   "id": "266f4f28",
   "metadata": {},
   "source": [
    "![LangServe Screenshot](https://raw.githubusercontent.com/tsdata/image_files/main/202505/rag_screenshot_0002.png)"
   ]
  }
 ],
 "metadata": {
  "kernelspec": {
   "display_name": ".venv",
   "language": "python",
   "name": "python3"
  },
  "language_info": {
   "codemirror_mode": {
    "name": "ipython",
    "version": 3
   },
   "file_extension": ".py",
   "mimetype": "text/x-python",
   "name": "python",
   "nbconvert_exporter": "python",
   "pygments_lexer": "ipython3",
   "version": "3.12.10"
  }
 },
 "nbformat": 4,
 "nbformat_minor": 5
}
